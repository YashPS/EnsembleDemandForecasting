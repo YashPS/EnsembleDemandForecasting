{
 "cells": [
  {
   "cell_type": "code",
   "execution_count": 65,
   "metadata": {
    "collapsed": true,
    "pycharm": {
     "name": "#%%\n"
    }
   },
   "outputs": [],
   "source": [
    "import os\n",
    "from copy import deepcopy\n",
    "from datetime import datetime\n",
    "from os import listdir\n",
    "\n",
    "import tensorflow as tf\n",
    "import joblib\n",
    "import matplotlib.pyplot as plt\n",
    "import numpy as np\n",
    "import pandas as pd\n",
    "import xgboost as xgb\n",
    "import yaml\n",
    "from keras import models\n",
    "from keras import optimizers\n",
    "from keras.callbacks import EarlyStopping\n",
    "from keras.layers import Dense, LSTM, Dropout\n",
    "from keras.models import Sequential\n",
    "from sklearn.metrics import mean_squared_error as MSE\n",
    "from sklearn.model_selection import train_test_split\n",
    "from sklearn.preprocessing import StandardScaler\n",
    "from statsmodels.tsa.stattools import adfuller"
   ]
  },
  {
   "cell_type": "code",
   "execution_count": 3,
   "outputs": [],
   "source": [
    "def get_conf(conf_path):\n",
    "    \"\"\"Reads configuration file\"\"\"\n",
    "    with open(rf'{conf_path}') as conf_file:\n",
    "        conf = yaml.safe_load(conf_file)\n",
    "        return conf"
   ],
   "metadata": {
    "collapsed": false,
    "pycharm": {
     "name": "#%%\n"
    }
   }
  },
  {
   "cell_type": "code",
   "execution_count": 4,
   "outputs": [],
   "source": [
    "def difference_data(data, d, label, inverse=False):\n",
    "\n",
    "    for i in range(d):\n",
    "        if not inverse:\n",
    "            data[f'{label}'] = data[f'{label}'].diff()\n",
    "        else:\n",
    "            data[f'{label}'] += data[f'{label}'].shift(1)\n",
    "    return data"
   ],
   "metadata": {
    "collapsed": false,
    "pycharm": {
     "name": "#%%\n"
    }
   }
  },
  {
   "cell_type": "code",
   "execution_count": 5,
   "metadata": {
    "collapsed": false,
    "pycharm": {
     "name": "#%%\n"
    }
   },
   "outputs": [],
   "source": [
    "def SMAPE(forecast, actual):\n",
    "    \"\"\"Returns the Symmetric Mean Absolute Percentage Error between two Series\"\"\"\n",
    "    if len(actual.shape)!=2:\n",
    "        actual = actual.reshape(actual.shape[0],1)\n",
    "    masked_arr = ~((forecast==0)&(actual==0))\n",
    "    diff = abs(forecast[masked_arr] - actual[masked_arr])\n",
    "    avg = (abs(forecast[masked_arr]) + abs(actual[masked_arr]))/2\n",
    "\n",
    "    smape_score = str(round(sum(diff/avg)/len(forecast) * 100, 2))\n",
    "\n",
    "    print('SMAPE Error Score: ' + smape_score + ' %')\n",
    "    return smape_score"
   ]
  },
  {
   "cell_type": "code",
   "execution_count": 6,
   "outputs": [],
   "source": [
    "def plot_pred_vs_act(actual, predicted, model_type):\n",
    "    plt.rcParams[\"figure.figsize\"] = [16,9]\n",
    "    plt.plot(actual, label='Actual')\n",
    "    plt.plot(predicted, label='Predicted')\n",
    "    plt.legend()\n",
    "    plt.title(f'Predicted vs Actual Sales for {model_type} Model')"
   ],
   "metadata": {
    "collapsed": false,
    "pycharm": {
     "name": "#%%\n"
    }
   }
  },
  {
   "cell_type": "code",
   "execution_count": 7,
   "metadata": {
    "collapsed": false,
    "pycharm": {
     "name": "#%%\n"
    }
   },
   "outputs": [],
   "source": [
    "def Fuller(TimeSeries):\n",
    "    \"\"\"Provides Fuller test results for TimeSeries\"\"\"\n",
    "    stationary_test = adfuller(TimeSeries)\n",
    "    print('ADF Statistic: %f' % stationary_test[0])\n",
    "    print('p-value: %f' % stationary_test[1])\n",
    "    print('Critical Values:')\n",
    "    for key, value in stationary_test[4].items():\n",
    "        print('\\t%s: %.3f' % (key, value))"
   ]
  },
  {
   "cell_type": "code",
   "execution_count": 8,
   "metadata": {
    "collapsed": false,
    "pycharm": {
     "name": "#%%\n"
    }
   },
   "outputs": [],
   "source": [
    "def xboost(xgb_params, xgb_model_dir, x_train=None, y_train=None, x_test=None, y_test=None, training_req=1):\n",
    "    \"\"\"Trains xgboost model and returns it\"\"\"\n",
    "\n",
    "    folder_name = datetime.now().strftime(\"%m-%d-%Y-%H-%M-%S\")\n",
    "    file_name = f'xgb_model_{folder_name}.json'\n",
    "\n",
    "    dtrain = xgb.DMatrix(x_train, label=y_train, feature_names=list(x_train.columns))\n",
    "    dtest = xgb.DMatrix(x_test, label=y_test, feature_names=list(x_test.columns))\n",
    "\n",
    "    if training_req:\n",
    "\n",
    "        params = {'max_depth':xgb_params['XGB_MAX_DEPTH'],\n",
    "                  'eta':xgb_params['XGB_ETA'],\n",
    "                  'silent':xgb_params['XGB_SILENT'],\n",
    "                'subsample':xgb_params['XGB_SUBSAMPLE']}\n",
    "        num_rounds = xgb_params['XGB_NUM_ROUNDS']\n",
    "\n",
    "        xgb_model = xgb.train(params, dtrain, num_rounds)\n",
    "\n",
    "        # save\n",
    "        xgb_model.save_model(xgb_model_dir+file_name)\n",
    "\n",
    "    else:\n",
    "        sorted_xgb_models = [x for x in listdir(xgb_model_dir) if 'xgb_' in str(x)]\n",
    "        sorted_xgb_models.sort(reverse=True)\n",
    "        xgb_model = xgb.Booster()\n",
    "        xgb_model.load_model(xgb_model_dir+str(sorted_xgb_models[0]))\n",
    "\n",
    "\n",
    "    return xgb_model, dtest"
   ]
  },
  {
   "cell_type": "code",
   "execution_count": 9,
   "metadata": {
    "collapsed": false,
    "pycharm": {
     "name": "#%%\n"
    }
   },
   "outputs": [],
   "source": [
    "def lstm_model(params,lstm_model_dir, x_train=None, y_train=None, x_valid=None, y_valid=None, training_req=1):\n",
    "\n",
    "    folder_name = datetime.now().strftime(\"%m-%d-%Y-%H-%M-%S\")\n",
    "    save_path = f'model-{folder_name}'\n",
    "\n",
    "    if training_req:\n",
    "        callback = EarlyStopping(monitor='val_loss', patience=2)\n",
    "        model_lstm = Sequential()\n",
    "        model_lstm.add(LSTM(params['LSTM_NODES'], activation='relu', input_shape=(x_train.shape[1], x_train.shape[2])))\n",
    "        model_lstm.add(Dense(1))\n",
    "        model_lstm.compile(loss='mse', optimizer=optimizers.Adam(conf['LSTM_PARAMS']['LSTM_LR']))\n",
    "        model_lstm.summary()\n",
    "        lstm_history = model_lstm.fit(\n",
    "            x_train,\n",
    "            y_train,\n",
    "            validation_data=(x_valid, y_valid),\n",
    "            epochs=conf['LSTM_PARAMS']['LSTM_EPOCHS'],\n",
    "            callbacks=callback,\n",
    "            verbose=True\n",
    "        )\n",
    "        model_lstm.save(lstm_model_dir+save_path)\n",
    "\n",
    "    else:\n",
    "        fnf = listdir(lstm_model_dir)\n",
    "        sorted_lstm_models = [x for x in fnf if ('model' in str(x)) & ('xgb' not in str(x))]\n",
    "        sorted_lstm_models.sort(reverse=True)\n",
    "        model_lstm = models.load_model(lstm_model_dir+str(sorted_lstm_models[0]))\n",
    "\n",
    "    return model_lstm\n"
   ]
  },
  {
   "cell_type": "code",
   "execution_count": 10,
   "outputs": [],
   "source": [
    "def lstm_model2(params,lstm_model_dir, train_gen, eval_gen, shape, training_req=1):\n",
    "\n",
    "    folder_name = datetime.now().strftime(\"%m-%d-%Y-%H-%M-%S\")\n",
    "    save_path = f'model-{folder_name}'\n",
    "\n",
    "    if training_req:\n",
    "        callback = EarlyStopping(monitor='val_loss', patience=2)\n",
    "        model_lstm = Sequential()\n",
    "        model_lstm.add(LSTM(params['LSTM_NODES'], activation='relu', input_shape=shape, return_sequences=True))\n",
    "        model_lstm.add(Dropout)\n",
    "        model_lstm.add(LSTM(params['LSTM_NODES']//2, activation='relu', return_sequences=False))\n",
    "\n",
    "        model_lstm.add(Dense(1))\n",
    "        model_lstm.compile(loss='mse', optimizer=optimizers.Adam(conf['LSTM_PARAMS']['LSTM_LR']))\n",
    "        model_lstm.summary()\n",
    "        lstm_history = model_lstm.fit(\n",
    "            train_gen,\n",
    "            validation_data=eval_gen,\n",
    "            epochs=conf['LSTM_PARAMS']['LSTM_EPOCHS'],\n",
    "            callbacks=callback,\n",
    "            verbose=True\n",
    "        )\n",
    "        model_lstm.save(lstm_model_dir+save_path)\n",
    "\n",
    "    else:\n",
    "        fnf = listdir(lstm_model_dir)\n",
    "        sorted_lstm_models = [x for x in fnf if ('model' in str(x)) & ('xgb' not in str(x))]\n",
    "        sorted_lstm_models.sort(reverse=True)\n",
    "        model_lstm = models.load_model(lstm_model_dir+str(sorted_lstm_models[0]))\n",
    "\n",
    "    return model_lstm"
   ],
   "metadata": {
    "collapsed": false,
    "pycharm": {
     "name": "#%%\n"
    }
   }
  },
  {
   "cell_type": "code",
   "execution_count": 11,
   "metadata": {
    "collapsed": false,
    "pycharm": {
     "name": "#%%\n"
    }
   },
   "outputs": [],
   "source": [
    "def read_data(path, date_index_col, numeric_cols=None):\n",
    "    if path:\n",
    "        df = pd.read_csv(path, index_col=date_index_col, infer_datetime_format=True)\n",
    "        df.index = pd.to_datetime(df.index)\n",
    "        if numeric_cols:\n",
    "            for col in numeric_cols:\n",
    "                df[col] = df[col].astype('int16')\n",
    "        return df"
   ]
  },
  {
   "cell_type": "code",
   "execution_count": 12,
   "metadata": {
    "collapsed": false,
    "pycharm": {
     "name": "#%%\n"
    }
   },
   "outputs": [],
   "source": [
    "# Prepare data by aggregating according to config\n",
    "def data_preprocessing(data, grouped_cols, label_col, date_col='date'):\n",
    "    # Rearrange dataset so we can apply shift methods\n",
    "    data = data.reset_index()\n",
    "    data = data.sort_values(date_col).groupby(grouped_cols, as_index=False)\n",
    "    data = data.agg({f'{label_col}':['mean']})\n",
    "    data.columns = grouped_cols + [label_col]\n",
    "    return data\n"
   ]
  },
  {
   "cell_type": "code",
   "execution_count": 13,
   "metadata": {
    "collapsed": false,
    "pycharm": {
     "name": "#%%\n"
    }
   },
   "outputs": [],
   "source": [
    "def feature_engineering(data_in,date_col) -> pd.DataFrame:\n",
    "\n",
    "    data = deepcopy(data_in)\n",
    "    data.index = pd.DatetimeIndex(data[date_col])\n",
    "\n",
    "    # Adding date based features\n",
    "    data[date_col] = pd.to_datetime(data[date_col], infer_datetime_format=True)\n",
    "    data['year'] = data[date_col].dt.year.astype('float32')\n",
    "    data['quarter'] = data[date_col].dt.quarter.astype('float32')\n",
    "    data['month'] = data[date_col].dt.month.astype('float32')\n",
    "    data['weekofyear'] = data.index.isocalendar().week.astype('float32')\n",
    "    data['dayofweek'] = data[date_col].dt.dayofweek.astype('float32')\n",
    "    data.drop(f'{date_col}', axis=1, inplace=True)\n",
    "    data.reset_index(inplace=True)\n",
    "\n",
    "\n",
    "    return data"
   ]
  },
  {
   "cell_type": "code",
   "execution_count": 14,
   "outputs": [],
   "source": [
    "def feature_engineering2(data_in,date_col) -> pd.DataFrame:\n",
    "\n",
    "    data = deepcopy(data_in)\n",
    "    data.index = pd.DatetimeIndex(data[date_col])\n",
    "\n",
    "    # Adding date based features\n",
    "    data[date_col] = pd.to_datetime(data[date_col], infer_datetime_format=True)\n",
    "    data['year'] = data[date_col].dt.year.astype('uint16')\n",
    "    data['quarter'] = data[date_col].dt.quarter.astype('uint8')\n",
    "    data['month'] = data[date_col].dt.month.astype('uint8')\n",
    "    data['weekofyear'] = data.index.isocalendar().week.astype('uint8')\n",
    "    data['dayofweek'] = data[date_col].dt.dayofweek.astype('uint8')\n",
    "    data.drop(f'{date_col}', axis=1, inplace=True)\n",
    "    data.reset_index(inplace=True)\n",
    "\n",
    "\n",
    "    return data"
   ],
   "metadata": {
    "collapsed": false,
    "pycharm": {
     "name": "#%%\n"
    }
   }
  },
  {
   "cell_type": "code",
   "execution_count": 15,
   "metadata": {
    "collapsed": false,
    "pycharm": {
     "name": "#%%\n"
    }
   },
   "outputs": [],
   "source": [
    "def series_to_supervised(data, index, target, categories, window=1, lag=1, dropnan=True):\n",
    "    \"\"\"Transform the data into a time series problem\"\"\"\n",
    "\n",
    "    # data = deepcopy(data_in)\n",
    "\n",
    "    # Drop index column from data\n",
    "    if index in data.columns:\n",
    "        data.drop(f'{index}', axis=1, inplace=True)\n",
    "\n",
    "    cols, names = list(), list()\n",
    "\n",
    "    # Input sequence (t-n, ... t-1)\n",
    "    for i in range(window, 0, -1):\n",
    "        cols.append(data.shift(i))\n",
    "        names += [f'{col}(t-{i})' for col in data.columns]\n",
    "\n",
    "    # Current timestep (t=0)\n",
    "    cols.append(data)\n",
    "    names += [f'{col}(t)' for col in data.columns]\n",
    "\n",
    "    # Target timestep (t=lag)\n",
    "    cols.append(data.shift(-lag))\n",
    "    names += [f'{col}(t+{lag})' for col in data.columns]\n",
    "\n",
    "    # Put it all together\n",
    "    agg = pd.concat(cols, axis=1, join='inner')\n",
    "    agg.columns = names\n",
    "\n",
    "    # Drop rows with NaN values\n",
    "    if dropnan:\n",
    "        agg.dropna(inplace=True)\n",
    "\n",
    "    # Drop rows with different item or store values than the shifted columns\n",
    "    last_cols_for_categories = [f'{x}(t-{window})' for x in categories]\n",
    "\n",
    "    for cat in last_cols_for_categories:\n",
    "        col = cat.split('(')[0] # example - item\n",
    "        agg = agg[(agg[f'{col}(t)'] == agg[cat])]\n",
    "\n",
    "    return agg\n"
   ]
  },
  {
   "cell_type": "code",
   "execution_count": 16,
   "outputs": [],
   "source": [
    "def split_train_valid(data, label, test_size, lag):\n",
    "\n",
    "    # Label\n",
    "    labels_col = f'{label}(t+{lag})'\n",
    "    labels = data[labels_col]\n",
    "    data = data.drop([x for x in data.columns if '+' in str(x)], axis=1)\n",
    "\n",
    "    X_train, X_valid, Y_train, Y_valid = train_test_split(data, labels.values, test_size=test_size, shuffle=False)\n",
    "\n",
    "    return X_train.astype('uint8'), Y_train.astype('uint16'), X_valid.astype('uint8'), Y_valid.astype('uint16')"
   ],
   "metadata": {
    "collapsed": false,
    "pycharm": {
     "name": "#%%\n"
    }
   }
  },
  {
   "cell_type": "code",
   "execution_count": 17,
   "outputs": [],
   "source": [
    "def reshape_features(X_train,X_valid):\n",
    "    X_train_series = X_train.values.reshape((X_train.shape[0], X_train.shape[1], 1))\n",
    "    X_valid_series = X_valid.values.reshape((X_valid.shape[0], X_valid.shape[1], 1))\n",
    "    return X_train_series, X_valid_series"
   ],
   "metadata": {
    "collapsed": false,
    "pycharm": {
     "name": "#%%\n"
    }
   }
  },
  {
   "cell_type": "code",
   "execution_count": 18,
   "outputs": [],
   "source": [
    "def data_scaler(data, scaled, inverse=False, model=None):\n",
    "    if scaled:\n",
    "        fitted_scaler = joblib.load(OBJECTS_DIR+model+SCALER_FILE)\n",
    "\n",
    "        if inverse:\n",
    "            inv_scaled_data = fitted_scaler.inverse_transform(data)\n",
    "            return inv_scaled_data\n",
    "        else:\n",
    "            scaled_data = fitted_scaler.transform(data)\n",
    "            return scaled_data\n",
    "\n",
    "    else:\n",
    "        scaler = StandardScaler()\n",
    "        fitted_scaler = scaler.fit(data)\n",
    "        scaled_data = fitted_scaler.transform(data)\n",
    "        joblib.dump(fitted_scaler, OBJECTS_DIR+model+SCALER_FILE)\n",
    "        return scaled_data\n"
   ],
   "metadata": {
    "collapsed": false,
    "pycharm": {
     "name": "#%%\n"
    }
   }
  },
  {
   "cell_type": "code",
   "execution_count": 19,
   "outputs": [],
   "source": [
    "MAIN_DIR = os.sep.join(os.getcwd().split(os.sep)[:-1])\n",
    "RAW_DATA_DIR = os.path.join(MAIN_DIR, 'data', 'raw', 'store_item', '')\n",
    "PROCESSED_DATA_DIR = os.path.join(MAIN_DIR, 'data','processed', '')\n",
    "MODEL_DIR = os.path.join(MAIN_DIR, 'models', '')\n",
    "OBJECTS_DIR = os.path.join(MAIN_DIR, 'objects', '')\n",
    "CONFIGS_PATH = os.path.join(MAIN_DIR, 'configs', 'config.yaml')\n",
    "conf = get_conf(CONFIGS_PATH)\n",
    "\n",
    "SCALER_FILE = 'scaler_info.save'\n",
    "TRAIN_PATH = RAW_DATA_DIR + 'train.csv'\n",
    "TEST_PATH = RAW_DATA_DIR + 'test.csv'\n",
    "PROCESSED_PATH = PROCESSED_DATA_DIR + 'data.csv'\n",
    "\n",
    "NP_ARRAYS_NAMES = ['X_train_series', 'Y_train', 'X_valid_series', 'Y_valid']\n",
    "\n",
    "plt.rcParams[\"figure.figsize\"] = [16,9]"
   ],
   "metadata": {
    "collapsed": false,
    "pycharm": {
     "name": "#%%\n"
    }
   }
  },
  {
   "cell_type": "code",
   "execution_count": 20,
   "outputs": [],
   "source": [
    "# Read Training and Testing data\n",
    "train = read_data(TRAIN_PATH, 0, conf['NUMERIC_COLS'])\n",
    "test = read_data(TEST_PATH, 1)"
   ],
   "metadata": {
    "collapsed": false,
    "pycharm": {
     "name": "#%%\n"
    }
   }
  },
  {
   "cell_type": "code",
   "execution_count": 20,
   "outputs": [],
   "source": [],
   "metadata": {
    "collapsed": false,
    "pycharm": {
     "name": "#%%\n"
    }
   }
  },
  {
   "cell_type": "code",
   "execution_count": 20,
   "outputs": [],
   "source": [],
   "metadata": {
    "collapsed": false,
    "pycharm": {
     "name": "#%%\n"
    }
   }
  },
  {
   "cell_type": "code",
   "execution_count": 21,
   "outputs": [],
   "source": [
    "# Prepare train data for lstm by aggregating\n",
    "preprocessed_data = data_preprocessing(train,\n",
    "                                       conf['GROUPED_COLS'],\n",
    "                                       conf['LABEL_COL'],\n",
    "                                       conf['INDEX_COL']\n",
    "                                       )"
   ],
   "metadata": {
    "collapsed": false,
    "pycharm": {
     "name": "#%%\n"
    }
   }
  },
  {
   "cell_type": "code",
   "execution_count": 22,
   "outputs": [],
   "source": [
    "# preprocessed_data2 = difference_data(preprocessed_data, label=conf['LABEL_COL'], d=1)"
   ],
   "metadata": {
    "collapsed": false,
    "pycharm": {
     "name": "#%%\n"
    }
   }
  },
  {
   "cell_type": "markdown",
   "source": [],
   "metadata": {
    "collapsed": false,
    "pycharm": {
     "name": "#%% md\n"
    }
   }
  },
  {
   "cell_type": "code",
   "execution_count": 23,
   "outputs": [],
   "source": [
    "processed_data = feature_engineering(preprocessed_data, conf['INDEX_COL'])"
   ],
   "metadata": {
    "collapsed": false,
    "pycharm": {
     "name": "#%%\n"
    }
   }
  },
  {
   "cell_type": "code",
   "execution_count": 23,
   "outputs": [],
   "source": [],
   "metadata": {
    "collapsed": false,
    "pycharm": {
     "name": "#%%\n"
    }
   }
  },
  {
   "cell_type": "code",
   "execution_count": 23,
   "outputs": [],
   "source": [],
   "metadata": {
    "collapsed": false,
    "pycharm": {
     "name": "#%%\n"
    }
   }
  },
  {
   "cell_type": "code",
   "execution_count": 24,
   "outputs": [],
   "source": [
    "# test_processed_data = feature_engineering(test.drop('id',axis=1).reset_index(), conf['INDEX_COL'])"
   ],
   "metadata": {
    "collapsed": false,
    "pycharm": {
     "name": "#%%\n"
    }
   }
  },
  {
   "cell_type": "code",
   "execution_count": 24,
   "outputs": [],
   "source": [],
   "metadata": {
    "collapsed": false,
    "pycharm": {
     "name": "#%%\n"
    }
   }
  },
  {
   "cell_type": "markdown",
   "source": [
    "<h1> LSTM </h1>"
   ],
   "metadata": {
    "collapsed": false,
    "pycharm": {
     "name": "#%% md\n"
    }
   }
  },
  {
   "cell_type": "code",
   "execution_count": 25,
   "outputs": [],
   "source": [
    "####\n",
    "\n"
   ],
   "metadata": {
    "collapsed": false,
    "pycharm": {
     "name": "#%%\n"
    }
   }
  },
  {
   "cell_type": "code",
   "execution_count": 27,
   "outputs": [],
   "source": [
    "from keras.preprocessing.sequence import TimeseriesGenerator\n",
    "from math import floor\n",
    "\n",
    "import keras_tuner as kt"
   ],
   "metadata": {
    "collapsed": false,
    "pycharm": {
     "name": "#%%\n"
    }
   }
  },
  {
   "cell_type": "code",
   "execution_count": 28,
   "outputs": [],
   "source": [
    "def keras_tuning(hp):\n",
    "    learning_rate = hp.Float(\"lr\", min_value=1e-4, max_value=1e-2, sampling=\"log\")\n",
    "    units=hp.Int(\"units\", min_value=32, max_value=512, step=32)\n",
    "    units2=hp.Int(\"units\", min_value=8, max_value=128, step=16)\n",
    "    # define model\n",
    "    model = Sequential()\n",
    "    model.add(LSTM(units, activation='relu', input_shape=(30, 7), return_sequences=True))\n",
    "    model.add(LSTM(units2, activation='relu'))\n",
    "    model.add(Dense(1))\n",
    "    model.compile(optimizer=tf.optimizers.Adam(learning_rate), loss='mse')\n",
    "    return model"
   ],
   "metadata": {
    "collapsed": false,
    "pycharm": {
     "name": "#%%\n"
    }
   }
  },
  {
   "cell_type": "code",
   "execution_count": 29,
   "outputs": [],
   "source": [
    "\n",
    "\n",
    "\n",
    "# generatort = TimeseriesGenerator(test_processed_data.drop('date',axis=1), length=30, batch_size=100)"
   ],
   "metadata": {
    "collapsed": false,
    "pycharm": {
     "name": "#%%\n"
    }
   }
  },
  {
   "cell_type": "code",
   "execution_count": 30,
   "outputs": [
    {
     "name": "stdout",
     "output_type": "stream",
     "text": [
      "<class 'pandas.core.frame.DataFrame'>\n",
      "RangeIndex: 913000 entries, 0 to 912999\n",
      "Data columns (total 9 columns):\n",
      " #   Column      Non-Null Count   Dtype         \n",
      "---  ------      --------------   -----         \n",
      " 0   date        913000 non-null  datetime64[ns]\n",
      " 1   item        913000 non-null  int16         \n",
      " 2   store       913000 non-null  int16         \n",
      " 3   sales       913000 non-null  float64       \n",
      " 4   year        913000 non-null  float32       \n",
      " 5   quarter     913000 non-null  float32       \n",
      " 6   month       913000 non-null  float32       \n",
      " 7   weekofyear  913000 non-null  float32       \n",
      " 8   dayofweek   913000 non-null  float32       \n",
      "dtypes: datetime64[ns](1), float32(5), float64(1), int16(2)\n",
      "memory usage: 34.8 MB\n"
     ]
    }
   ],
   "source": [
    "processed_data.info()"
   ],
   "metadata": {
    "collapsed": false,
    "pycharm": {
     "name": "#%%\n"
    }
   }
  },
  {
   "cell_type": "code",
   "execution_count": 31,
   "outputs": [],
   "source": [
    "category_wise_split_data_train = []\n",
    "category_wise_split_data_test = []\n",
    "# for i, frame in processed_data.groupby(conf['CATEGORIES']):\n",
    "#     category_wise_split_data[(f'{i}'[1:-1])] = frame"
   ],
   "metadata": {
    "collapsed": false,
    "pycharm": {
     "name": "#%%\n"
    }
   }
  },
  {
   "cell_type": "code",
   "execution_count": 32,
   "outputs": [],
   "source": [
    "for i, frame in processed_data.groupby(conf['CATEGORIES']):\n",
    "    category_wise_split_data_train.append(frame[:-90])\n",
    "    category_wise_split_data_test.append(frame[-90:])\n"
   ],
   "metadata": {
    "collapsed": false,
    "pycharm": {
     "name": "#%%\n"
    }
   }
  },
  {
   "cell_type": "code",
   "execution_count": 33,
   "outputs": [],
   "source": [
    "updated_train = pd.concat(category_wise_split_data_train, axis=0)\n",
    "updated_eval = pd.concat(category_wise_split_data_test, axis=0)\n"
   ],
   "metadata": {
    "collapsed": false,
    "pycharm": {
     "name": "#%%\n"
    }
   }
  },
  {
   "cell_type": "code",
   "execution_count": 34,
   "outputs": [
    {
     "data": {
      "text/plain": "             date  item  store  sales    year  quarter  month  weekofyear  \\\n0      2013-01-01     1      1   13.0  2013.0      1.0    1.0         1.0   \n1      2013-01-02     1      1   11.0  2013.0      1.0    1.0         1.0   \n2      2013-01-03     1      1   14.0  2013.0      1.0    1.0         1.0   \n3      2013-01-04     1      1   13.0  2013.0      1.0    1.0         1.0   \n4      2013-01-05     1      1   10.0  2013.0      1.0    1.0         1.0   \n...           ...   ...    ...    ...     ...      ...    ...         ...   \n912905 2017-09-28    50     10   82.0  2017.0      3.0    9.0        39.0   \n912906 2017-09-29    50     10   90.0  2017.0      3.0    9.0        39.0   \n912907 2017-09-30    50     10  103.0  2017.0      3.0    9.0        39.0   \n912908 2017-10-01    50     10   99.0  2017.0      4.0   10.0        39.0   \n912909 2017-10-02    50     10   71.0  2017.0      4.0   10.0        40.0   \n\n        dayofweek  \n0             1.0  \n1             2.0  \n2             3.0  \n3             4.0  \n4             5.0  \n...           ...  \n912905        3.0  \n912906        4.0  \n912907        5.0  \n912908        6.0  \n912909        0.0  \n\n[868000 rows x 9 columns]",
      "text/html": "<div>\n<style scoped>\n    .dataframe tbody tr th:only-of-type {\n        vertical-align: middle;\n    }\n\n    .dataframe tbody tr th {\n        vertical-align: top;\n    }\n\n    .dataframe thead th {\n        text-align: right;\n    }\n</style>\n<table border=\"1\" class=\"dataframe\">\n  <thead>\n    <tr style=\"text-align: right;\">\n      <th></th>\n      <th>date</th>\n      <th>item</th>\n      <th>store</th>\n      <th>sales</th>\n      <th>year</th>\n      <th>quarter</th>\n      <th>month</th>\n      <th>weekofyear</th>\n      <th>dayofweek</th>\n    </tr>\n  </thead>\n  <tbody>\n    <tr>\n      <th>0</th>\n      <td>2013-01-01</td>\n      <td>1</td>\n      <td>1</td>\n      <td>13.0</td>\n      <td>2013.0</td>\n      <td>1.0</td>\n      <td>1.0</td>\n      <td>1.0</td>\n      <td>1.0</td>\n    </tr>\n    <tr>\n      <th>1</th>\n      <td>2013-01-02</td>\n      <td>1</td>\n      <td>1</td>\n      <td>11.0</td>\n      <td>2013.0</td>\n      <td>1.0</td>\n      <td>1.0</td>\n      <td>1.0</td>\n      <td>2.0</td>\n    </tr>\n    <tr>\n      <th>2</th>\n      <td>2013-01-03</td>\n      <td>1</td>\n      <td>1</td>\n      <td>14.0</td>\n      <td>2013.0</td>\n      <td>1.0</td>\n      <td>1.0</td>\n      <td>1.0</td>\n      <td>3.0</td>\n    </tr>\n    <tr>\n      <th>3</th>\n      <td>2013-01-04</td>\n      <td>1</td>\n      <td>1</td>\n      <td>13.0</td>\n      <td>2013.0</td>\n      <td>1.0</td>\n      <td>1.0</td>\n      <td>1.0</td>\n      <td>4.0</td>\n    </tr>\n    <tr>\n      <th>4</th>\n      <td>2013-01-05</td>\n      <td>1</td>\n      <td>1</td>\n      <td>10.0</td>\n      <td>2013.0</td>\n      <td>1.0</td>\n      <td>1.0</td>\n      <td>1.0</td>\n      <td>5.0</td>\n    </tr>\n    <tr>\n      <th>...</th>\n      <td>...</td>\n      <td>...</td>\n      <td>...</td>\n      <td>...</td>\n      <td>...</td>\n      <td>...</td>\n      <td>...</td>\n      <td>...</td>\n      <td>...</td>\n    </tr>\n    <tr>\n      <th>912905</th>\n      <td>2017-09-28</td>\n      <td>50</td>\n      <td>10</td>\n      <td>82.0</td>\n      <td>2017.0</td>\n      <td>3.0</td>\n      <td>9.0</td>\n      <td>39.0</td>\n      <td>3.0</td>\n    </tr>\n    <tr>\n      <th>912906</th>\n      <td>2017-09-29</td>\n      <td>50</td>\n      <td>10</td>\n      <td>90.0</td>\n      <td>2017.0</td>\n      <td>3.0</td>\n      <td>9.0</td>\n      <td>39.0</td>\n      <td>4.0</td>\n    </tr>\n    <tr>\n      <th>912907</th>\n      <td>2017-09-30</td>\n      <td>50</td>\n      <td>10</td>\n      <td>103.0</td>\n      <td>2017.0</td>\n      <td>3.0</td>\n      <td>9.0</td>\n      <td>39.0</td>\n      <td>5.0</td>\n    </tr>\n    <tr>\n      <th>912908</th>\n      <td>2017-10-01</td>\n      <td>50</td>\n      <td>10</td>\n      <td>99.0</td>\n      <td>2017.0</td>\n      <td>4.0</td>\n      <td>10.0</td>\n      <td>39.0</td>\n      <td>6.0</td>\n    </tr>\n    <tr>\n      <th>912909</th>\n      <td>2017-10-02</td>\n      <td>50</td>\n      <td>10</td>\n      <td>71.0</td>\n      <td>2017.0</td>\n      <td>4.0</td>\n      <td>10.0</td>\n      <td>40.0</td>\n      <td>0.0</td>\n    </tr>\n  </tbody>\n</table>\n<p>868000 rows × 9 columns</p>\n</div>"
     },
     "execution_count": 34,
     "metadata": {},
     "output_type": "execute_result"
    }
   ],
   "source": [
    "updated_train"
   ],
   "metadata": {
    "collapsed": false,
    "pycharm": {
     "name": "#%%\n"
    }
   }
  },
  {
   "cell_type": "code",
   "execution_count": 59,
   "outputs": [
    {
     "data": {
      "text/plain": "             date  item  store  sales    year  quarter  month  weekofyear  \\\n1736   2017-10-03     1      1   18.0  2017.0      4.0   10.0        40.0   \n1737   2017-10-04     1      1   15.0  2017.0      4.0   10.0        40.0   \n1738   2017-10-05     1      1   20.0  2017.0      4.0   10.0        40.0   \n1739   2017-10-06     1      1   19.0  2017.0      4.0   10.0        40.0   \n1740   2017-10-07     1      1   22.0  2017.0      4.0   10.0        40.0   \n...           ...   ...    ...    ...     ...      ...    ...         ...   \n912995 2017-12-27    50     10   63.0  2017.0      4.0   12.0        52.0   \n912996 2017-12-28    50     10   59.0  2017.0      4.0   12.0        52.0   \n912997 2017-12-29    50     10   74.0  2017.0      4.0   12.0        52.0   \n912998 2017-12-30    50     10   62.0  2017.0      4.0   12.0        52.0   \n912999 2017-12-31    50     10   82.0  2017.0      4.0   12.0        52.0   \n\n        dayofweek  \n1736          1.0  \n1737          2.0  \n1738          3.0  \n1739          4.0  \n1740          5.0  \n...           ...  \n912995        2.0  \n912996        3.0  \n912997        4.0  \n912998        5.0  \n912999        6.0  \n\n[45000 rows x 9 columns]",
      "text/html": "<div>\n<style scoped>\n    .dataframe tbody tr th:only-of-type {\n        vertical-align: middle;\n    }\n\n    .dataframe tbody tr th {\n        vertical-align: top;\n    }\n\n    .dataframe thead th {\n        text-align: right;\n    }\n</style>\n<table border=\"1\" class=\"dataframe\">\n  <thead>\n    <tr style=\"text-align: right;\">\n      <th></th>\n      <th>date</th>\n      <th>item</th>\n      <th>store</th>\n      <th>sales</th>\n      <th>year</th>\n      <th>quarter</th>\n      <th>month</th>\n      <th>weekofyear</th>\n      <th>dayofweek</th>\n    </tr>\n  </thead>\n  <tbody>\n    <tr>\n      <th>1736</th>\n      <td>2017-10-03</td>\n      <td>1</td>\n      <td>1</td>\n      <td>18.0</td>\n      <td>2017.0</td>\n      <td>4.0</td>\n      <td>10.0</td>\n      <td>40.0</td>\n      <td>1.0</td>\n    </tr>\n    <tr>\n      <th>1737</th>\n      <td>2017-10-04</td>\n      <td>1</td>\n      <td>1</td>\n      <td>15.0</td>\n      <td>2017.0</td>\n      <td>4.0</td>\n      <td>10.0</td>\n      <td>40.0</td>\n      <td>2.0</td>\n    </tr>\n    <tr>\n      <th>1738</th>\n      <td>2017-10-05</td>\n      <td>1</td>\n      <td>1</td>\n      <td>20.0</td>\n      <td>2017.0</td>\n      <td>4.0</td>\n      <td>10.0</td>\n      <td>40.0</td>\n      <td>3.0</td>\n    </tr>\n    <tr>\n      <th>1739</th>\n      <td>2017-10-06</td>\n      <td>1</td>\n      <td>1</td>\n      <td>19.0</td>\n      <td>2017.0</td>\n      <td>4.0</td>\n      <td>10.0</td>\n      <td>40.0</td>\n      <td>4.0</td>\n    </tr>\n    <tr>\n      <th>1740</th>\n      <td>2017-10-07</td>\n      <td>1</td>\n      <td>1</td>\n      <td>22.0</td>\n      <td>2017.0</td>\n      <td>4.0</td>\n      <td>10.0</td>\n      <td>40.0</td>\n      <td>5.0</td>\n    </tr>\n    <tr>\n      <th>...</th>\n      <td>...</td>\n      <td>...</td>\n      <td>...</td>\n      <td>...</td>\n      <td>...</td>\n      <td>...</td>\n      <td>...</td>\n      <td>...</td>\n      <td>...</td>\n    </tr>\n    <tr>\n      <th>912995</th>\n      <td>2017-12-27</td>\n      <td>50</td>\n      <td>10</td>\n      <td>63.0</td>\n      <td>2017.0</td>\n      <td>4.0</td>\n      <td>12.0</td>\n      <td>52.0</td>\n      <td>2.0</td>\n    </tr>\n    <tr>\n      <th>912996</th>\n      <td>2017-12-28</td>\n      <td>50</td>\n      <td>10</td>\n      <td>59.0</td>\n      <td>2017.0</td>\n      <td>4.0</td>\n      <td>12.0</td>\n      <td>52.0</td>\n      <td>3.0</td>\n    </tr>\n    <tr>\n      <th>912997</th>\n      <td>2017-12-29</td>\n      <td>50</td>\n      <td>10</td>\n      <td>74.0</td>\n      <td>2017.0</td>\n      <td>4.0</td>\n      <td>12.0</td>\n      <td>52.0</td>\n      <td>4.0</td>\n    </tr>\n    <tr>\n      <th>912998</th>\n      <td>2017-12-30</td>\n      <td>50</td>\n      <td>10</td>\n      <td>62.0</td>\n      <td>2017.0</td>\n      <td>4.0</td>\n      <td>12.0</td>\n      <td>52.0</td>\n      <td>5.0</td>\n    </tr>\n    <tr>\n      <th>912999</th>\n      <td>2017-12-31</td>\n      <td>50</td>\n      <td>10</td>\n      <td>82.0</td>\n      <td>2017.0</td>\n      <td>4.0</td>\n      <td>12.0</td>\n      <td>52.0</td>\n      <td>6.0</td>\n    </tr>\n  </tbody>\n</table>\n<p>45000 rows × 9 columns</p>\n</div>"
     },
     "execution_count": 59,
     "metadata": {},
     "output_type": "execute_result"
    }
   ],
   "source": [
    "updated_eval"
   ],
   "metadata": {
    "collapsed": false,
    "pycharm": {
     "name": "#%%\n"
    }
   }
  },
  {
   "cell_type": "code",
   "execution_count": 36,
   "outputs": [],
   "source": [
    "updated_test = feature_engineering(test.drop('id',axis=1).reset_index(), conf['INDEX_COL'])"
   ],
   "metadata": {
    "collapsed": false,
    "pycharm": {
     "name": "#%%\n"
    }
   }
  },
  {
   "cell_type": "code",
   "execution_count": 37,
   "outputs": [
    {
     "data": {
      "text/plain": "            date  store  item    year  quarter  month  weekofyear  dayofweek\n0     2018-01-01      1     1  2018.0      1.0    1.0         1.0        0.0\n1     2018-01-02      1     1  2018.0      1.0    1.0         1.0        1.0\n2     2018-01-03      1     1  2018.0      1.0    1.0         1.0        2.0\n3     2018-01-04      1     1  2018.0      1.0    1.0         1.0        3.0\n4     2018-01-05      1     1  2018.0      1.0    1.0         1.0        4.0\n...          ...    ...   ...     ...      ...    ...         ...        ...\n44995 2018-03-27     10    50  2018.0      1.0    3.0        13.0        1.0\n44996 2018-03-28     10    50  2018.0      1.0    3.0        13.0        2.0\n44997 2018-03-29     10    50  2018.0      1.0    3.0        13.0        3.0\n44998 2018-03-30     10    50  2018.0      1.0    3.0        13.0        4.0\n44999 2018-03-31     10    50  2018.0      1.0    3.0        13.0        5.0\n\n[45000 rows x 8 columns]",
      "text/html": "<div>\n<style scoped>\n    .dataframe tbody tr th:only-of-type {\n        vertical-align: middle;\n    }\n\n    .dataframe tbody tr th {\n        vertical-align: top;\n    }\n\n    .dataframe thead th {\n        text-align: right;\n    }\n</style>\n<table border=\"1\" class=\"dataframe\">\n  <thead>\n    <tr style=\"text-align: right;\">\n      <th></th>\n      <th>date</th>\n      <th>store</th>\n      <th>item</th>\n      <th>year</th>\n      <th>quarter</th>\n      <th>month</th>\n      <th>weekofyear</th>\n      <th>dayofweek</th>\n    </tr>\n  </thead>\n  <tbody>\n    <tr>\n      <th>0</th>\n      <td>2018-01-01</td>\n      <td>1</td>\n      <td>1</td>\n      <td>2018.0</td>\n      <td>1.0</td>\n      <td>1.0</td>\n      <td>1.0</td>\n      <td>0.0</td>\n    </tr>\n    <tr>\n      <th>1</th>\n      <td>2018-01-02</td>\n      <td>1</td>\n      <td>1</td>\n      <td>2018.0</td>\n      <td>1.0</td>\n      <td>1.0</td>\n      <td>1.0</td>\n      <td>1.0</td>\n    </tr>\n    <tr>\n      <th>2</th>\n      <td>2018-01-03</td>\n      <td>1</td>\n      <td>1</td>\n      <td>2018.0</td>\n      <td>1.0</td>\n      <td>1.0</td>\n      <td>1.0</td>\n      <td>2.0</td>\n    </tr>\n    <tr>\n      <th>3</th>\n      <td>2018-01-04</td>\n      <td>1</td>\n      <td>1</td>\n      <td>2018.0</td>\n      <td>1.0</td>\n      <td>1.0</td>\n      <td>1.0</td>\n      <td>3.0</td>\n    </tr>\n    <tr>\n      <th>4</th>\n      <td>2018-01-05</td>\n      <td>1</td>\n      <td>1</td>\n      <td>2018.0</td>\n      <td>1.0</td>\n      <td>1.0</td>\n      <td>1.0</td>\n      <td>4.0</td>\n    </tr>\n    <tr>\n      <th>...</th>\n      <td>...</td>\n      <td>...</td>\n      <td>...</td>\n      <td>...</td>\n      <td>...</td>\n      <td>...</td>\n      <td>...</td>\n      <td>...</td>\n    </tr>\n    <tr>\n      <th>44995</th>\n      <td>2018-03-27</td>\n      <td>10</td>\n      <td>50</td>\n      <td>2018.0</td>\n      <td>1.0</td>\n      <td>3.0</td>\n      <td>13.0</td>\n      <td>1.0</td>\n    </tr>\n    <tr>\n      <th>44996</th>\n      <td>2018-03-28</td>\n      <td>10</td>\n      <td>50</td>\n      <td>2018.0</td>\n      <td>1.0</td>\n      <td>3.0</td>\n      <td>13.0</td>\n      <td>2.0</td>\n    </tr>\n    <tr>\n      <th>44997</th>\n      <td>2018-03-29</td>\n      <td>10</td>\n      <td>50</td>\n      <td>2018.0</td>\n      <td>1.0</td>\n      <td>3.0</td>\n      <td>13.0</td>\n      <td>3.0</td>\n    </tr>\n    <tr>\n      <th>44998</th>\n      <td>2018-03-30</td>\n      <td>10</td>\n      <td>50</td>\n      <td>2018.0</td>\n      <td>1.0</td>\n      <td>3.0</td>\n      <td>13.0</td>\n      <td>4.0</td>\n    </tr>\n    <tr>\n      <th>44999</th>\n      <td>2018-03-31</td>\n      <td>10</td>\n      <td>50</td>\n      <td>2018.0</td>\n      <td>1.0</td>\n      <td>3.0</td>\n      <td>13.0</td>\n      <td>5.0</td>\n    </tr>\n  </tbody>\n</table>\n<p>45000 rows × 8 columns</p>\n</div>"
     },
     "execution_count": 37,
     "metadata": {},
     "output_type": "execute_result"
    }
   ],
   "source": [
    "updated_test"
   ],
   "metadata": {
    "collapsed": false,
    "pycharm": {
     "name": "#%%\n"
    }
   }
  },
  {
   "cell_type": "code",
   "execution_count": 38,
   "outputs": [],
   "source": [
    "# Without sales in training\n",
    "X = updated_train.drop([conf['LABEL_COL'],conf['INDEX_COL']], axis=1).reset_index().drop('index', axis=1)\n",
    "Y = updated_train[conf['LABEL_COL']].reset_index().drop('index', axis=1)\n",
    "\n",
    "generator = TimeseriesGenerator(np.array(X), np.array(Y), length=30, batch_size=100)\n",
    "\n",
    "\n",
    "Xv = updated_eval.drop([conf['LABEL_COL'],conf['INDEX_COL']], axis=1).reset_index().drop('index', axis=1)\n",
    "Yv = updated_eval[conf['LABEL_COL']].reset_index().drop('index', axis=1)\n",
    "\n",
    "generatorv = TimeseriesGenerator(np.array(Xv), np.array(Yv), length=30, batch_size=100)"
   ],
   "metadata": {
    "collapsed": false,
    "pycharm": {
     "name": "#%%\n"
    }
   }
  },
  {
   "cell_type": "code",
   "execution_count": null,
   "outputs": [],
   "source": [],
   "metadata": {
    "collapsed": false,
    "pycharm": {
     "name": "#%%\n"
    }
   }
  },
  {
   "cell_type": "code",
   "execution_count": 39,
   "outputs": [
    {
     "data": {
      "text/plain": "        item  store    year  quarter  month  weekofyear  dayofweek\n0          1      1  2013.0      1.0    1.0         1.0        1.0\n1          1      1  2013.0      1.0    1.0         1.0        2.0\n2          1      1  2013.0      1.0    1.0         1.0        3.0\n3          1      1  2013.0      1.0    1.0         1.0        4.0\n4          1      1  2013.0      1.0    1.0         1.0        5.0\n...      ...    ...     ...      ...    ...         ...        ...\n867995    50     10  2017.0      3.0    9.0        39.0        3.0\n867996    50     10  2017.0      3.0    9.0        39.0        4.0\n867997    50     10  2017.0      3.0    9.0        39.0        5.0\n867998    50     10  2017.0      4.0   10.0        39.0        6.0\n867999    50     10  2017.0      4.0   10.0        40.0        0.0\n\n[868000 rows x 7 columns]",
      "text/html": "<div>\n<style scoped>\n    .dataframe tbody tr th:only-of-type {\n        vertical-align: middle;\n    }\n\n    .dataframe tbody tr th {\n        vertical-align: top;\n    }\n\n    .dataframe thead th {\n        text-align: right;\n    }\n</style>\n<table border=\"1\" class=\"dataframe\">\n  <thead>\n    <tr style=\"text-align: right;\">\n      <th></th>\n      <th>item</th>\n      <th>store</th>\n      <th>year</th>\n      <th>quarter</th>\n      <th>month</th>\n      <th>weekofyear</th>\n      <th>dayofweek</th>\n    </tr>\n  </thead>\n  <tbody>\n    <tr>\n      <th>0</th>\n      <td>1</td>\n      <td>1</td>\n      <td>2013.0</td>\n      <td>1.0</td>\n      <td>1.0</td>\n      <td>1.0</td>\n      <td>1.0</td>\n    </tr>\n    <tr>\n      <th>1</th>\n      <td>1</td>\n      <td>1</td>\n      <td>2013.0</td>\n      <td>1.0</td>\n      <td>1.0</td>\n      <td>1.0</td>\n      <td>2.0</td>\n    </tr>\n    <tr>\n      <th>2</th>\n      <td>1</td>\n      <td>1</td>\n      <td>2013.0</td>\n      <td>1.0</td>\n      <td>1.0</td>\n      <td>1.0</td>\n      <td>3.0</td>\n    </tr>\n    <tr>\n      <th>3</th>\n      <td>1</td>\n      <td>1</td>\n      <td>2013.0</td>\n      <td>1.0</td>\n      <td>1.0</td>\n      <td>1.0</td>\n      <td>4.0</td>\n    </tr>\n    <tr>\n      <th>4</th>\n      <td>1</td>\n      <td>1</td>\n      <td>2013.0</td>\n      <td>1.0</td>\n      <td>1.0</td>\n      <td>1.0</td>\n      <td>5.0</td>\n    </tr>\n    <tr>\n      <th>...</th>\n      <td>...</td>\n      <td>...</td>\n      <td>...</td>\n      <td>...</td>\n      <td>...</td>\n      <td>...</td>\n      <td>...</td>\n    </tr>\n    <tr>\n      <th>867995</th>\n      <td>50</td>\n      <td>10</td>\n      <td>2017.0</td>\n      <td>3.0</td>\n      <td>9.0</td>\n      <td>39.0</td>\n      <td>3.0</td>\n    </tr>\n    <tr>\n      <th>867996</th>\n      <td>50</td>\n      <td>10</td>\n      <td>2017.0</td>\n      <td>3.0</td>\n      <td>9.0</td>\n      <td>39.0</td>\n      <td>4.0</td>\n    </tr>\n    <tr>\n      <th>867997</th>\n      <td>50</td>\n      <td>10</td>\n      <td>2017.0</td>\n      <td>3.0</td>\n      <td>9.0</td>\n      <td>39.0</td>\n      <td>5.0</td>\n    </tr>\n    <tr>\n      <th>867998</th>\n      <td>50</td>\n      <td>10</td>\n      <td>2017.0</td>\n      <td>4.0</td>\n      <td>10.0</td>\n      <td>39.0</td>\n      <td>6.0</td>\n    </tr>\n    <tr>\n      <th>867999</th>\n      <td>50</td>\n      <td>10</td>\n      <td>2017.0</td>\n      <td>4.0</td>\n      <td>10.0</td>\n      <td>40.0</td>\n      <td>0.0</td>\n    </tr>\n  </tbody>\n</table>\n<p>868000 rows × 7 columns</p>\n</div>"
     },
     "execution_count": 39,
     "metadata": {},
     "output_type": "execute_result"
    }
   ],
   "source": [
    "X"
   ],
   "metadata": {
    "collapsed": false,
    "pycharm": {
     "name": "#%%\n"
    }
   }
  },
  {
   "cell_type": "code",
   "execution_count": 40,
   "outputs": [
    {
     "data": {
      "text/plain": "        sales\n0        13.0\n1        11.0\n2        14.0\n3        13.0\n4        10.0\n...       ...\n867995   82.0\n867996   90.0\n867997  103.0\n867998   99.0\n867999   71.0\n\n[868000 rows x 1 columns]",
      "text/html": "<div>\n<style scoped>\n    .dataframe tbody tr th:only-of-type {\n        vertical-align: middle;\n    }\n\n    .dataframe tbody tr th {\n        vertical-align: top;\n    }\n\n    .dataframe thead th {\n        text-align: right;\n    }\n</style>\n<table border=\"1\" class=\"dataframe\">\n  <thead>\n    <tr style=\"text-align: right;\">\n      <th></th>\n      <th>sales</th>\n    </tr>\n  </thead>\n  <tbody>\n    <tr>\n      <th>0</th>\n      <td>13.0</td>\n    </tr>\n    <tr>\n      <th>1</th>\n      <td>11.0</td>\n    </tr>\n    <tr>\n      <th>2</th>\n      <td>14.0</td>\n    </tr>\n    <tr>\n      <th>3</th>\n      <td>13.0</td>\n    </tr>\n    <tr>\n      <th>4</th>\n      <td>10.0</td>\n    </tr>\n    <tr>\n      <th>...</th>\n      <td>...</td>\n    </tr>\n    <tr>\n      <th>867995</th>\n      <td>82.0</td>\n    </tr>\n    <tr>\n      <th>867996</th>\n      <td>90.0</td>\n    </tr>\n    <tr>\n      <th>867997</th>\n      <td>103.0</td>\n    </tr>\n    <tr>\n      <th>867998</th>\n      <td>99.0</td>\n    </tr>\n    <tr>\n      <th>867999</th>\n      <td>71.0</td>\n    </tr>\n  </tbody>\n</table>\n<p>868000 rows × 1 columns</p>\n</div>"
     },
     "execution_count": 40,
     "metadata": {},
     "output_type": "execute_result"
    }
   ],
   "source": [
    "Y"
   ],
   "metadata": {
    "collapsed": false,
    "pycharm": {
     "name": "#%%\n"
    }
   }
  },
  {
   "cell_type": "code",
   "execution_count": 41,
   "outputs": [
    {
     "data": {
      "text/plain": "pandas.core.frame.DataFrame"
     },
     "execution_count": 41,
     "metadata": {},
     "output_type": "execute_result"
    }
   ],
   "source": [
    "type(Xv)\n"
   ],
   "metadata": {
    "collapsed": false,
    "pycharm": {
     "name": "#%%\n"
    }
   }
  },
  {
   "cell_type": "code",
   "execution_count": 42,
   "outputs": [
    {
     "data": {
      "text/plain": "       sales\n0       18.0\n1       15.0\n2       20.0\n3       19.0\n4       22.0\n...      ...\n44995   63.0\n44996   59.0\n44997   74.0\n44998   62.0\n44999   82.0\n\n[45000 rows x 1 columns]",
      "text/html": "<div>\n<style scoped>\n    .dataframe tbody tr th:only-of-type {\n        vertical-align: middle;\n    }\n\n    .dataframe tbody tr th {\n        vertical-align: top;\n    }\n\n    .dataframe thead th {\n        text-align: right;\n    }\n</style>\n<table border=\"1\" class=\"dataframe\">\n  <thead>\n    <tr style=\"text-align: right;\">\n      <th></th>\n      <th>sales</th>\n    </tr>\n  </thead>\n  <tbody>\n    <tr>\n      <th>0</th>\n      <td>18.0</td>\n    </tr>\n    <tr>\n      <th>1</th>\n      <td>15.0</td>\n    </tr>\n    <tr>\n      <th>2</th>\n      <td>20.0</td>\n    </tr>\n    <tr>\n      <th>3</th>\n      <td>19.0</td>\n    </tr>\n    <tr>\n      <th>4</th>\n      <td>22.0</td>\n    </tr>\n    <tr>\n      <th>...</th>\n      <td>...</td>\n    </tr>\n    <tr>\n      <th>44995</th>\n      <td>63.0</td>\n    </tr>\n    <tr>\n      <th>44996</th>\n      <td>59.0</td>\n    </tr>\n    <tr>\n      <th>44997</th>\n      <td>74.0</td>\n    </tr>\n    <tr>\n      <th>44998</th>\n      <td>62.0</td>\n    </tr>\n    <tr>\n      <th>44999</th>\n      <td>82.0</td>\n    </tr>\n  </tbody>\n</table>\n<p>45000 rows × 1 columns</p>\n</div>"
     },
     "execution_count": 42,
     "metadata": {},
     "output_type": "execute_result"
    }
   ],
   "source": [
    "Yv"
   ],
   "metadata": {
    "collapsed": false,
    "pycharm": {
     "name": "#%%\n"
    }
   }
  },
  {
   "cell_type": "code",
   "execution_count": 43,
   "outputs": [
    {
     "name": "stdout",
     "output_type": "stream",
     "text": [
      "WARNING:tensorflow:Layer lstm will not use cuDNN kernels since it doesn't meet the criteria. It will use a generic GPU kernel as fallback when running on GPU.\n",
      "Model: \"sequential\"\n",
      "_________________________________________________________________\n",
      " Layer (type)                Output Shape              Param #   \n",
      "=================================================================\n",
      " lstm (LSTM)                 (None, 30)                4560      \n",
      "                                                                 \n",
      " dense (Dense)               (None, 1)                 31        \n",
      "                                                                 \n",
      "=================================================================\n",
      "Total params: 4,591\n",
      "Trainable params: 4,591\n",
      "Non-trainable params: 0\n",
      "_________________________________________________________________\n",
      "Epoch 1/10\n",
      "8680/8680 [==============================] - 399s 46ms/step - loss: 863.6980 - val_loss: 906.6732\n",
      "Epoch 2/10\n",
      "8680/8680 [==============================] - 377s 43ms/step - loss: 840.6310 - val_loss: 815.3809\n",
      "Epoch 3/10\n",
      "8680/8680 [==============================] - 366s 42ms/step - loss: 842.3109 - val_loss: 845.4418\n",
      "Epoch 4/10\n",
      "8680/8680 [==============================] - 364s 42ms/step - loss: 840.8130 - val_loss: 814.8596\n",
      "Epoch 5/10\n",
      "8680/8680 [==============================] - 373s 43ms/step - loss: 839.7131 - val_loss: 810.6898\n",
      "Epoch 6/10\n",
      "8680/8680 [==============================] - 372s 43ms/step - loss: 837.6862 - val_loss: 812.3970\n",
      "Epoch 7/10\n",
      "8680/8680 [==============================] - 372s 43ms/step - loss: 836.7669 - val_loss: 821.1582\n",
      "INFO:tensorflow:Assets written to: C:\\Users\\yashc\\DataspellProjects\\EnsembleDemandForecasting\\models\\model-06-30-2022-14-21-14\\assets\n"
     ]
    }
   ],
   "source": [
    "mdl = lstm_model2(conf['LSTM_PARAMS'],\n",
    "                  MODEL_DIR,\n",
    "                  train_gen=generator,\n",
    "                  eval_gen=generatorv,\n",
    "                  shape=(30,7),\n",
    "                  training_req=1)"
   ],
   "metadata": {
    "collapsed": false,
    "pycharm": {
     "name": "#%%\n"
    }
   }
  },
  {
   "cell_type": "code",
   "execution_count": 54,
   "outputs": [],
   "source": [
    "# With sales in training\n",
    "X2 = updated_train[:-conf['LSTM_PARAMS']['LSTM_PREDICTION_LAG']]\\\n",
    "    .drop(conf['INDEX_COL'], axis=1)\\\n",
    "    .reset_index().drop('index', axis=1)\n",
    "\n",
    "Y2 = updated_train.shift(-conf['LSTM_PARAMS']['LSTM_PREDICTION_LAG'])\\\n",
    "    [:-conf['LSTM_PARAMS']['LSTM_PREDICTION_LAG']]\\\n",
    "    [conf['LABEL_COL']]\\\n",
    "    .reset_index().drop('index', axis=1)\n",
    "\n",
    "generator2 = TimeseriesGenerator(np.array(X2), np.array(Y2), length=30, batch_size=100)\n",
    "\n",
    "\n",
    "Xv2 = updated_eval[:-conf['LSTM_PARAMS']['LSTM_PREDICTION_LAG']]\\\n",
    "    .drop(conf['INDEX_COL'], axis=1)\\\n",
    "    .reset_index().drop('index', axis=1)\n",
    "\n",
    "Yv2 = updated_eval.shift(-conf['LSTM_PARAMS']['LSTM_PREDICTION_LAG'])\\\n",
    "    [:-conf['LSTM_PARAMS']['LSTM_PREDICTION_LAG']]\\\n",
    "    [conf['LABEL_COL']]\\\n",
    "    .reset_index().drop('index', axis=1)\n",
    "\n",
    "generatorv2 = TimeseriesGenerator(np.array(Xv2), np.array(Yv2), length=30, batch_size=100)"
   ],
   "metadata": {
    "collapsed": false,
    "pycharm": {
     "name": "#%%\n"
    }
   }
  },
  {
   "cell_type": "code",
   "execution_count": 57,
   "outputs": [
    {
     "data": {
      "text/plain": "             date  item  store  sales    year  quarter  month  weekofyear  \\\n1736   2017-10-03     1      1   18.0  2017.0      4.0   10.0        40.0   \n1737   2017-10-04     1      1   15.0  2017.0      4.0   10.0        40.0   \n1738   2017-10-05     1      1   20.0  2017.0      4.0   10.0        40.0   \n1739   2017-10-06     1      1   19.0  2017.0      4.0   10.0        40.0   \n1740   2017-10-07     1      1   22.0  2017.0      4.0   10.0        40.0   \n...           ...   ...    ...    ...     ...      ...    ...         ...   \n912995 2017-12-27    50     10   63.0  2017.0      4.0   12.0        52.0   \n912996 2017-12-28    50     10   59.0  2017.0      4.0   12.0        52.0   \n912997 2017-12-29    50     10   74.0  2017.0      4.0   12.0        52.0   \n912998 2017-12-30    50     10   62.0  2017.0      4.0   12.0        52.0   \n912999 2017-12-31    50     10   82.0  2017.0      4.0   12.0        52.0   \n\n        dayofweek  \n1736          1.0  \n1737          2.0  \n1738          3.0  \n1739          4.0  \n1740          5.0  \n...           ...  \n912995        2.0  \n912996        3.0  \n912997        4.0  \n912998        5.0  \n912999        6.0  \n\n[45000 rows x 9 columns]",
      "text/html": "<div>\n<style scoped>\n    .dataframe tbody tr th:only-of-type {\n        vertical-align: middle;\n    }\n\n    .dataframe tbody tr th {\n        vertical-align: top;\n    }\n\n    .dataframe thead th {\n        text-align: right;\n    }\n</style>\n<table border=\"1\" class=\"dataframe\">\n  <thead>\n    <tr style=\"text-align: right;\">\n      <th></th>\n      <th>date</th>\n      <th>item</th>\n      <th>store</th>\n      <th>sales</th>\n      <th>year</th>\n      <th>quarter</th>\n      <th>month</th>\n      <th>weekofyear</th>\n      <th>dayofweek</th>\n    </tr>\n  </thead>\n  <tbody>\n    <tr>\n      <th>1736</th>\n      <td>2017-10-03</td>\n      <td>1</td>\n      <td>1</td>\n      <td>18.0</td>\n      <td>2017.0</td>\n      <td>4.0</td>\n      <td>10.0</td>\n      <td>40.0</td>\n      <td>1.0</td>\n    </tr>\n    <tr>\n      <th>1737</th>\n      <td>2017-10-04</td>\n      <td>1</td>\n      <td>1</td>\n      <td>15.0</td>\n      <td>2017.0</td>\n      <td>4.0</td>\n      <td>10.0</td>\n      <td>40.0</td>\n      <td>2.0</td>\n    </tr>\n    <tr>\n      <th>1738</th>\n      <td>2017-10-05</td>\n      <td>1</td>\n      <td>1</td>\n      <td>20.0</td>\n      <td>2017.0</td>\n      <td>4.0</td>\n      <td>10.0</td>\n      <td>40.0</td>\n      <td>3.0</td>\n    </tr>\n    <tr>\n      <th>1739</th>\n      <td>2017-10-06</td>\n      <td>1</td>\n      <td>1</td>\n      <td>19.0</td>\n      <td>2017.0</td>\n      <td>4.0</td>\n      <td>10.0</td>\n      <td>40.0</td>\n      <td>4.0</td>\n    </tr>\n    <tr>\n      <th>1740</th>\n      <td>2017-10-07</td>\n      <td>1</td>\n      <td>1</td>\n      <td>22.0</td>\n      <td>2017.0</td>\n      <td>4.0</td>\n      <td>10.0</td>\n      <td>40.0</td>\n      <td>5.0</td>\n    </tr>\n    <tr>\n      <th>...</th>\n      <td>...</td>\n      <td>...</td>\n      <td>...</td>\n      <td>...</td>\n      <td>...</td>\n      <td>...</td>\n      <td>...</td>\n      <td>...</td>\n      <td>...</td>\n    </tr>\n    <tr>\n      <th>912995</th>\n      <td>2017-12-27</td>\n      <td>50</td>\n      <td>10</td>\n      <td>63.0</td>\n      <td>2017.0</td>\n      <td>4.0</td>\n      <td>12.0</td>\n      <td>52.0</td>\n      <td>2.0</td>\n    </tr>\n    <tr>\n      <th>912996</th>\n      <td>2017-12-28</td>\n      <td>50</td>\n      <td>10</td>\n      <td>59.0</td>\n      <td>2017.0</td>\n      <td>4.0</td>\n      <td>12.0</td>\n      <td>52.0</td>\n      <td>3.0</td>\n    </tr>\n    <tr>\n      <th>912997</th>\n      <td>2017-12-29</td>\n      <td>50</td>\n      <td>10</td>\n      <td>74.0</td>\n      <td>2017.0</td>\n      <td>4.0</td>\n      <td>12.0</td>\n      <td>52.0</td>\n      <td>4.0</td>\n    </tr>\n    <tr>\n      <th>912998</th>\n      <td>2017-12-30</td>\n      <td>50</td>\n      <td>10</td>\n      <td>62.0</td>\n      <td>2017.0</td>\n      <td>4.0</td>\n      <td>12.0</td>\n      <td>52.0</td>\n      <td>5.0</td>\n    </tr>\n    <tr>\n      <th>912999</th>\n      <td>2017-12-31</td>\n      <td>50</td>\n      <td>10</td>\n      <td>82.0</td>\n      <td>2017.0</td>\n      <td>4.0</td>\n      <td>12.0</td>\n      <td>52.0</td>\n      <td>6.0</td>\n    </tr>\n  </tbody>\n</table>\n<p>45000 rows × 9 columns</p>\n</div>"
     },
     "execution_count": 57,
     "metadata": {},
     "output_type": "execute_result"
    }
   ],
   "source": [
    "updated_eval"
   ],
   "metadata": {
    "collapsed": false,
    "pycharm": {
     "name": "#%%\n"
    }
   }
  },
  {
   "cell_type": "code",
   "execution_count": 58,
   "outputs": [
    {
     "data": {
      "text/plain": "        item  store  sales    year  quarter  month  weekofyear  dayofweek\n0          1      1   13.0  2013.0      1.0    1.0         1.0        1.0\n1          1      1   11.0  2013.0      1.0    1.0         1.0        2.0\n2          1      1   14.0  2013.0      1.0    1.0         1.0        3.0\n3          1      1   13.0  2013.0      1.0    1.0         1.0        4.0\n4          1      1   10.0  2013.0      1.0    1.0         1.0        5.0\n...      ...    ...    ...     ...      ...    ...         ...        ...\n867905    50     10  112.0  2017.0      2.0    6.0        26.0        4.0\n867906    50     10  119.0  2017.0      3.0    7.0        26.0        5.0\n867907    50     10  120.0  2017.0      3.0    7.0        26.0        6.0\n867908    50     10   99.0  2017.0      3.0    7.0        27.0        0.0\n867909    50     10   98.0  2017.0      3.0    7.0        27.0        1.0\n\n[867910 rows x 8 columns]",
      "text/html": "<div>\n<style scoped>\n    .dataframe tbody tr th:only-of-type {\n        vertical-align: middle;\n    }\n\n    .dataframe tbody tr th {\n        vertical-align: top;\n    }\n\n    .dataframe thead th {\n        text-align: right;\n    }\n</style>\n<table border=\"1\" class=\"dataframe\">\n  <thead>\n    <tr style=\"text-align: right;\">\n      <th></th>\n      <th>item</th>\n      <th>store</th>\n      <th>sales</th>\n      <th>year</th>\n      <th>quarter</th>\n      <th>month</th>\n      <th>weekofyear</th>\n      <th>dayofweek</th>\n    </tr>\n  </thead>\n  <tbody>\n    <tr>\n      <th>0</th>\n      <td>1</td>\n      <td>1</td>\n      <td>13.0</td>\n      <td>2013.0</td>\n      <td>1.0</td>\n      <td>1.0</td>\n      <td>1.0</td>\n      <td>1.0</td>\n    </tr>\n    <tr>\n      <th>1</th>\n      <td>1</td>\n      <td>1</td>\n      <td>11.0</td>\n      <td>2013.0</td>\n      <td>1.0</td>\n      <td>1.0</td>\n      <td>1.0</td>\n      <td>2.0</td>\n    </tr>\n    <tr>\n      <th>2</th>\n      <td>1</td>\n      <td>1</td>\n      <td>14.0</td>\n      <td>2013.0</td>\n      <td>1.0</td>\n      <td>1.0</td>\n      <td>1.0</td>\n      <td>3.0</td>\n    </tr>\n    <tr>\n      <th>3</th>\n      <td>1</td>\n      <td>1</td>\n      <td>13.0</td>\n      <td>2013.0</td>\n      <td>1.0</td>\n      <td>1.0</td>\n      <td>1.0</td>\n      <td>4.0</td>\n    </tr>\n    <tr>\n      <th>4</th>\n      <td>1</td>\n      <td>1</td>\n      <td>10.0</td>\n      <td>2013.0</td>\n      <td>1.0</td>\n      <td>1.0</td>\n      <td>1.0</td>\n      <td>5.0</td>\n    </tr>\n    <tr>\n      <th>...</th>\n      <td>...</td>\n      <td>...</td>\n      <td>...</td>\n      <td>...</td>\n      <td>...</td>\n      <td>...</td>\n      <td>...</td>\n      <td>...</td>\n    </tr>\n    <tr>\n      <th>867905</th>\n      <td>50</td>\n      <td>10</td>\n      <td>112.0</td>\n      <td>2017.0</td>\n      <td>2.0</td>\n      <td>6.0</td>\n      <td>26.0</td>\n      <td>4.0</td>\n    </tr>\n    <tr>\n      <th>867906</th>\n      <td>50</td>\n      <td>10</td>\n      <td>119.0</td>\n      <td>2017.0</td>\n      <td>3.0</td>\n      <td>7.0</td>\n      <td>26.0</td>\n      <td>5.0</td>\n    </tr>\n    <tr>\n      <th>867907</th>\n      <td>50</td>\n      <td>10</td>\n      <td>120.0</td>\n      <td>2017.0</td>\n      <td>3.0</td>\n      <td>7.0</td>\n      <td>26.0</td>\n      <td>6.0</td>\n    </tr>\n    <tr>\n      <th>867908</th>\n      <td>50</td>\n      <td>10</td>\n      <td>99.0</td>\n      <td>2017.0</td>\n      <td>3.0</td>\n      <td>7.0</td>\n      <td>27.0</td>\n      <td>0.0</td>\n    </tr>\n    <tr>\n      <th>867909</th>\n      <td>50</td>\n      <td>10</td>\n      <td>98.0</td>\n      <td>2017.0</td>\n      <td>3.0</td>\n      <td>7.0</td>\n      <td>27.0</td>\n      <td>1.0</td>\n    </tr>\n  </tbody>\n</table>\n<p>867910 rows × 8 columns</p>\n</div>"
     },
     "execution_count": 58,
     "metadata": {},
     "output_type": "execute_result"
    }
   ],
   "source": [
    "X2"
   ],
   "metadata": {
    "collapsed": false,
    "pycharm": {
     "name": "#%%\n"
    }
   }
  },
  {
   "cell_type": "code",
   "execution_count": 55,
   "outputs": [
    {
     "name": "stdout",
     "output_type": "stream",
     "text": [
      "WARNING:tensorflow:Layer lstm_4 will not use cuDNN kernels since it doesn't meet the criteria. It will use a generic GPU kernel as fallback when running on GPU.\n",
      "Model: \"sequential_4\"\n",
      "_________________________________________________________________\n",
      " Layer (type)                Output Shape              Param #   \n",
      "=================================================================\n",
      " lstm_4 (LSTM)               (None, 30)                4680      \n",
      "                                                                 \n",
      " dense_4 (Dense)             (None, 1)                 31        \n",
      "                                                                 \n",
      "=================================================================\n",
      "Total params: 4,711\n",
      "Trainable params: 4,711\n",
      "Non-trainable params: 0\n",
      "_________________________________________________________________\n",
      "Epoch 1/10\n",
      "8679/8679 [==============================] - 365s 42ms/step - loss: 3971.9839 - val_loss: 2187.1179\n",
      "Epoch 2/10\n",
      "8679/8679 [==============================] - 364s 42ms/step - loss: 983.0546 - val_loss: 518.3438\n",
      "Epoch 3/10\n",
      "8679/8679 [==============================] - 360s 42ms/step - loss: 438.2897 - val_loss: 892.1561\n",
      "Epoch 4/10\n",
      "8679/8679 [==============================] - 363s 42ms/step - loss: 413.0327 - val_loss: 611.9212\n",
      "INFO:tensorflow:Assets written to: C:\\Users\\yashc\\DataspellProjects\\EnsembleDemandForecasting\\models\\model-06-30-2022-16-06-20\\assets\n"
     ]
    }
   ],
   "source": [
    "mdl2 = lstm_model2(conf['LSTM_PARAMS'],\n",
    "                  MODEL_DIR,\n",
    "                  train_gen=generator2,\n",
    "                  eval_gen=generatorv2,\n",
    "                  shape=(30,8),\n",
    "                  training_req=1)"
   ],
   "metadata": {
    "collapsed": false,
    "pycharm": {
     "name": "#%%\n"
    }
   }
  },
  {
   "cell_type": "code",
   "execution_count": 60,
   "outputs": [
    {
     "name": "stdout",
     "output_type": "stream",
     "text": [
      "449/449 [==============================] - 3s 7ms/step\n"
     ]
    }
   ],
   "source": [
    "lstm_pred = mdl2.predict(generatorv2)"
   ],
   "metadata": {
    "collapsed": false,
    "pycharm": {
     "name": "#%%\n"
    }
   }
  },
  {
   "cell_type": "code",
   "execution_count": 61,
   "outputs": [
    {
     "data": {
      "text/plain": "array([[12.485227],\n       [16.674536],\n       [15.795766],\n       ...,\n       [52.389397],\n       [47.100418],\n       [44.78107 ]], dtype=float32)"
     },
     "execution_count": 61,
     "metadata": {},
     "output_type": "execute_result"
    }
   ],
   "source": [
    "lstm_pred"
   ],
   "metadata": {
    "collapsed": false,
    "pycharm": {
     "name": "#%%\n"
    }
   }
  },
  {
   "cell_type": "code",
   "execution_count": 64,
   "outputs": [
    {
     "name": "stdout",
     "output_type": "stream",
     "text": [
      "SMAPE Error Score: 39.07 %\n"
     ]
    }
   ],
   "source": [
    "lstm_smape = SMAPE(lstm_pred, Yv2[30:].values)\n"
   ],
   "metadata": {
    "collapsed": false,
    "pycharm": {
     "name": "#%%\n"
    }
   }
  },
  {
   "cell_type": "code",
   "execution_count": null,
   "outputs": [],
   "source": [],
   "metadata": {
    "collapsed": false,
    "pycharm": {
     "name": "#%%\n"
    }
   }
  },
  {
   "cell_type": "code",
   "execution_count": null,
   "outputs": [],
   "source": [
    "forecast_horizon = 90\n",
    "num_features = 8\n",
    "forecast_actual_records = updated_test.values()[:forecast_horizon].reshape((1,forecast_horizon,num_features))\n",
    "val_predicted_data = []\n",
    "\n",
    "\n",
    "# last n_input points from the training set\n",
    "first_eval_batch = updated_eval.values()[-forecast_horizon:]\n",
    "# reshape this to the format RNN wants (same format as TimeseriesGenerator)\n",
    "current_batch = first_eval_batch.reshape((1,forecast_horizon,num_features))\n",
    "\n",
    "temp_list = list(current_batch)\n",
    "\n",
    "for i in range(forecast_horizon):\n",
    "    prediction = mdl2.predict(current_batch)[0][0]\n",
    "    print(f'prediction at input {current_batch} is {prediction}')\n",
    "    latest_train_record = current_batch[0][-1]\n",
    "    next_val_record = forecast_actual_records[0][i]\n",
    "\n",
    "    # Substituting next input's close value with predicted close of previous input\n",
    "    next_val_record[0] = prediction\n",
    "    current_batch = np.vstack((current_batch[0][-(forecast_horizon-1):],next_val_record.reshape(1,num_features))).reshape(1,forecast_horizon,num_features)"
   ],
   "metadata": {
    "collapsed": false,
    "pycharm": {
     "name": "#%%\n"
    }
   }
  },
  {
   "cell_type": "code",
   "execution_count": 23,
   "outputs": [
    {
     "name": "stdout",
     "output_type": "stream",
     "text": [
      "INFO:tensorflow:Reloading Oracle from existing project C:\\Users\\yashc\\DataspellProjects\\EnsembleDemandForecasting\\models\\LSTM Tuning\\oracle.json\n",
      "\n",
      "Search: Running Trial #1\n",
      "\n",
      "Value             |Best Value So Far |Hyperparameter\n",
      "0.00047026        |?                 |lr\n",
      "512               |?                 |units\n",
      "\n",
      "Epoch 1/2\n",
      "  18/7304 [..............................] - ETA: 48:40 - loss: 323672.0938"
     ]
    },
    {
     "ename": "KeyboardInterrupt",
     "evalue": "",
     "output_type": "error",
     "traceback": [
      "\u001B[1;31m---------------------------------------------------------------------------\u001B[0m",
      "\u001B[1;31mKeyboardInterrupt\u001B[0m                         Traceback (most recent call last)",
      "Input \u001B[1;32mIn [23]\u001B[0m, in \u001B[0;36m<cell line: 8>\u001B[1;34m()\u001B[0m\n\u001B[0;32m      7\u001B[0m \u001B[38;5;66;03m# fit model\u001B[39;00m\n\u001B[0;32m      8\u001B[0m \u001B[38;5;28;01mwith\u001B[39;00m tf\u001B[38;5;241m.\u001B[39mdevice(\u001B[38;5;124m\"\u001B[39m\u001B[38;5;124mgpu:0\u001B[39m\u001B[38;5;124m\"\u001B[39m):\n\u001B[1;32m----> 9\u001B[0m     \u001B[43mtuner\u001B[49m\u001B[38;5;241;43m.\u001B[39;49m\u001B[43msearch\u001B[49m\u001B[43m(\u001B[49m\u001B[43mgenerator\u001B[49m\u001B[43m,\u001B[49m\u001B[43m \u001B[49m\u001B[43mvalidation_data\u001B[49m\u001B[38;5;241;43m=\u001B[39;49m\u001B[43mgeneratorv\u001B[49m\u001B[43m,\u001B[49m\u001B[43m \u001B[49m\u001B[43mepochs\u001B[49m\u001B[38;5;241;43m=\u001B[39;49m\u001B[38;5;241;43m2\u001B[39;49m\u001B[43m,\u001B[49m\u001B[43m \u001B[49m\u001B[43mverbose\u001B[49m\u001B[38;5;241;43m=\u001B[39;49m\u001B[38;5;241;43m1\u001B[39;49m\u001B[43m)\u001B[49m\n",
      "File \u001B[1;32mE:\\code\\EnsembleDemandForecasting\\lib\\site-packages\\keras_tuner\\engine\\base_tuner.py:179\u001B[0m, in \u001B[0;36mBaseTuner.search\u001B[1;34m(self, *fit_args, **fit_kwargs)\u001B[0m\n\u001B[0;32m    176\u001B[0m     \u001B[38;5;28;01mcontinue\u001B[39;00m\n\u001B[0;32m    178\u001B[0m \u001B[38;5;28mself\u001B[39m\u001B[38;5;241m.\u001B[39mon_trial_begin(trial)\n\u001B[1;32m--> 179\u001B[0m results \u001B[38;5;241m=\u001B[39m \u001B[38;5;28mself\u001B[39m\u001B[38;5;241m.\u001B[39mrun_trial(trial, \u001B[38;5;241m*\u001B[39mfit_args, \u001B[38;5;241m*\u001B[39m\u001B[38;5;241m*\u001B[39mfit_kwargs)\n\u001B[0;32m    180\u001B[0m \u001B[38;5;66;03m# `results` is None indicates user updated oracle in `run_trial()`.\u001B[39;00m\n\u001B[0;32m    181\u001B[0m \u001B[38;5;28;01mif\u001B[39;00m results \u001B[38;5;129;01mis\u001B[39;00m \u001B[38;5;28;01mNone\u001B[39;00m:\n",
      "File \u001B[1;32mE:\\code\\EnsembleDemandForecasting\\lib\\site-packages\\keras_tuner\\engine\\tuner.py:294\u001B[0m, in \u001B[0;36mTuner.run_trial\u001B[1;34m(self, trial, *args, **kwargs)\u001B[0m\n\u001B[0;32m    292\u001B[0m     callbacks\u001B[38;5;241m.\u001B[39mappend(model_checkpoint)\n\u001B[0;32m    293\u001B[0m     copied_kwargs[\u001B[38;5;124m\"\u001B[39m\u001B[38;5;124mcallbacks\u001B[39m\u001B[38;5;124m\"\u001B[39m] \u001B[38;5;241m=\u001B[39m callbacks\n\u001B[1;32m--> 294\u001B[0m     obj_value \u001B[38;5;241m=\u001B[39m \u001B[38;5;28mself\u001B[39m\u001B[38;5;241m.\u001B[39m_build_and_fit_model(trial, \u001B[38;5;241m*\u001B[39margs, \u001B[38;5;241m*\u001B[39m\u001B[38;5;241m*\u001B[39mcopied_kwargs)\n\u001B[0;32m    296\u001B[0m     histories\u001B[38;5;241m.\u001B[39mappend(obj_value)\n\u001B[0;32m    297\u001B[0m \u001B[38;5;28;01mreturn\u001B[39;00m histories\n",
      "File \u001B[1;32mE:\\code\\EnsembleDemandForecasting\\lib\\site-packages\\keras_tuner\\engine\\tuner.py:222\u001B[0m, in \u001B[0;36mTuner._build_and_fit_model\u001B[1;34m(self, trial, *args, **kwargs)\u001B[0m\n\u001B[0;32m    220\u001B[0m hp \u001B[38;5;241m=\u001B[39m trial\u001B[38;5;241m.\u001B[39mhyperparameters\n\u001B[0;32m    221\u001B[0m model \u001B[38;5;241m=\u001B[39m \u001B[38;5;28mself\u001B[39m\u001B[38;5;241m.\u001B[39m_try_build(hp)\n\u001B[1;32m--> 222\u001B[0m results \u001B[38;5;241m=\u001B[39m \u001B[38;5;28mself\u001B[39m\u001B[38;5;241m.\u001B[39mhypermodel\u001B[38;5;241m.\u001B[39mfit(hp, model, \u001B[38;5;241m*\u001B[39margs, \u001B[38;5;241m*\u001B[39m\u001B[38;5;241m*\u001B[39mkwargs)\n\u001B[0;32m    223\u001B[0m \u001B[38;5;28;01mreturn\u001B[39;00m tuner_utils\u001B[38;5;241m.\u001B[39mconvert_to_metrics_dict(\n\u001B[0;32m    224\u001B[0m     results, \u001B[38;5;28mself\u001B[39m\u001B[38;5;241m.\u001B[39moracle\u001B[38;5;241m.\u001B[39mobjective, \u001B[38;5;124m\"\u001B[39m\u001B[38;5;124mHyperModel.fit()\u001B[39m\u001B[38;5;124m\"\u001B[39m\n\u001B[0;32m    225\u001B[0m )\n",
      "File \u001B[1;32mE:\\code\\EnsembleDemandForecasting\\lib\\site-packages\\keras_tuner\\engine\\hypermodel.py:137\u001B[0m, in \u001B[0;36mHyperModel.fit\u001B[1;34m(self, hp, model, *args, **kwargs)\u001B[0m\n\u001B[0;32m    113\u001B[0m \u001B[38;5;28;01mdef\u001B[39;00m \u001B[38;5;21mfit\u001B[39m(\u001B[38;5;28mself\u001B[39m, hp, model, \u001B[38;5;241m*\u001B[39margs, \u001B[38;5;241m*\u001B[39m\u001B[38;5;241m*\u001B[39mkwargs):\n\u001B[0;32m    114\u001B[0m     \u001B[38;5;124;03m\"\"\"Train the model.\u001B[39;00m\n\u001B[0;32m    115\u001B[0m \n\u001B[0;32m    116\u001B[0m \u001B[38;5;124;03m    Args:\u001B[39;00m\n\u001B[1;32m   (...)\u001B[0m\n\u001B[0;32m    135\u001B[0m \u001B[38;5;124;03m        If return a float, it should be the `objective` value.\u001B[39;00m\n\u001B[0;32m    136\u001B[0m \u001B[38;5;124;03m    \"\"\"\u001B[39;00m\n\u001B[1;32m--> 137\u001B[0m     \u001B[38;5;28;01mreturn\u001B[39;00m model\u001B[38;5;241m.\u001B[39mfit(\u001B[38;5;241m*\u001B[39margs, \u001B[38;5;241m*\u001B[39m\u001B[38;5;241m*\u001B[39mkwargs)\n",
      "File \u001B[1;32mE:\\code\\EnsembleDemandForecasting\\lib\\site-packages\\keras\\engine\\training.py:1184\u001B[0m, in \u001B[0;36mModel.fit\u001B[1;34m(self, x, y, batch_size, epochs, verbose, callbacks, validation_split, validation_data, shuffle, class_weight, sample_weight, initial_epoch, steps_per_epoch, validation_steps, validation_batch_size, validation_freq, max_queue_size, workers, use_multiprocessing)\u001B[0m\n\u001B[0;32m   1177\u001B[0m \u001B[38;5;28;01mwith\u001B[39;00m tf\u001B[38;5;241m.\u001B[39mprofiler\u001B[38;5;241m.\u001B[39mexperimental\u001B[38;5;241m.\u001B[39mTrace(\n\u001B[0;32m   1178\u001B[0m     \u001B[38;5;124m'\u001B[39m\u001B[38;5;124mtrain\u001B[39m\u001B[38;5;124m'\u001B[39m,\n\u001B[0;32m   1179\u001B[0m     epoch_num\u001B[38;5;241m=\u001B[39mepoch,\n\u001B[0;32m   1180\u001B[0m     step_num\u001B[38;5;241m=\u001B[39mstep,\n\u001B[0;32m   1181\u001B[0m     batch_size\u001B[38;5;241m=\u001B[39mbatch_size,\n\u001B[0;32m   1182\u001B[0m     _r\u001B[38;5;241m=\u001B[39m\u001B[38;5;241m1\u001B[39m):\n\u001B[0;32m   1183\u001B[0m   callbacks\u001B[38;5;241m.\u001B[39mon_train_batch_begin(step)\n\u001B[1;32m-> 1184\u001B[0m   tmp_logs \u001B[38;5;241m=\u001B[39m \u001B[38;5;28;43mself\u001B[39;49m\u001B[38;5;241;43m.\u001B[39;49m\u001B[43mtrain_function\u001B[49m\u001B[43m(\u001B[49m\u001B[43miterator\u001B[49m\u001B[43m)\u001B[49m\n\u001B[0;32m   1185\u001B[0m   \u001B[38;5;28;01mif\u001B[39;00m data_handler\u001B[38;5;241m.\u001B[39mshould_sync:\n\u001B[0;32m   1186\u001B[0m     context\u001B[38;5;241m.\u001B[39masync_wait()\n",
      "File \u001B[1;32mE:\\code\\EnsembleDemandForecasting\\lib\\site-packages\\tensorflow\\python\\eager\\def_function.py:885\u001B[0m, in \u001B[0;36mFunction.__call__\u001B[1;34m(self, *args, **kwds)\u001B[0m\n\u001B[0;32m    882\u001B[0m compiler \u001B[38;5;241m=\u001B[39m \u001B[38;5;124m\"\u001B[39m\u001B[38;5;124mxla\u001B[39m\u001B[38;5;124m\"\u001B[39m \u001B[38;5;28;01mif\u001B[39;00m \u001B[38;5;28mself\u001B[39m\u001B[38;5;241m.\u001B[39m_jit_compile \u001B[38;5;28;01melse\u001B[39;00m \u001B[38;5;124m\"\u001B[39m\u001B[38;5;124mnonXla\u001B[39m\u001B[38;5;124m\"\u001B[39m\n\u001B[0;32m    884\u001B[0m \u001B[38;5;28;01mwith\u001B[39;00m OptionalXlaContext(\u001B[38;5;28mself\u001B[39m\u001B[38;5;241m.\u001B[39m_jit_compile):\n\u001B[1;32m--> 885\u001B[0m   result \u001B[38;5;241m=\u001B[39m \u001B[38;5;28mself\u001B[39m\u001B[38;5;241m.\u001B[39m_call(\u001B[38;5;241m*\u001B[39margs, \u001B[38;5;241m*\u001B[39m\u001B[38;5;241m*\u001B[39mkwds)\n\u001B[0;32m    887\u001B[0m new_tracing_count \u001B[38;5;241m=\u001B[39m \u001B[38;5;28mself\u001B[39m\u001B[38;5;241m.\u001B[39mexperimental_get_tracing_count()\n\u001B[0;32m    888\u001B[0m without_tracing \u001B[38;5;241m=\u001B[39m (tracing_count \u001B[38;5;241m==\u001B[39m new_tracing_count)\n",
      "File \u001B[1;32mE:\\code\\EnsembleDemandForecasting\\lib\\site-packages\\tensorflow\\python\\eager\\def_function.py:917\u001B[0m, in \u001B[0;36mFunction._call\u001B[1;34m(self, *args, **kwds)\u001B[0m\n\u001B[0;32m    914\u001B[0m   \u001B[38;5;28mself\u001B[39m\u001B[38;5;241m.\u001B[39m_lock\u001B[38;5;241m.\u001B[39mrelease()\n\u001B[0;32m    915\u001B[0m   \u001B[38;5;66;03m# In this case we have created variables on the first call, so we run the\u001B[39;00m\n\u001B[0;32m    916\u001B[0m   \u001B[38;5;66;03m# defunned version which is guaranteed to never create variables.\u001B[39;00m\n\u001B[1;32m--> 917\u001B[0m   \u001B[38;5;28;01mreturn\u001B[39;00m \u001B[38;5;28mself\u001B[39m\u001B[38;5;241m.\u001B[39m_stateless_fn(\u001B[38;5;241m*\u001B[39margs, \u001B[38;5;241m*\u001B[39m\u001B[38;5;241m*\u001B[39mkwds)  \u001B[38;5;66;03m# pylint: disable=not-callable\u001B[39;00m\n\u001B[0;32m    918\u001B[0m \u001B[38;5;28;01melif\u001B[39;00m \u001B[38;5;28mself\u001B[39m\u001B[38;5;241m.\u001B[39m_stateful_fn \u001B[38;5;129;01mis\u001B[39;00m \u001B[38;5;129;01mnot\u001B[39;00m \u001B[38;5;28;01mNone\u001B[39;00m:\n\u001B[0;32m    919\u001B[0m   \u001B[38;5;66;03m# Release the lock early so that multiple threads can perform the call\u001B[39;00m\n\u001B[0;32m    920\u001B[0m   \u001B[38;5;66;03m# in parallel.\u001B[39;00m\n\u001B[0;32m    921\u001B[0m   \u001B[38;5;28mself\u001B[39m\u001B[38;5;241m.\u001B[39m_lock\u001B[38;5;241m.\u001B[39mrelease()\n",
      "File \u001B[1;32mE:\\code\\EnsembleDemandForecasting\\lib\\site-packages\\tensorflow\\python\\eager\\function.py:3039\u001B[0m, in \u001B[0;36mFunction.__call__\u001B[1;34m(self, *args, **kwargs)\u001B[0m\n\u001B[0;32m   3036\u001B[0m \u001B[38;5;28;01mwith\u001B[39;00m \u001B[38;5;28mself\u001B[39m\u001B[38;5;241m.\u001B[39m_lock:\n\u001B[0;32m   3037\u001B[0m   (graph_function,\n\u001B[0;32m   3038\u001B[0m    filtered_flat_args) \u001B[38;5;241m=\u001B[39m \u001B[38;5;28mself\u001B[39m\u001B[38;5;241m.\u001B[39m_maybe_define_function(args, kwargs)\n\u001B[1;32m-> 3039\u001B[0m \u001B[38;5;28;01mreturn\u001B[39;00m \u001B[43mgraph_function\u001B[49m\u001B[38;5;241;43m.\u001B[39;49m\u001B[43m_call_flat\u001B[49m\u001B[43m(\u001B[49m\n\u001B[0;32m   3040\u001B[0m \u001B[43m    \u001B[49m\u001B[43mfiltered_flat_args\u001B[49m\u001B[43m,\u001B[49m\u001B[43m \u001B[49m\u001B[43mcaptured_inputs\u001B[49m\u001B[38;5;241;43m=\u001B[39;49m\u001B[43mgraph_function\u001B[49m\u001B[38;5;241;43m.\u001B[39;49m\u001B[43mcaptured_inputs\u001B[49m\u001B[43m)\u001B[49m\n",
      "File \u001B[1;32mE:\\code\\EnsembleDemandForecasting\\lib\\site-packages\\tensorflow\\python\\eager\\function.py:1963\u001B[0m, in \u001B[0;36mConcreteFunction._call_flat\u001B[1;34m(self, args, captured_inputs, cancellation_manager)\u001B[0m\n\u001B[0;32m   1959\u001B[0m possible_gradient_type \u001B[38;5;241m=\u001B[39m gradients_util\u001B[38;5;241m.\u001B[39mPossibleTapeGradientTypes(args)\n\u001B[0;32m   1960\u001B[0m \u001B[38;5;28;01mif\u001B[39;00m (possible_gradient_type \u001B[38;5;241m==\u001B[39m gradients_util\u001B[38;5;241m.\u001B[39mPOSSIBLE_GRADIENT_TYPES_NONE\n\u001B[0;32m   1961\u001B[0m     \u001B[38;5;129;01mand\u001B[39;00m executing_eagerly):\n\u001B[0;32m   1962\u001B[0m   \u001B[38;5;66;03m# No tape is watching; skip to running the function.\u001B[39;00m\n\u001B[1;32m-> 1963\u001B[0m   \u001B[38;5;28;01mreturn\u001B[39;00m \u001B[38;5;28mself\u001B[39m\u001B[38;5;241m.\u001B[39m_build_call_outputs(\u001B[38;5;28;43mself\u001B[39;49m\u001B[38;5;241;43m.\u001B[39;49m\u001B[43m_inference_function\u001B[49m\u001B[38;5;241;43m.\u001B[39;49m\u001B[43mcall\u001B[49m\u001B[43m(\u001B[49m\n\u001B[0;32m   1964\u001B[0m \u001B[43m      \u001B[49m\u001B[43mctx\u001B[49m\u001B[43m,\u001B[49m\u001B[43m \u001B[49m\u001B[43margs\u001B[49m\u001B[43m,\u001B[49m\u001B[43m \u001B[49m\u001B[43mcancellation_manager\u001B[49m\u001B[38;5;241;43m=\u001B[39;49m\u001B[43mcancellation_manager\u001B[49m\u001B[43m)\u001B[49m)\n\u001B[0;32m   1965\u001B[0m forward_backward \u001B[38;5;241m=\u001B[39m \u001B[38;5;28mself\u001B[39m\u001B[38;5;241m.\u001B[39m_select_forward_and_backward_functions(\n\u001B[0;32m   1966\u001B[0m     args,\n\u001B[0;32m   1967\u001B[0m     possible_gradient_type,\n\u001B[0;32m   1968\u001B[0m     executing_eagerly)\n\u001B[0;32m   1969\u001B[0m forward_function, args_with_tangents \u001B[38;5;241m=\u001B[39m forward_backward\u001B[38;5;241m.\u001B[39mforward()\n",
      "File \u001B[1;32mE:\\code\\EnsembleDemandForecasting\\lib\\site-packages\\tensorflow\\python\\eager\\function.py:591\u001B[0m, in \u001B[0;36m_EagerDefinedFunction.call\u001B[1;34m(self, ctx, args, cancellation_manager)\u001B[0m\n\u001B[0;32m    589\u001B[0m \u001B[38;5;28;01mwith\u001B[39;00m _InterpolateFunctionError(\u001B[38;5;28mself\u001B[39m):\n\u001B[0;32m    590\u001B[0m   \u001B[38;5;28;01mif\u001B[39;00m cancellation_manager \u001B[38;5;129;01mis\u001B[39;00m \u001B[38;5;28;01mNone\u001B[39;00m:\n\u001B[1;32m--> 591\u001B[0m     outputs \u001B[38;5;241m=\u001B[39m \u001B[43mexecute\u001B[49m\u001B[38;5;241;43m.\u001B[39;49m\u001B[43mexecute\u001B[49m\u001B[43m(\u001B[49m\n\u001B[0;32m    592\u001B[0m \u001B[43m        \u001B[49m\u001B[38;5;28;43mstr\u001B[39;49m\u001B[43m(\u001B[49m\u001B[38;5;28;43mself\u001B[39;49m\u001B[38;5;241;43m.\u001B[39;49m\u001B[43msignature\u001B[49m\u001B[38;5;241;43m.\u001B[39;49m\u001B[43mname\u001B[49m\u001B[43m)\u001B[49m\u001B[43m,\u001B[49m\n\u001B[0;32m    593\u001B[0m \u001B[43m        \u001B[49m\u001B[43mnum_outputs\u001B[49m\u001B[38;5;241;43m=\u001B[39;49m\u001B[38;5;28;43mself\u001B[39;49m\u001B[38;5;241;43m.\u001B[39;49m\u001B[43m_num_outputs\u001B[49m\u001B[43m,\u001B[49m\n\u001B[0;32m    594\u001B[0m \u001B[43m        \u001B[49m\u001B[43minputs\u001B[49m\u001B[38;5;241;43m=\u001B[39;49m\u001B[43margs\u001B[49m\u001B[43m,\u001B[49m\n\u001B[0;32m    595\u001B[0m \u001B[43m        \u001B[49m\u001B[43mattrs\u001B[49m\u001B[38;5;241;43m=\u001B[39;49m\u001B[43mattrs\u001B[49m\u001B[43m,\u001B[49m\n\u001B[0;32m    596\u001B[0m \u001B[43m        \u001B[49m\u001B[43mctx\u001B[49m\u001B[38;5;241;43m=\u001B[39;49m\u001B[43mctx\u001B[49m\u001B[43m)\u001B[49m\n\u001B[0;32m    597\u001B[0m   \u001B[38;5;28;01melse\u001B[39;00m:\n\u001B[0;32m    598\u001B[0m     outputs \u001B[38;5;241m=\u001B[39m execute\u001B[38;5;241m.\u001B[39mexecute_with_cancellation(\n\u001B[0;32m    599\u001B[0m         \u001B[38;5;28mstr\u001B[39m(\u001B[38;5;28mself\u001B[39m\u001B[38;5;241m.\u001B[39msignature\u001B[38;5;241m.\u001B[39mname),\n\u001B[0;32m    600\u001B[0m         num_outputs\u001B[38;5;241m=\u001B[39m\u001B[38;5;28mself\u001B[39m\u001B[38;5;241m.\u001B[39m_num_outputs,\n\u001B[1;32m   (...)\u001B[0m\n\u001B[0;32m    603\u001B[0m         ctx\u001B[38;5;241m=\u001B[39mctx,\n\u001B[0;32m    604\u001B[0m         cancellation_manager\u001B[38;5;241m=\u001B[39mcancellation_manager)\n",
      "File \u001B[1;32mE:\\code\\EnsembleDemandForecasting\\lib\\site-packages\\tensorflow\\python\\eager\\execute.py:59\u001B[0m, in \u001B[0;36mquick_execute\u001B[1;34m(op_name, num_outputs, inputs, attrs, ctx, name)\u001B[0m\n\u001B[0;32m     57\u001B[0m \u001B[38;5;28;01mtry\u001B[39;00m:\n\u001B[0;32m     58\u001B[0m   ctx\u001B[38;5;241m.\u001B[39mensure_initialized()\n\u001B[1;32m---> 59\u001B[0m   tensors \u001B[38;5;241m=\u001B[39m \u001B[43mpywrap_tfe\u001B[49m\u001B[38;5;241;43m.\u001B[39;49m\u001B[43mTFE_Py_Execute\u001B[49m\u001B[43m(\u001B[49m\u001B[43mctx\u001B[49m\u001B[38;5;241;43m.\u001B[39;49m\u001B[43m_handle\u001B[49m\u001B[43m,\u001B[49m\u001B[43m \u001B[49m\u001B[43mdevice_name\u001B[49m\u001B[43m,\u001B[49m\u001B[43m \u001B[49m\u001B[43mop_name\u001B[49m\u001B[43m,\u001B[49m\n\u001B[0;32m     60\u001B[0m \u001B[43m                                      \u001B[49m\u001B[43minputs\u001B[49m\u001B[43m,\u001B[49m\u001B[43m \u001B[49m\u001B[43mattrs\u001B[49m\u001B[43m,\u001B[49m\u001B[43m \u001B[49m\u001B[43mnum_outputs\u001B[49m\u001B[43m)\u001B[49m\n\u001B[0;32m     61\u001B[0m \u001B[38;5;28;01mexcept\u001B[39;00m core\u001B[38;5;241m.\u001B[39m_NotOkStatusException \u001B[38;5;28;01mas\u001B[39;00m e:\n\u001B[0;32m     62\u001B[0m   \u001B[38;5;28;01mif\u001B[39;00m name \u001B[38;5;129;01mis\u001B[39;00m \u001B[38;5;129;01mnot\u001B[39;00m \u001B[38;5;28;01mNone\u001B[39;00m:\n",
      "\u001B[1;31mKeyboardInterrupt\u001B[0m: "
     ]
    }
   ],
   "source": [
    "\n",
    "tuner = kt.RandomSearch(\n",
    "    keras_tuning,\n",
    "    directory=MODEL_DIR,\n",
    "    project_name='LSTM Tuning',\n",
    "    objective='val_loss',\n",
    "    max_trials=5)\n",
    "# fit model\n",
    "with tf.device(\"gpu:0\"):\n",
    "    tuner.search(generator, validation_data=generatorv, epochs=2, verbose=1)"
   ],
   "metadata": {
    "collapsed": false,
    "pycharm": {
     "name": "#%%\n"
    }
   }
  },
  {
   "cell_type": "code",
   "execution_count": 1,
   "outputs": [
    {
     "name": "stdout",
     "output_type": "stream",
     "text": [
      "[name: \"/device:CPU:0\"\n",
      "device_type: \"CPU\"\n",
      "memory_limit: 268435456\n",
      "locality {\n",
      "}\n",
      "incarnation: 8763724201833269520\n",
      "xla_global_id: -1\n",
      ", name: \"/device:GPU:0\"\n",
      "device_type: \"GPU\"\n",
      "memory_limit: 7801405440\n",
      "locality {\n",
      "  bus_id: 1\n",
      "  links {\n",
      "  }\n",
      "}\n",
      "incarnation: 2829677937871431829\n",
      "physical_device_desc: \"device: 0, name: NVIDIA GeForce RTX 3080, pci bus id: 0000:01:00.0, compute capability: 8.6\"\n",
      "xla_global_id: 416903419\n",
      "]\n"
     ]
    }
   ],
   "source": [
    "from tensorflow.python.client import device_lib\n",
    "\n",
    "print(device_lib.list_local_devices())"
   ],
   "metadata": {
    "collapsed": false,
    "pycharm": {
     "name": "#%%\n"
    }
   }
  },
  {
   "cell_type": "code",
   "execution_count": 55,
   "outputs": [
    {
     "name": "stdout",
     "output_type": "stream",
     "text": [
      "INFO:tensorflow:Assets written to: C:\\Users\\yashc\\DataspellProjects\\EnsembleDemandForecasting\\models\\newLSTM\\assets\n"
     ]
    }
   ],
   "source": [
    "model.save(f'{MODEL_DIR}newLSTM')"
   ],
   "metadata": {
    "collapsed": false,
    "pycharm": {
     "name": "#%%\n"
    }
   }
  },
  {
   "cell_type": "code",
   "execution_count": null,
   "outputs": [],
   "source": [
    "####"
   ],
   "metadata": {
    "collapsed": false,
    "pycharm": {
     "name": "#%%\n"
    }
   }
  },
  {
   "cell_type": "code",
   "execution_count": 33,
   "outputs": [
    {
     "name": "stdout",
     "output_type": "stream",
     "text": [
      "<class 'pandas.core.frame.DataFrame'>\n",
      "RangeIndex: 913000 entries, 0 to 912999\n",
      "Data columns (total 9 columns):\n",
      " #   Column      Non-Null Count   Dtype         \n",
      "---  ------      --------------   -----         \n",
      " 0   date        913000 non-null  datetime64[ns]\n",
      " 1   item        913000 non-null  int16         \n",
      " 2   store       913000 non-null  int16         \n",
      " 3   sales       913000 non-null  float64       \n",
      " 4   year        913000 non-null  uint8         \n",
      " 5   quarter     913000 non-null  uint8         \n",
      " 6   month       913000 non-null  uint8         \n",
      " 7   weekofyear  913000 non-null  uint8         \n",
      " 8   dayofweek   913000 non-null  uint8         \n",
      "dtypes: datetime64[ns](1), float64(1), int16(2), uint8(5)\n",
      "memory usage: 21.8 MB\n"
     ]
    }
   ],
   "source": [
    "processed_data.info()"
   ],
   "metadata": {
    "collapsed": false,
    "pycharm": {
     "name": "#%%\n"
    }
   }
  },
  {
   "cell_type": "code",
   "execution_count": 38,
   "outputs": [],
   "source": [
    "def prepare_data(x, y, categorical, numeric, steps):\n",
    "    _x, _y = [], []\n",
    "    columns = categorical + numeric\n",
    "    for col in columns:\n",
    "        inp = []\n",
    "        for i in range(len(x) - steps):\n",
    "            v = x.iloc[i:(i + steps)][col].values.astype(np.float32)\n",
    "            if col in numeric:\n",
    "                v = v.reshape(steps, 1)\n",
    "            inp.append(v)\n",
    "        inp = np.stack(inp, axis = 0)\n",
    "        _x.append(inp)\n",
    "\n",
    "    for i in range(len(x) - steps):\n",
    "        _y.append(y.iloc[i + steps].values)\n",
    "    _y = np.array(_y).astype(np.float32)\n",
    "\n",
    "    return _x, _y"
   ],
   "metadata": {
    "collapsed": false,
    "pycharm": {
     "name": "#%%\n"
    }
   }
  },
  {
   "cell_type": "code",
   "execution_count": 39,
   "outputs": [],
   "source": [
    "# Categorize columns by type for pre-processing\n",
    "categorical =  ['year','quarter' ,'month','weekofyear','weekday' ,'dayofweek','store','item']\n",
    "numeric = []\n",
    "label = ['sales']\n",
    "\n"
   ],
   "metadata": {
    "collapsed": false,
    "pycharm": {
     "name": "#%%\n"
    }
   }
  },
  {
   "cell_type": "code",
   "execution_count": 24,
   "outputs": [],
   "source": [
    "# # Split into train-test set\n",
    "# X_train, X_valid, Y_train, Y_valid = train_test_split(\n",
    "#     processed_data.drop([f'{conf[\"INDEX_COL\"]}', f'{conf[\"LABEL_COL\"]}'],axis=1),\n",
    "#     processed_data[conf[\"LABEL_COL\"]],\n",
    "#     test_size=0.2,\n",
    "#     shuffle=False\n",
    "# )"
   ],
   "metadata": {
    "collapsed": false,
    "pycharm": {
     "name": "#%%\n"
    }
   }
  },
  {
   "cell_type": "code",
   "execution_count": 25,
   "outputs": [],
   "source": [
    "# import gc\n",
    "# gc.collect()"
   ],
   "metadata": {
    "collapsed": false,
    "pycharm": {
     "name": "#%%\n"
    }
   }
  },
  {
   "cell_type": "code",
   "execution_count": 40,
   "outputs": [],
   "source": [
    "lstm_input = deepcopy(processed_data)"
   ],
   "metadata": {
    "collapsed": false,
    "pycharm": {
     "name": "#%%\n"
    }
   }
  },
  {
   "cell_type": "code",
   "execution_count": 41,
   "outputs": [],
   "source": [
    "# Convert data into format fit for LSTM\n",
    "lstm_processed_data_2 = series_to_supervised(lstm_input,\n",
    "                                             index=conf['INDEX_COL'],\n",
    "                                             target=conf['LABEL_COL'],\n",
    "                                             categories=conf['CATEGORIES'],\n",
    "                                             window=conf['LSTM_PARAMS']['LSTM_WINDOW_LENGTH'],\n",
    "                                             lag=conf['LSTM_PARAMS']['LSTM_PREDICTION_LAG']\n",
    "                                             )"
   ],
   "metadata": {
    "collapsed": false,
    "pycharm": {
     "name": "#%%\n"
    }
   }
  },
  {
   "cell_type": "code",
   "execution_count": 45,
   "outputs": [],
   "source": [
    "# Split into train-test set\n",
    "X_train, Y_train, X_valid, Y_valid = split_train_valid(lstm_processed_data_2,\n",
    "                                                       label=conf['LABEL_COL'],\n",
    "                                                       test_size=0.2,\n",
    "                                                       lag=conf['LSTM_PARAMS']['LSTM_PREDICTION_LAG']\n",
    "                                                       )"
   ],
   "metadata": {
    "collapsed": false,
    "pycharm": {
     "name": "#%%\n"
    }
   }
  },
  {
   "cell_type": "code",
   "execution_count": 49,
   "outputs": [
    {
     "data": {
      "text/plain": "item(t-29)       0\nstore(t-29)      0\nsales(t-29)      0\nyear(t-29)       0\nquarter(t-29)    0\n                ..\nyear(t)          0\nquarter(t)       0\nmonth(t)         0\nweekofyear(t)    0\ndayofweek(t)     0\nLength: 240, dtype: int64"
     },
     "execution_count": 49,
     "metadata": {},
     "output_type": "execute_result"
    }
   ],
   "source": [
    "X_train.isna().sum()"
   ],
   "metadata": {
    "collapsed": false,
    "pycharm": {
     "name": "#%%\n"
    }
   }
  },
  {
   "cell_type": "code",
   "execution_count": 29,
   "outputs": [
    {
     "name": "stdout",
     "output_type": "stream",
     "text": [
      "<class 'pandas.core.frame.DataFrame'>\n",
      "Int64Index: 898410 entries, 29 to 912909\n",
      "Columns: 248 entries, item(t-29) to dayofweek(t+90)\n",
      "dtypes: float64(241), int16(2), uint8(5)\n",
      "memory usage: 1.6 GB\n"
     ]
    }
   ],
   "source": [
    "lstm_processed_data_2.info()"
   ],
   "metadata": {
    "collapsed": false,
    "pycharm": {
     "name": "#%%\n"
    }
   }
  },
  {
   "cell_type": "code",
   "execution_count": 32,
   "outputs": [
    {
     "data": {
      "text/plain": "(718728, 240, 1)"
     },
     "execution_count": 32,
     "metadata": {},
     "output_type": "execute_result"
    }
   ],
   "source": [
    "X_train_series.shape"
   ],
   "metadata": {
    "collapsed": false,
    "pycharm": {
     "name": "#%%\n"
    }
   }
  },
  {
   "cell_type": "code",
   "execution_count": 134,
   "outputs": [
    {
     "data": {
      "text/plain": "array([15., 16., 23., ...,  4., 10.,  7.])"
     },
     "execution_count": 134,
     "metadata": {},
     "output_type": "execute_result"
    }
   ],
   "source": [
    "Y_train"
   ],
   "metadata": {
    "collapsed": false,
    "pycharm": {
     "name": "#%%\n"
    }
   }
  },
  {
   "cell_type": "code",
   "execution_count": null,
   "outputs": [],
   "source": [
    "####"
   ],
   "metadata": {
    "collapsed": false,
    "pycharm": {
     "name": "#%%\n"
    }
   }
  },
  {
   "cell_type": "code",
   "execution_count": 18,
   "outputs": [
    {
     "name": "stdout",
     "output_type": "stream",
     "text": [
      "<class 'pandas.core.frame.DataFrame'>\n"
     ]
    }
   ],
   "source": [
    "# Convert data into format fit for LSTM\n",
    "lstm_processed_data_2 = series_to_supervised(preprocessed_data,\n",
    "                                             window=conf['LSTM_PARAMS']['LSTM_WINDOW_LENGTH'],\n",
    "                                             lag=conf['LSTM_PARAMS']['LSTM_PREDICTION_LAG']\n",
    "                                             )"
   ],
   "metadata": {
    "collapsed": false,
    "pycharm": {
     "name": "#%%\n"
    }
   }
  },
  {
   "cell_type": "code",
   "execution_count": 19,
   "outputs": [],
   "source": [
    "# Split into train-test set\n",
    "X_train, Y_train, X_valid, Y_valid = split_train_valid(lstm_processed_data_2,\n",
    "                                                       test_size=0.2,\n",
    "                                                       lag=conf['LSTM_PARAMS']['LSTM_PREDICTION_LAG']\n",
    "                                                       )"
   ],
   "metadata": {
    "collapsed": false,
    "pycharm": {
     "name": "#%%\n"
    }
   }
  },
  {
   "cell_type": "code",
   "execution_count": 20,
   "outputs": [],
   "source": [
    "# # Scale data for training\n",
    "# X_train_scaled = data_scaler(X_train, scaled=0, model='lstm')\n",
    "# X_valid_scaled = data_scaler(X_valid, scaled=1, model='lstm')"
   ],
   "metadata": {
    "collapsed": false,
    "pycharm": {
     "name": "#%%\n"
    }
   }
  },
  {
   "cell_type": "code",
   "execution_count": 21,
   "outputs": [],
   "source": [
    "# Reshape data for training\n",
    "X_train_series, X_valid_series = reshape_features(X_train, X_valid)"
   ],
   "metadata": {
    "collapsed": false,
    "pycharm": {
     "name": "#%%\n"
    }
   }
  },
  {
   "cell_type": "code",
   "execution_count": null,
   "outputs": [],
   "source": [],
   "metadata": {
    "collapsed": false,
    "pycharm": {
     "name": "#%%\n"
    }
   }
  },
  {
   "cell_type": "code",
   "execution_count": 22,
   "outputs": [],
   "source": [
    "# Obtain trained LSTM model\n",
    "model_lstm = lstm_model(conf['LSTM_PARAMS'],\n",
    "                        MODEL_DIR,\n",
    "                        X_train_series,\n",
    "                        Y_train,\n",
    "                        X_valid_series,\n",
    "                        Y_valid,\n",
    "                        training_req=0\n",
    "                        )"
   ],
   "metadata": {
    "collapsed": false,
    "pycharm": {
     "name": "#%%\n"
    }
   }
  },
  {
   "cell_type": "code",
   "execution_count": 23,
   "outputs": [
    {
     "name": "stdout",
     "output_type": "stream",
     "text": [
      "SMAPE Error Score: 28.37 %\n"
     ]
    }
   ],
   "source": [
    "# LSTM Evaluation - SMAPE\n",
    "lstm_pred = model_lstm.predict(X_valid_series)\n",
    "lstm_smape = SMAPE(lstm_pred, Y_valid)"
   ],
   "metadata": {
    "collapsed": false,
    "pycharm": {
     "name": "#%%\n"
    }
   }
  },
  {
   "cell_type": "code",
   "execution_count": 24,
   "outputs": [
    {
     "name": "stdout",
     "output_type": "stream",
     "text": [
      "5616/5616 [==============================] - 18s 3ms/step - loss: 334.8451\n"
     ]
    }
   ],
   "source": [
    "# LSTM Evaluation - MSE\n",
    "lstm_mse = model_lstm.evaluate(X_valid_series, Y_valid)"
   ],
   "metadata": {
    "collapsed": false,
    "pycharm": {
     "name": "#%%\n"
    }
   }
  },
  {
   "cell_type": "code",
   "execution_count": 25,
   "outputs": [
    {
     "data": {
      "text/plain": "<Figure size 432x288 with 1 Axes>",
      "image/png": "[encoded data removed]"
     },
     "metadata": {
      "needs_background": "light"
     },
     "output_type": "display_data"
    }
   ],
   "source": [
    "plot_pred_vs_act(Y_valid[:50],lstm_pred[:50],'LSTM')"
   ],
   "metadata": {
    "collapsed": false,
    "pycharm": {
     "name": "#%%\n"
    }
   }
  },
  {
   "cell_type": "markdown",
   "source": [
    "<h1> XGBoost </h1>"
   ],
   "metadata": {
    "collapsed": false,
    "pycharm": {
     "name": "#%% md\n"
    }
   }
  },
  {
   "cell_type": "code",
   "execution_count": 44,
   "outputs": [
    {
     "name": "stderr",
     "output_type": "stream",
     "text": [
      "C:\\Users\\yashc\\AppData\\Local\\Temp\\ipykernel_16656\\4087673004.py:9: FutureWarning: Series.dt.weekofyear and Series.dt.week have been deprecated. Please use Series.dt.isocalendar().week instead.\n",
      "  data['weekofyear'] = data[date_col].dt.weekofyear\n"
     ]
    }
   ],
   "source": [
    "# xgb_data = feature_engineering(preprocessed_data, conf['INDEX_COL'])"
   ],
   "metadata": {
    "collapsed": false,
    "pycharm": {
     "name": "#%%\n"
    }
   }
  },
  {
   "cell_type": "code",
   "execution_count": 27,
   "outputs": [],
   "source": [
    "# Preprocess data to perform aggregation\n",
    "xgb_train_x, xgb_test_x, xgb_train_y, xgb_test_y = train_test_split(\n",
    "    processed_data.drop([f'{conf[\"INDEX_COL\"]}', f'{conf[\"LABEL_COL\"]}'],axis=1),\n",
    "    processed_data[conf[\"LABEL_COL\"]],\n",
    "    test_size=0.2\n",
    ")"
   ],
   "metadata": {
    "collapsed": false,
    "pycharm": {
     "name": "#%%\n"
    }
   }
  },
  {
   "cell_type": "code",
   "execution_count": 28,
   "outputs": [],
   "source": [
    "# Train XGBoost model\n",
    "xgb_model, xgb_test_data = xboost(conf['XGB_PARAMS'],\n",
    "                                  MODEL_DIR,\n",
    "                                  xgb_train_x,\n",
    "                                  xgb_train_y,\n",
    "                                  xgb_test_x,\n",
    "                                  xgb_test_y,\n",
    "                                  training_req=0\n",
    "                                  )"
   ],
   "metadata": {
    "collapsed": false,
    "pycharm": {
     "name": "#%%\n"
    }
   }
  },
  {
   "cell_type": "code",
   "execution_count": 29,
   "outputs": [],
   "source": [
    "# Get predictions from XGBoost model\n",
    "xgb_predictions = pd.Series(xgb_model.predict(xgb_test_data))\n",
    "\n",
    "# Transform predictions and actual data for SMAPE\n",
    "xgb_predictions_reshaped = np.array(xgb_predictions).reshape(len(xgb_predictions),1)\n",
    "xgb_test_y_reshaped = np.array(xgb_test_y).reshape(len(xgb_test_y),1)"
   ],
   "metadata": {
    "collapsed": false,
    "pycharm": {
     "name": "#%%\n"
    }
   }
  },
  {
   "cell_type": "code",
   "execution_count": 30,
   "outputs": [
    {
     "name": "stdout",
     "output_type": "stream",
     "text": [
      "SMAPE Error Score: 15.21 %\n"
     ]
    }
   ],
   "source": [
    "# Get SMAPE for XGBoost\n",
    "xgb_smape = SMAPE(xgb_predictions_reshaped, xgb_test_y_reshaped)"
   ],
   "metadata": {
    "collapsed": false,
    "pycharm": {
     "name": "#%%\n"
    }
   }
  },
  {
   "cell_type": "code",
   "execution_count": 31,
   "outputs": [],
   "source": [
    "# MSE Computation\n",
    "xgb_mse = MSE(xgb_test_y_reshaped, xgb_predictions_reshaped)"
   ],
   "metadata": {
    "collapsed": false,
    "pycharm": {
     "name": "#%%\n"
    }
   }
  },
  {
   "cell_type": "markdown",
   "source": [
    "<h1> Comparing the models' metrics </h1>"
   ],
   "metadata": {
    "collapsed": false,
    "pycharm": {
     "name": "#%% md\n"
    }
   }
  },
  {
   "cell_type": "code",
   "execution_count": 33,
   "outputs": [
    {
     "name": "stdout",
     "output_type": "stream",
     "text": [
      "XGB SMAPE- 15.21%\n",
      "LSTM SMAPE- 28.37%\n",
      "XGB MSE- 67.66\n",
      "LSTM MSE- 334.85\n"
     ]
    }
   ],
   "source": [
    "print(f'XGB SMAPE- {xgb_smape}%')\n",
    "print(f'LSTM SMAPE- {lstm_smape}%')\n",
    "\n",
    "print(f'XGB MSE- {xgb_mse:.2f}')\n",
    "print(f'LSTM MSE- {lstm_mse:.2f}')"
   ],
   "metadata": {
    "collapsed": false,
    "pycharm": {
     "name": "#%%\n"
    }
   }
  },
  {
   "cell_type": "code",
   "execution_count": 40,
   "outputs": [
    {
     "data": {
      "text/plain": "array([[25., 30., 16., 21., 21., 23., 26., 18., 29., 24., 21., 15., 23.,\n        25., 22., 30., 20., 32., 25., 22., 35., 30., 44., 21., 22., 21.,\n        23., 31., 36., 29.]])"
     },
     "execution_count": 40,
     "metadata": {},
     "output_type": "execute_result"
    }
   ],
   "source": [
    "X_valid_series[0].transpose()"
   ],
   "metadata": {
    "collapsed": false,
    "pycharm": {
     "name": "#%%\n"
    }
   }
  },
  {
   "cell_type": "code",
   "execution_count": 41,
   "outputs": [
    {
     "data": {
      "text/plain": "35.0"
     },
     "execution_count": 41,
     "metadata": {},
     "output_type": "execute_result"
    }
   ],
   "source": [
    "Y_valid[0]"
   ],
   "metadata": {
    "collapsed": false,
    "pycharm": {
     "name": "#%%\n"
    }
   }
  },
  {
   "cell_type": "code",
   "execution_count": 53,
   "outputs": [
    {
     "data": {
      "text/plain": "        item  store       date  sales\n0          1      1 2013-01-01   13.0\n1          1      1 2013-01-02   11.0\n2          1      1 2013-01-03   14.0\n3          1      1 2013-01-04   13.0\n4          1      1 2013-01-05   10.0\n...      ...    ...        ...    ...\n912995    50     10 2017-12-27   63.0\n912996    50     10 2017-12-28   59.0\n912997    50     10 2017-12-29   74.0\n912998    50     10 2017-12-30   62.0\n912999    50     10 2017-12-31   82.0\n\n[913000 rows x 4 columns]",
      "text/html": "<div>\n<style scoped>\n    .dataframe tbody tr th:only-of-type {\n        vertical-align: middle;\n    }\n\n    .dataframe tbody tr th {\n        vertical-align: top;\n    }\n\n    .dataframe thead th {\n        text-align: right;\n    }\n</style>\n<table border=\"1\" class=\"dataframe\">\n  <thead>\n    <tr style=\"text-align: right;\">\n      <th></th>\n      <th>item</th>\n      <th>store</th>\n      <th>date</th>\n      <th>sales</th>\n    </tr>\n  </thead>\n  <tbody>\n    <tr>\n      <th>0</th>\n      <td>1</td>\n      <td>1</td>\n      <td>2013-01-01</td>\n      <td>13.0</td>\n    </tr>\n    <tr>\n      <th>1</th>\n      <td>1</td>\n      <td>1</td>\n      <td>2013-01-02</td>\n      <td>11.0</td>\n    </tr>\n    <tr>\n      <th>2</th>\n      <td>1</td>\n      <td>1</td>\n      <td>2013-01-03</td>\n      <td>14.0</td>\n    </tr>\n    <tr>\n      <th>3</th>\n      <td>1</td>\n      <td>1</td>\n      <td>2013-01-04</td>\n      <td>13.0</td>\n    </tr>\n    <tr>\n      <th>4</th>\n      <td>1</td>\n      <td>1</td>\n      <td>2013-01-05</td>\n      <td>10.0</td>\n    </tr>\n    <tr>\n      <th>...</th>\n      <td>...</td>\n      <td>...</td>\n      <td>...</td>\n      <td>...</td>\n    </tr>\n    <tr>\n      <th>912995</th>\n      <td>50</td>\n      <td>10</td>\n      <td>2017-12-27</td>\n      <td>63.0</td>\n    </tr>\n    <tr>\n      <th>912996</th>\n      <td>50</td>\n      <td>10</td>\n      <td>2017-12-28</td>\n      <td>59.0</td>\n    </tr>\n    <tr>\n      <th>912997</th>\n      <td>50</td>\n      <td>10</td>\n      <td>2017-12-29</td>\n      <td>74.0</td>\n    </tr>\n    <tr>\n      <th>912998</th>\n      <td>50</td>\n      <td>10</td>\n      <td>2017-12-30</td>\n      <td>62.0</td>\n    </tr>\n    <tr>\n      <th>912999</th>\n      <td>50</td>\n      <td>10</td>\n      <td>2017-12-31</td>\n      <td>82.0</td>\n    </tr>\n  </tbody>\n</table>\n<p>913000 rows × 4 columns</p>\n</div>"
     },
     "execution_count": 53,
     "metadata": {},
     "output_type": "execute_result"
    }
   ],
   "source": [
    "preprocessed_data"
   ],
   "metadata": {
    "collapsed": false,
    "pycharm": {
     "name": "#%%\n"
    }
   }
  },
  {
   "cell_type": "code",
   "execution_count": 60,
   "outputs": [
    {
     "data": {
      "text/plain": "        item  store       date  sales\n912970    50     10 2017-12-02   49.0\n912971    50     10 2017-12-03   75.0\n912972    50     10 2017-12-04   54.0\n912973    50     10 2017-12-05   68.0\n912974    50     10 2017-12-06   60.0\n912975    50     10 2017-12-07   66.0\n912976    50     10 2017-12-08   67.0\n912977    50     10 2017-12-09   69.0\n912978    50     10 2017-12-10   69.0\n912979    50     10 2017-12-11   54.0\n912980    50     10 2017-12-12   67.0\n912981    50     10 2017-12-13   67.0\n912982    50     10 2017-12-14   72.0\n912983    50     10 2017-12-15   72.0\n912984    50     10 2017-12-16   52.0\n912985    50     10 2017-12-17   86.0\n912986    50     10 2017-12-18   53.0\n912987    50     10 2017-12-19   54.0\n912988    50     10 2017-12-20   51.0\n912989    50     10 2017-12-21   63.0\n912990    50     10 2017-12-22   75.0\n912991    50     10 2017-12-23   70.0\n912992    50     10 2017-12-24   76.0\n912993    50     10 2017-12-25   51.0\n912994    50     10 2017-12-26   41.0\n912995    50     10 2017-12-27   63.0\n912996    50     10 2017-12-28   59.0\n912997    50     10 2017-12-29   74.0\n912998    50     10 2017-12-30   62.0\n912999    50     10 2017-12-31   82.0",
      "text/html": "<div>\n<style scoped>\n    .dataframe tbody tr th:only-of-type {\n        vertical-align: middle;\n    }\n\n    .dataframe tbody tr th {\n        vertical-align: top;\n    }\n\n    .dataframe thead th {\n        text-align: right;\n    }\n</style>\n<table border=\"1\" class=\"dataframe\">\n  <thead>\n    <tr style=\"text-align: right;\">\n      <th></th>\n      <th>item</th>\n      <th>store</th>\n      <th>date</th>\n      <th>sales</th>\n    </tr>\n  </thead>\n  <tbody>\n    <tr>\n      <th>912970</th>\n      <td>50</td>\n      <td>10</td>\n      <td>2017-12-02</td>\n      <td>49.0</td>\n    </tr>\n    <tr>\n      <th>912971</th>\n      <td>50</td>\n      <td>10</td>\n      <td>2017-12-03</td>\n      <td>75.0</td>\n    </tr>\n    <tr>\n      <th>912972</th>\n      <td>50</td>\n      <td>10</td>\n      <td>2017-12-04</td>\n      <td>54.0</td>\n    </tr>\n    <tr>\n      <th>912973</th>\n      <td>50</td>\n      <td>10</td>\n      <td>2017-12-05</td>\n      <td>68.0</td>\n    </tr>\n    <tr>\n      <th>912974</th>\n      <td>50</td>\n      <td>10</td>\n      <td>2017-12-06</td>\n      <td>60.0</td>\n    </tr>\n    <tr>\n      <th>912975</th>\n      <td>50</td>\n      <td>10</td>\n      <td>2017-12-07</td>\n      <td>66.0</td>\n    </tr>\n    <tr>\n      <th>912976</th>\n      <td>50</td>\n      <td>10</td>\n      <td>2017-12-08</td>\n      <td>67.0</td>\n    </tr>\n    <tr>\n      <th>912977</th>\n      <td>50</td>\n      <td>10</td>\n      <td>2017-12-09</td>\n      <td>69.0</td>\n    </tr>\n    <tr>\n      <th>912978</th>\n      <td>50</td>\n      <td>10</td>\n      <td>2017-12-10</td>\n      <td>69.0</td>\n    </tr>\n    <tr>\n      <th>912979</th>\n      <td>50</td>\n      <td>10</td>\n      <td>2017-12-11</td>\n      <td>54.0</td>\n    </tr>\n    <tr>\n      <th>912980</th>\n      <td>50</td>\n      <td>10</td>\n      <td>2017-12-12</td>\n      <td>67.0</td>\n    </tr>\n    <tr>\n      <th>912981</th>\n      <td>50</td>\n      <td>10</td>\n      <td>2017-12-13</td>\n      <td>67.0</td>\n    </tr>\n    <tr>\n      <th>912982</th>\n      <td>50</td>\n      <td>10</td>\n      <td>2017-12-14</td>\n      <td>72.0</td>\n    </tr>\n    <tr>\n      <th>912983</th>\n      <td>50</td>\n      <td>10</td>\n      <td>2017-12-15</td>\n      <td>72.0</td>\n    </tr>\n    <tr>\n      <th>912984</th>\n      <td>50</td>\n      <td>10</td>\n      <td>2017-12-16</td>\n      <td>52.0</td>\n    </tr>\n    <tr>\n      <th>912985</th>\n      <td>50</td>\n      <td>10</td>\n      <td>2017-12-17</td>\n      <td>86.0</td>\n    </tr>\n    <tr>\n      <th>912986</th>\n      <td>50</td>\n      <td>10</td>\n      <td>2017-12-18</td>\n      <td>53.0</td>\n    </tr>\n    <tr>\n      <th>912987</th>\n      <td>50</td>\n      <td>10</td>\n      <td>2017-12-19</td>\n      <td>54.0</td>\n    </tr>\n    <tr>\n      <th>912988</th>\n      <td>50</td>\n      <td>10</td>\n      <td>2017-12-20</td>\n      <td>51.0</td>\n    </tr>\n    <tr>\n      <th>912989</th>\n      <td>50</td>\n      <td>10</td>\n      <td>2017-12-21</td>\n      <td>63.0</td>\n    </tr>\n    <tr>\n      <th>912990</th>\n      <td>50</td>\n      <td>10</td>\n      <td>2017-12-22</td>\n      <td>75.0</td>\n    </tr>\n    <tr>\n      <th>912991</th>\n      <td>50</td>\n      <td>10</td>\n      <td>2017-12-23</td>\n      <td>70.0</td>\n    </tr>\n    <tr>\n      <th>912992</th>\n      <td>50</td>\n      <td>10</td>\n      <td>2017-12-24</td>\n      <td>76.0</td>\n    </tr>\n    <tr>\n      <th>912993</th>\n      <td>50</td>\n      <td>10</td>\n      <td>2017-12-25</td>\n      <td>51.0</td>\n    </tr>\n    <tr>\n      <th>912994</th>\n      <td>50</td>\n      <td>10</td>\n      <td>2017-12-26</td>\n      <td>41.0</td>\n    </tr>\n    <tr>\n      <th>912995</th>\n      <td>50</td>\n      <td>10</td>\n      <td>2017-12-27</td>\n      <td>63.0</td>\n    </tr>\n    <tr>\n      <th>912996</th>\n      <td>50</td>\n      <td>10</td>\n      <td>2017-12-28</td>\n      <td>59.0</td>\n    </tr>\n    <tr>\n      <th>912997</th>\n      <td>50</td>\n      <td>10</td>\n      <td>2017-12-29</td>\n      <td>74.0</td>\n    </tr>\n    <tr>\n      <th>912998</th>\n      <td>50</td>\n      <td>10</td>\n      <td>2017-12-30</td>\n      <td>62.0</td>\n    </tr>\n    <tr>\n      <th>912999</th>\n      <td>50</td>\n      <td>10</td>\n      <td>2017-12-31</td>\n      <td>82.0</td>\n    </tr>\n  </tbody>\n</table>\n</div>"
     },
     "execution_count": 60,
     "metadata": {},
     "output_type": "execute_result"
    }
   ],
   "source": [
    "preprocessed_data.iloc[-30:]"
   ],
   "metadata": {
    "collapsed": false,
    "pycharm": {
     "name": "#%%\n"
    }
   }
  },
  {
   "cell_type": "code",
   "execution_count": null,
   "outputs": [],
   "source": [],
   "metadata": {
    "collapsed": false,
    "pycharm": {
     "name": "#%%\n"
    }
   }
  },
  {
   "cell_type": "code",
   "execution_count": null,
   "outputs": [],
   "source": [],
   "metadata": {
    "collapsed": false,
    "pycharm": {
     "name": "#%%\n"
    }
   }
  }
 ],
 "metadata": {
  "kernelspec": {
   "display_name": "Python 3",
   "language": "python",
   "name": "python3"
  },
  "language_info": {
   "codemirror_mode": {
    "name": "ipython",
    "version": 2
   },
   "file_extension": ".py",
   "mimetype": "text/x-python",
   "name": "python",
   "nbconvert_exporter": "python",
   "pygments_lexer": "ipython2",
   "version": "2.7.6"
  }
 },
 "nbformat": 4,
 "nbformat_minor": 0
}