{
 "cells": [
  {
   "cell_type": "code",
   "execution_count": 53,
   "metadata": {
    "collapsed": true,
    "pycharm": {
     "name": "#%%\n"
    }
   },
   "outputs": [],
   "source": [
    "import os\n",
    "from copy import deepcopy\n",
    "from datetime import datetime\n",
    "from os import listdir\n",
    "\n",
    "import joblib\n",
    "import matplotlib.pyplot as plt\n",
    "import numpy as np\n",
    "import pandas as pd\n",
    "import xgboost as xgb\n",
    "import yaml\n",
    "from keras import models\n",
    "from keras import optimizers\n",
    "from keras.callbacks import EarlyStopping\n",
    "from keras.layers import Dense, LSTM, Dropout\n",
    "from keras.models import Sequential\n",
    "from sklearn.metrics import mean_squared_error as MSE\n",
    "from sklearn.model_selection import train_test_split\n",
    "from sklearn.preprocessing import StandardScaler\n",
    "from statsmodels.tsa.stattools import adfuller\n",
    "plt.rcParams[\"figure.figsize\"] = [16,9]"
   ]
  },
  {
   "cell_type": "code",
   "execution_count": 3,
   "outputs": [],
   "source": [
    "def get_conf(conf_path):\n",
    "    \"\"\"Reads configuration file\"\"\"\n",
    "    with open(rf'{conf_path}') as conf_file:\n",
    "        conf = yaml.safe_load(conf_file)\n",
    "        return conf"
   ],
   "metadata": {
    "collapsed": false,
    "pycharm": {
     "name": "#%%\n"
    }
   }
  },
  {
   "cell_type": "code",
   "execution_count": 4,
   "metadata": {
    "collapsed": false,
    "pycharm": {
     "name": "#%%\n"
    }
   },
   "outputs": [],
   "source": [
    "def SMAPE(forecast, actual):\n",
    "    \"\"\"Returns the Symmetric Mean Absolute Percentage Error between two Series\"\"\"\n",
    "    if len(actual.shape)!=2:\n",
    "        actual = actual.reshape(actual.shape[0],1)\n",
    "    masked_arr = ~((forecast==0)&(actual==0))\n",
    "    diff = abs(forecast[masked_arr] - actual[masked_arr])\n",
    "    avg = (abs(forecast[masked_arr]) + abs(actual[masked_arr]))/2\n",
    "\n",
    "    smape_score = str(round(sum(diff/avg)/len(forecast) * 100, 2))\n",
    "\n",
    "    print('SMAPE Error Score: ' + smape_score + ' %')\n",
    "    return smape_score"
   ]
  },
  {
   "cell_type": "code",
   "execution_count": 5,
   "outputs": [],
   "source": [
    "def plot_pred_vs_act(actual, predicted, model_type):\n",
    "    plt.plot(actual, label='Actual')\n",
    "    plt.plot(predicted, label='Predicted')\n",
    "    plt.legend()\n",
    "    plt.title(f'Predicted vs Actual Sales for {model_type} Model')"
   ],
   "metadata": {
    "collapsed": false,
    "pycharm": {
     "name": "#%%\n"
    }
   }
  },
  {
   "cell_type": "code",
   "execution_count": 6,
   "metadata": {
    "collapsed": false,
    "pycharm": {
     "name": "#%%\n"
    }
   },
   "outputs": [],
   "source": [
    "def Fuller(TimeSeries):\n",
    "    \"\"\"Provides Fuller test results for TimeSeries\"\"\"\n",
    "    stationary_test = adfuller(TimeSeries)\n",
    "    print('ADF Statistic: %f' % stationary_test[0])\n",
    "    print('p-value: %f' % stationary_test[1])\n",
    "    print('Critical Values:')\n",
    "    for key, value in stationary_test[4].items():\n",
    "        print('\\t%s: %.3f' % (key, value))"
   ]
  },
  {
   "cell_type": "code",
   "execution_count": 7,
   "metadata": {
    "collapsed": false,
    "pycharm": {
     "name": "#%%\n"
    }
   },
   "outputs": [],
   "source": [
    "def xboost(xgb_params, xgb_model_dir, x_train=None, y_train=None, x_test=None, y_test=None, training_req=1):\n",
    "    \"\"\"Trains xgboost model and returns it\"\"\"\n",
    "\n",
    "    folder_name = datetime.now().strftime(\"%m-%d-%Y-%H-%M-%S\")\n",
    "    file_name = f'xgb_model_{folder_name}.json'\n",
    "\n",
    "    dtrain = xgb.DMatrix(x_train, label=y_train, feature_names=list(x_train.columns))\n",
    "    dtest = xgb.DMatrix(x_test, label=y_test, feature_names=list(x_test.columns))\n",
    "\n",
    "    if training_req:\n",
    "\n",
    "        params = {'max_depth':xgb_params['XGB_MAX_DEPTH'],\n",
    "                  'eta':xgb_params['XGB_ETA'],\n",
    "                  'silent':xgb_params['XGB_SILENT'],\n",
    "                'subsample':xgb_params['XGB_SUBSAMPLE']}\n",
    "        num_rounds = xgb_params['XGB_NUM_ROUNDS']\n",
    "\n",
    "        xgb_model = xgb.train(params, dtrain, num_rounds)\n",
    "\n",
    "        # save\n",
    "        xgb_model.save_model(xgb_model_dir+file_name)\n",
    "\n",
    "    else:\n",
    "        sorted_xgb_models = [x for x in listdir(xgb_model_dir) if 'xgb_' in str(x)]\n",
    "        sorted_xgb_models.sort(reverse=True)\n",
    "        xgb_model = xgb.Booster()\n",
    "        xgb_model.load_model(xgb_model_dir+str(sorted_xgb_models[0]))\n",
    "\n",
    "\n",
    "    return xgb_model, dtest"
   ]
  },
  {
   "cell_type": "code",
   "execution_count": 8,
   "metadata": {
    "collapsed": false,
    "pycharm": {
     "name": "#%%\n"
    }
   },
   "outputs": [],
   "source": [
    "def lstm_model(params,lstm_model_dir, x_train=None, y_train=None, x_valid=None, y_valid=None, training_req=1):\n",
    "\n",
    "    folder_name = datetime.now().strftime(\"%m-%d-%Y-%H-%M-%S\")\n",
    "    save_path = f'model-{folder_name}'\n",
    "\n",
    "    if training_req:\n",
    "        callback = EarlyStopping(monitor='val_loss', patience=3)\n",
    "        mdl = Sequential()\n",
    "\n",
    "        mdl.add(LSTM(params['LSTM_NODES'],\n",
    "                     # activation='relu',\n",
    "                     input_shape=(x_train.shape[1], x_train.shape[2]),\n",
    "                     # unroll=True\n",
    "                     )\n",
    "                )\n",
    "\n",
    "        # mdl.add(Dropout(0.5))\n",
    "\n",
    "        # mdl.add(LSTM(params['LSTM_NODES']//2,\n",
    "        #              activation='relu',\n",
    "        #              return_sequences=False\n",
    "        #              )\n",
    "        #         )\n",
    "\n",
    "        mdl.add(Dense(1))\n",
    "\n",
    "        mdl.compile(loss='mse', optimizer='adam')\n",
    "\n",
    "        mdl.summary()\n",
    "\n",
    "        lstm_history = mdl.fit(\n",
    "            x_train,\n",
    "            y_train,\n",
    "            validation_data=(x_valid, y_valid),\n",
    "            epochs=conf['LSTM_PARAMS']['LSTM_EPOCHS'],\n",
    "            batch_size=90,\n",
    "            callbacks=callback,\n",
    "            verbose=True\n",
    "        )\n",
    "\n",
    "        mdl.save(lstm_model_dir+save_path)\n",
    "\n",
    "    else:\n",
    "        fnf = listdir(lstm_model_dir)\n",
    "        sorted_lstm_models = [x for x in fnf if ('model' in str(x)) & ('xgb' not in str(x))]\n",
    "        sorted_lstm_models.sort(reverse=True)\n",
    "        mdl = models.load_model(lstm_model_dir+str(sorted_lstm_models[0]))\n",
    "\n",
    "    return mdl\n"
   ]
  },
  {
   "cell_type": "code",
   "execution_count": 9,
   "outputs": [],
   "source": [
    "def lstm_model_v2(params,lstm_model_dir, x_train=None, y_train=None, x_valid=None, y_valid=None, training_req=1):\n",
    "\n",
    "    folder_name = datetime.now().strftime(\"%m-%d-%Y-%H-%M-%S\")\n",
    "    save_path = f'model-{folder_name}'\n",
    "\n",
    "    if training_req:\n",
    "        callback = EarlyStopping(monitor='val_loss', patience=3)\n",
    "        model_lstm = Sequential()\n",
    "        model_lstm.add(LSTM(params['LSTM_NODES'], activation='relu', input_shape=(x_train.shape[1], x_train.shape[2]), return_sequences=True))\n",
    "        model_lstm.add(Dropout(0.5))\n",
    "        model_lstm.add(LSTM(params['LSTM_NODES']//2, activation='relu', return_sequences=False))\n",
    "        model_lstm.add(Dense(1))\n",
    "        model_lstm.compile(loss='mse', optimizer=optimizers.Adam(conf['LSTM_PARAMS']['LSTM_LR']))\n",
    "        model_lstm.summary()\n",
    "        lstm_history = model_lstm.fit(\n",
    "            x_train,\n",
    "            y_train,\n",
    "            validation_data=(x_valid, y_valid),\n",
    "            epochs=conf['LSTM_PARAMS']['LSTM_EPOCHS'],\n",
    "            callbacks=callback,\n",
    "            verbose=True\n",
    "        )\n",
    "        model_lstm.save(lstm_model_dir+save_path)\n",
    "\n",
    "    else:\n",
    "        fnf = listdir(lstm_model_dir)\n",
    "        sorted_lstm_models = [x for x in fnf if ('model' in str(x)) & ('xgb' not in str(x))]\n",
    "        sorted_lstm_models.sort(reverse=False)\n",
    "        model_lstm = models.load_model(lstm_model_dir+str(sorted_lstm_models[0]))\n",
    "\n",
    "    return model_lstm\n"
   ],
   "metadata": {
    "collapsed": false,
    "pycharm": {
     "name": "#%%\n"
    }
   }
  },
  {
   "cell_type": "code",
   "execution_count": 10,
   "outputs": [],
   "source": [
    "def lstm_model_v3(params,lstm_model_dir, x_train=None, y_train=None, x_valid=None, y_valid=None, training_req=1):\n",
    "\n",
    "    folder_name = datetime.now().strftime(\"%m-%d-%Y-%H-%M-%S\")\n",
    "    save_path = f'model-{folder_name}'\n",
    "\n",
    "    if training_req:\n",
    "        callback = EarlyStopping(monitor='val_loss', patience=3)\n",
    "        mdl = Sequential()\n",
    "\n",
    "        mdl.add(LSTM(params['LSTM_NODES'],\n",
    "                     activation='relu',\n",
    "                     batch_input_shape=(params['LSTM_BATCH_SIZE'],x_train.shape[1], x_train.shape[2]),\n",
    "                     stateful=True,\n",
    "                     return_sequences=True\n",
    "                     )\n",
    "                )\n",
    "\n",
    "        mdl.add(Dropout(0.5))\n",
    "\n",
    "        mdl.add(LSTM(params['LSTM_NODES']//2,\n",
    "                     activation='relu',\n",
    "                     return_sequences=False\n",
    "                     )\n",
    "                )\n",
    "\n",
    "        mdl.add(Dense(1))\n",
    "\n",
    "        mdl.compile(loss='mse', optimizer=optimizers.Adam(conf['LSTM_PARAMS']['LSTM_LR']))\n",
    "\n",
    "        mdl.summary()\n",
    "\n",
    "        lstm_history = mdl.fit(\n",
    "            x_train,\n",
    "            y_train,\n",
    "            validation_data=(x_valid, y_valid),\n",
    "            epochs=conf['LSTM_PARAMS']['LSTM_EPOCHS'],\n",
    "            callbacks=callback,\n",
    "            verbose=True\n",
    "        )\n",
    "\n",
    "        mdl.save(lstm_model_dir+save_path)\n",
    "\n",
    "    else:\n",
    "        fnf = listdir(lstm_model_dir)\n",
    "        sorted_lstm_models = [x for x in fnf if ('model' in str(x)) & ('xgb' not in str(x))]\n",
    "        sorted_lstm_models.sort(reverse=True)\n",
    "        mdl = models.load_model(lstm_model_dir+str(sorted_lstm_models[0]))\n",
    "\n",
    "    return mdl"
   ],
   "metadata": {
    "collapsed": false,
    "pycharm": {
     "name": "#%%\n"
    }
   }
  },
  {
   "cell_type": "code",
   "execution_count": 11,
   "metadata": {
    "collapsed": false,
    "pycharm": {
     "name": "#%%\n"
    }
   },
   "outputs": [],
   "source": [
    "def read_data(path, date_index_col, numeric_cols=None):\n",
    "    if path:\n",
    "        df = pd.read_csv(path, index_col=date_index_col, infer_datetime_format=True)\n",
    "        df.index = pd.to_datetime(df.index)\n",
    "        if numeric_cols:\n",
    "            for col in numeric_cols:\n",
    "                df[col] = df[col].astype('int16')\n",
    "        return df"
   ]
  },
  {
   "cell_type": "code",
   "execution_count": 12,
   "metadata": {
    "collapsed": false,
    "pycharm": {
     "name": "#%%\n"
    }
   },
   "outputs": [],
   "source": [
    "# Prepare data by aggregating according to config\n",
    "def data_preprocessing(data, grouped_cols, label_col, date_col='date'):\n",
    "    # Rearrange dataset so we can apply shift methods\n",
    "    data = data.reset_index()\n",
    "    data = data.sort_values(date_col).groupby(grouped_cols, as_index=False)\n",
    "    data = data.agg({f'{label_col}':['mean']})\n",
    "    data.columns = grouped_cols + [label_col]\n",
    "    return data\n"
   ]
  },
  {
   "cell_type": "code",
   "execution_count": 13,
   "metadata": {
    "collapsed": false,
    "pycharm": {
     "name": "#%%\n"
    }
   },
   "outputs": [],
   "source": [
    "def xgboost_data_preprocessing(data_in,date_col):\n",
    "\n",
    "    data = deepcopy(data_in)\n",
    "    # Adding date based features\n",
    "    data[date_col] = pd.to_datetime(data[date_col])\n",
    "    data['year'] = data[date_col].dt.year\n",
    "    data['quarter'] = data[date_col].dt.quarter\n",
    "    data['month'] = data[date_col].dt.month\n",
    "    data['weekofyear'] = data[date_col].dt.weekofyear\n",
    "    data['weekday'] = data[date_col].dt.weekday\n",
    "    data['dayofweek'] = data[date_col].dt.dayofweek\n",
    "\n",
    "\n",
    "    return data"
   ]
  },
  {
   "cell_type": "code",
   "execution_count": 14,
   "outputs": [],
   "source": [
    "def feature_engineering(data_in,date_col) -> pd.DataFrame:\n",
    "\n",
    "    data = deepcopy(data_in)\n",
    "    data.index = pd.DatetimeIndex(data[date_col])\n",
    "\n",
    "    # Adding date based features\n",
    "    data[date_col] = pd.to_datetime(data[date_col], infer_datetime_format=True)\n",
    "    data['year'] = data[date_col].dt.year.astype('float32')\n",
    "    data['quarter'] = data[date_col].dt.quarter.astype('float32')\n",
    "    data['month'] = data[date_col].dt.month.astype('float32')\n",
    "    data['weekofyear'] = data.index.isocalendar().week.astype('float32')\n",
    "    data['dayofweek'] = data[date_col].dt.dayofweek.astype('float32')\n",
    "    data.drop(f'{date_col}', axis=1, inplace=True)\n",
    "    data.reset_index(inplace=True)\n",
    "\n",
    "\n",
    "    return data"
   ],
   "metadata": {
    "collapsed": false,
    "pycharm": {
     "name": "#%%\n"
    }
   }
  },
  {
   "cell_type": "code",
   "execution_count": 76,
   "metadata": {
    "collapsed": false,
    "pycharm": {
     "name": "#%%\n"
    }
   },
   "outputs": [],
   "source": [
    "def series_to_supervised(data, index, target, categories, lookback=1, lag=1, dropnan=True):\n",
    "    \"\"\"Transform the data into a time series problem\"\"\"\n",
    "\n",
    "    # data = deepcopy(data_in)\n",
    "\n",
    "    # Drop index column from data\n",
    "    if index in data.columns:\n",
    "        data.drop(f'{index}', axis=1, inplace=True)\n",
    "\n",
    "    cols, names = list(), list()\n",
    "\n",
    "    # Input sequence (t-n, ... t-1)\n",
    "    for i in range(lookback, 0, -1):\n",
    "        cols.append(data.shift(i))\n",
    "        names += [f'{col}(t-{i})' for col in data.columns]\n",
    "\n",
    "    # Current timestep (t=0)\n",
    "    cols.append(data)\n",
    "    names += [f'{col}(t)' for col in data.columns]\n",
    "\n",
    "    # Target timestep (t=lag)\n",
    "    cols.append(data.shift(-lag))\n",
    "    names += [f'{col}(t+{lag})' for col in data.columns]\n",
    "\n",
    "    # Put it all together\n",
    "    agg = pd.concat(cols, axis=1, join='inner')\n",
    "    agg.columns = names\n",
    "\n",
    "    # Drop rows with NaN values\n",
    "    if dropnan:\n",
    "        agg.dropna(inplace=True)\n",
    "\n",
    "    # Drop rows with different item or store values than the shifted columns\n",
    "    last_cols_for_categories = [f'{x}(t-{lookback})' for x in categories]\n",
    "\n",
    "    for cat in last_cols_for_categories:\n",
    "        col = cat.split('(')[0] # example - item\n",
    "        agg = agg[(agg[f'{col}(t+{lag})'] == agg[cat])]\n",
    "\n",
    "    return agg"
   ]
  },
  {
   "cell_type": "code",
   "execution_count": 16,
   "outputs": [],
   "source": [
    "def split_train_valid(data, label, test_size, lag):\n",
    "\n",
    "    # Label\n",
    "    labels_col = f'{label}(t+{lag})'\n",
    "    labels = data[labels_col]\n",
    "    data = data.drop([x for x in data.columns if '+' in str(x)], axis=1)\n",
    "\n",
    "    X_train, X_valid, Y_train, Y_valid = train_test_split(data, labels.values, test_size=test_size, shuffle=False)\n",
    "\n",
    "    return X_train, Y_train, X_valid, Y_valid"
   ],
   "metadata": {
    "collapsed": false,
    "pycharm": {
     "name": "#%%\n"
    }
   }
  },
  {
   "cell_type": "code",
   "execution_count": 17,
   "outputs": [],
   "source": [
    "def split_xy(data, data_cols, label_col):\n",
    "    # labels_col = f'{label}(t+{lag})'\n",
    "    label_pos = data_cols.index(label_col) + 1\n",
    "    col_len = len(data_cols)\n",
    "    act_len = col_len-1 #Removing index\n",
    "    label_index = data.shape[1] - (act_len - label_pos) - 2\n",
    "    labels = data[:,label_index]\n",
    "    data = data[:,:data.shape[1] - act_len] #Removing target columns\n",
    "    return data,labels"
   ],
   "metadata": {
    "collapsed": false,
    "pycharm": {
     "name": "#%%\n"
    }
   }
  },
  {
   "cell_type": "code",
   "execution_count": 18,
   "outputs": [],
   "source": [
    "def reshape_features(X_train,X_valid):\n",
    "    X_train_series = X_train.reshape((X_train.shape[0], 30, 3))\n",
    "    X_valid_series = X_valid.reshape((X_valid.shape[0], 30, 3))\n",
    "    return X_train_series, X_valid_series"
   ],
   "metadata": {
    "collapsed": false,
    "pycharm": {
     "name": "#%%\n"
    }
   }
  },
  {
   "cell_type": "code",
   "execution_count": 19,
   "outputs": [],
   "source": [
    "def data_scaler(data, scaled, inverse=False, model=None):\n",
    "    if scaled:\n",
    "        fitted_scaler = joblib.load(OBJECTS_DIR+model+SCALER_FILE)\n",
    "\n",
    "        if inverse:\n",
    "            inv_scaled_data = fitted_scaler.inverse_transform(data)\n",
    "            return inv_scaled_data\n",
    "        else:\n",
    "            scaled_data = fitted_scaler.transform(data)\n",
    "            return scaled_data\n",
    "\n",
    "    else:\n",
    "        scaler = StandardScaler()\n",
    "        # num_cols = [x for x in data.columns if num_col in x]\n",
    "        scaled_data = scaler.fit_transform(data)\n",
    "        joblib.dump(scaler, OBJECTS_DIR+model+SCALER_FILE)\n",
    "        return scaled_data"
   ],
   "metadata": {
    "collapsed": false,
    "pycharm": {
     "name": "#%%\n"
    }
   }
  },
  {
   "cell_type": "code",
   "execution_count": 20,
   "outputs": [],
   "source": [
    "def category_wise_split_train_eval(data, categories, eval_len):\n",
    "    split_train = []\n",
    "    split_test = []\n",
    "    for i, frame in data.groupby(categories):\n",
    "        split_train.append(frame[:-eval_len])\n",
    "        split_test.append(frame[-eval_len:])\n",
    "\n",
    "    train = pd.concat(split_train, axis=0)\n",
    "    eval = pd.concat(split_test, axis=0)\n",
    "\n",
    "    return train, eval"
   ],
   "metadata": {
    "collapsed": false,
    "pycharm": {
     "name": "#%%\n"
    }
   }
  },
  {
   "cell_type": "code",
   "execution_count": 21,
   "outputs": [],
   "source": [
    "MAIN_DIR = os.sep.join(os.getcwd().split(os.sep)[:-1])\n",
    "RAW_DATA_DIR = os.path.join(MAIN_DIR, 'data', 'raw', 'store_item', '')\n",
    "PROCESSED_DATA_DIR = os.path.join(MAIN_DIR, 'data','processed', '')\n",
    "MODEL_DIR = os.path.join(MAIN_DIR, 'models', '')\n",
    "OBJECTS_DIR = os.path.join(MAIN_DIR, 'objects', '')\n",
    "CONFIGS_PATH = os.path.join(MAIN_DIR, 'configs', 'config.yaml')\n",
    "conf = get_conf(CONFIGS_PATH)\n",
    "\n",
    "SCALER_FILE = 'lag1_scaler_info.save'\n",
    "TRAIN_PATH = RAW_DATA_DIR + 'train.csv'\n",
    "TEST_PATH = RAW_DATA_DIR + 'test.csv'\n",
    "PROCESSED_PATH = PROCESSED_DATA_DIR + 'data.csv'\n",
    "\n",
    "NP_ARRAYS_NAMES = ['X_train_series', 'Y_train', 'X_valid_series', 'Y_valid']\n",
    "\n",
    "plt.rcParams[\"figure.figsize\"] = [16,9]"
   ],
   "metadata": {
    "collapsed": false,
    "pycharm": {
     "name": "#%%\n"
    }
   }
  },
  {
   "cell_type": "code",
   "execution_count": 22,
   "outputs": [],
   "source": [
    "# Read Training and Testing data\n",
    "train = read_data(TRAIN_PATH, 0, conf['NUMERIC_COLS'])\n",
    "test = read_data(TEST_PATH, 1)"
   ],
   "metadata": {
    "collapsed": false,
    "pycharm": {
     "name": "#%%\n"
    }
   }
  },
  {
   "cell_type": "code",
   "execution_count": 22,
   "outputs": [],
   "source": [],
   "metadata": {
    "collapsed": false,
    "pycharm": {
     "name": "#%%\n"
    }
   }
  },
  {
   "cell_type": "code",
   "execution_count": 23,
   "outputs": [
    {
     "data": {
      "text/plain": "            store  item  sales\ndate                          \n2013-01-01      1     1     13\n2013-01-02      1     1     11\n2013-01-03      1     1     14\n2013-01-04      1     1     13\n2013-01-05      1     1     10\n...           ...   ...    ...\n2017-12-27     10    50     63\n2017-12-28     10    50     59\n2017-12-29     10    50     74\n2017-12-30     10    50     62\n2017-12-31     10    50     82\n\n[913000 rows x 3 columns]",
      "text/html": "<div>\n<style scoped>\n    .dataframe tbody tr th:only-of-type {\n        vertical-align: middle;\n    }\n\n    .dataframe tbody tr th {\n        vertical-align: top;\n    }\n\n    .dataframe thead th {\n        text-align: right;\n    }\n</style>\n<table border=\"1\" class=\"dataframe\">\n  <thead>\n    <tr style=\"text-align: right;\">\n      <th></th>\n      <th>store</th>\n      <th>item</th>\n      <th>sales</th>\n    </tr>\n    <tr>\n      <th>date</th>\n      <th></th>\n      <th></th>\n      <th></th>\n    </tr>\n  </thead>\n  <tbody>\n    <tr>\n      <th>2013-01-01</th>\n      <td>1</td>\n      <td>1</td>\n      <td>13</td>\n    </tr>\n    <tr>\n      <th>2013-01-02</th>\n      <td>1</td>\n      <td>1</td>\n      <td>11</td>\n    </tr>\n    <tr>\n      <th>2013-01-03</th>\n      <td>1</td>\n      <td>1</td>\n      <td>14</td>\n    </tr>\n    <tr>\n      <th>2013-01-04</th>\n      <td>1</td>\n      <td>1</td>\n      <td>13</td>\n    </tr>\n    <tr>\n      <th>2013-01-05</th>\n      <td>1</td>\n      <td>1</td>\n      <td>10</td>\n    </tr>\n    <tr>\n      <th>...</th>\n      <td>...</td>\n      <td>...</td>\n      <td>...</td>\n    </tr>\n    <tr>\n      <th>2017-12-27</th>\n      <td>10</td>\n      <td>50</td>\n      <td>63</td>\n    </tr>\n    <tr>\n      <th>2017-12-28</th>\n      <td>10</td>\n      <td>50</td>\n      <td>59</td>\n    </tr>\n    <tr>\n      <th>2017-12-29</th>\n      <td>10</td>\n      <td>50</td>\n      <td>74</td>\n    </tr>\n    <tr>\n      <th>2017-12-30</th>\n      <td>10</td>\n      <td>50</td>\n      <td>62</td>\n    </tr>\n    <tr>\n      <th>2017-12-31</th>\n      <td>10</td>\n      <td>50</td>\n      <td>82</td>\n    </tr>\n  </tbody>\n</table>\n<p>913000 rows × 3 columns</p>\n</div>"
     },
     "execution_count": 23,
     "metadata": {},
     "output_type": "execute_result"
    }
   ],
   "source": [
    "train"
   ],
   "metadata": {
    "collapsed": false,
    "pycharm": {
     "name": "#%%\n"
    }
   }
  },
  {
   "cell_type": "code",
   "execution_count": 24,
   "outputs": [
    {
     "data": {
      "text/plain": "               id  store  item\ndate                          \n2018-01-01      0      1     1\n2018-01-02      1      1     1\n2018-01-03      2      1     1\n2018-01-04      3      1     1\n2018-01-05      4      1     1\n...           ...    ...   ...\n2018-03-27  44995     10    50\n2018-03-28  44996     10    50\n2018-03-29  44997     10    50\n2018-03-30  44998     10    50\n2018-03-31  44999     10    50\n\n[45000 rows x 3 columns]",
      "text/html": "<div>\n<style scoped>\n    .dataframe tbody tr th:only-of-type {\n        vertical-align: middle;\n    }\n\n    .dataframe tbody tr th {\n        vertical-align: top;\n    }\n\n    .dataframe thead th {\n        text-align: right;\n    }\n</style>\n<table border=\"1\" class=\"dataframe\">\n  <thead>\n    <tr style=\"text-align: right;\">\n      <th></th>\n      <th>id</th>\n      <th>store</th>\n      <th>item</th>\n    </tr>\n    <tr>\n      <th>date</th>\n      <th></th>\n      <th></th>\n      <th></th>\n    </tr>\n  </thead>\n  <tbody>\n    <tr>\n      <th>2018-01-01</th>\n      <td>0</td>\n      <td>1</td>\n      <td>1</td>\n    </tr>\n    <tr>\n      <th>2018-01-02</th>\n      <td>1</td>\n      <td>1</td>\n      <td>1</td>\n    </tr>\n    <tr>\n      <th>2018-01-03</th>\n      <td>2</td>\n      <td>1</td>\n      <td>1</td>\n    </tr>\n    <tr>\n      <th>2018-01-04</th>\n      <td>3</td>\n      <td>1</td>\n      <td>1</td>\n    </tr>\n    <tr>\n      <th>2018-01-05</th>\n      <td>4</td>\n      <td>1</td>\n      <td>1</td>\n    </tr>\n    <tr>\n      <th>...</th>\n      <td>...</td>\n      <td>...</td>\n      <td>...</td>\n    </tr>\n    <tr>\n      <th>2018-03-27</th>\n      <td>44995</td>\n      <td>10</td>\n      <td>50</td>\n    </tr>\n    <tr>\n      <th>2018-03-28</th>\n      <td>44996</td>\n      <td>10</td>\n      <td>50</td>\n    </tr>\n    <tr>\n      <th>2018-03-29</th>\n      <td>44997</td>\n      <td>10</td>\n      <td>50</td>\n    </tr>\n    <tr>\n      <th>2018-03-30</th>\n      <td>44998</td>\n      <td>10</td>\n      <td>50</td>\n    </tr>\n    <tr>\n      <th>2018-03-31</th>\n      <td>44999</td>\n      <td>10</td>\n      <td>50</td>\n    </tr>\n  </tbody>\n</table>\n<p>45000 rows × 3 columns</p>\n</div>"
     },
     "execution_count": 24,
     "metadata": {},
     "output_type": "execute_result"
    }
   ],
   "source": [
    "test"
   ],
   "metadata": {
    "collapsed": false,
    "pycharm": {
     "name": "#%%\n"
    }
   }
  },
  {
   "cell_type": "markdown",
   "source": [
    "<h1> LSTM </h1>"
   ],
   "metadata": {
    "collapsed": false,
    "pycharm": {
     "name": "#%% md\n"
    }
   }
  },
  {
   "cell_type": "code",
   "execution_count": 25,
   "outputs": [],
   "source": [
    "train_set, eval_set = category_wise_split_train_eval(train, conf['CATEGORIES'], eval_len=360)"
   ],
   "metadata": {
    "collapsed": false,
    "pycharm": {
     "name": "#%%\n"
    }
   }
  },
  {
   "cell_type": "code",
   "execution_count": 26,
   "outputs": [
    {
     "data": {
      "text/plain": "            store  item  sales\ndate                          \n2013-01-01      1     1     13\n2013-01-02      1     1     11\n2013-01-03      1     1     14\n2013-01-04      1     1     13\n2013-01-05      1     1     10\n...           ...   ...    ...\n2017-01-01     10    50     69\n2017-01-02     10    50     40\n2017-01-03     10    50     63\n2017-01-04     10    50     63\n2017-01-05     10    50     67\n\n[733000 rows x 3 columns]",
      "text/html": "<div>\n<style scoped>\n    .dataframe tbody tr th:only-of-type {\n        vertical-align: middle;\n    }\n\n    .dataframe tbody tr th {\n        vertical-align: top;\n    }\n\n    .dataframe thead th {\n        text-align: right;\n    }\n</style>\n<table border=\"1\" class=\"dataframe\">\n  <thead>\n    <tr style=\"text-align: right;\">\n      <th></th>\n      <th>store</th>\n      <th>item</th>\n      <th>sales</th>\n    </tr>\n    <tr>\n      <th>date</th>\n      <th></th>\n      <th></th>\n      <th></th>\n    </tr>\n  </thead>\n  <tbody>\n    <tr>\n      <th>2013-01-01</th>\n      <td>1</td>\n      <td>1</td>\n      <td>13</td>\n    </tr>\n    <tr>\n      <th>2013-01-02</th>\n      <td>1</td>\n      <td>1</td>\n      <td>11</td>\n    </tr>\n    <tr>\n      <th>2013-01-03</th>\n      <td>1</td>\n      <td>1</td>\n      <td>14</td>\n    </tr>\n    <tr>\n      <th>2013-01-04</th>\n      <td>1</td>\n      <td>1</td>\n      <td>13</td>\n    </tr>\n    <tr>\n      <th>2013-01-05</th>\n      <td>1</td>\n      <td>1</td>\n      <td>10</td>\n    </tr>\n    <tr>\n      <th>...</th>\n      <td>...</td>\n      <td>...</td>\n      <td>...</td>\n    </tr>\n    <tr>\n      <th>2017-01-01</th>\n      <td>10</td>\n      <td>50</td>\n      <td>69</td>\n    </tr>\n    <tr>\n      <th>2017-01-02</th>\n      <td>10</td>\n      <td>50</td>\n      <td>40</td>\n    </tr>\n    <tr>\n      <th>2017-01-03</th>\n      <td>10</td>\n      <td>50</td>\n      <td>63</td>\n    </tr>\n    <tr>\n      <th>2017-01-04</th>\n      <td>10</td>\n      <td>50</td>\n      <td>63</td>\n    </tr>\n    <tr>\n      <th>2017-01-05</th>\n      <td>10</td>\n      <td>50</td>\n      <td>67</td>\n    </tr>\n  </tbody>\n</table>\n<p>733000 rows × 3 columns</p>\n</div>"
     },
     "execution_count": 26,
     "metadata": {},
     "output_type": "execute_result"
    }
   ],
   "source": [
    "train_set"
   ],
   "metadata": {
    "collapsed": false,
    "pycharm": {
     "name": "#%%\n"
    }
   }
  },
  {
   "cell_type": "code",
   "execution_count": 27,
   "outputs": [
    {
     "data": {
      "text/plain": "            store  item  sales\ndate                          \n2017-01-06      1     1     24\n2017-01-07      1     1     14\n2017-01-08      1     1     20\n2017-01-09      1     1     18\n2017-01-10      1     1     11\n...           ...   ...    ...\n2017-12-27     10    50     63\n2017-12-28     10    50     59\n2017-12-29     10    50     74\n2017-12-30     10    50     62\n2017-12-31     10    50     82\n\n[180000 rows x 3 columns]",
      "text/html": "<div>\n<style scoped>\n    .dataframe tbody tr th:only-of-type {\n        vertical-align: middle;\n    }\n\n    .dataframe tbody tr th {\n        vertical-align: top;\n    }\n\n    .dataframe thead th {\n        text-align: right;\n    }\n</style>\n<table border=\"1\" class=\"dataframe\">\n  <thead>\n    <tr style=\"text-align: right;\">\n      <th></th>\n      <th>store</th>\n      <th>item</th>\n      <th>sales</th>\n    </tr>\n    <tr>\n      <th>date</th>\n      <th></th>\n      <th></th>\n      <th></th>\n    </tr>\n  </thead>\n  <tbody>\n    <tr>\n      <th>2017-01-06</th>\n      <td>1</td>\n      <td>1</td>\n      <td>24</td>\n    </tr>\n    <tr>\n      <th>2017-01-07</th>\n      <td>1</td>\n      <td>1</td>\n      <td>14</td>\n    </tr>\n    <tr>\n      <th>2017-01-08</th>\n      <td>1</td>\n      <td>1</td>\n      <td>20</td>\n    </tr>\n    <tr>\n      <th>2017-01-09</th>\n      <td>1</td>\n      <td>1</td>\n      <td>18</td>\n    </tr>\n    <tr>\n      <th>2017-01-10</th>\n      <td>1</td>\n      <td>1</td>\n      <td>11</td>\n    </tr>\n    <tr>\n      <th>...</th>\n      <td>...</td>\n      <td>...</td>\n      <td>...</td>\n    </tr>\n    <tr>\n      <th>2017-12-27</th>\n      <td>10</td>\n      <td>50</td>\n      <td>63</td>\n    </tr>\n    <tr>\n      <th>2017-12-28</th>\n      <td>10</td>\n      <td>50</td>\n      <td>59</td>\n    </tr>\n    <tr>\n      <th>2017-12-29</th>\n      <td>10</td>\n      <td>50</td>\n      <td>74</td>\n    </tr>\n    <tr>\n      <th>2017-12-30</th>\n      <td>10</td>\n      <td>50</td>\n      <td>62</td>\n    </tr>\n    <tr>\n      <th>2017-12-31</th>\n      <td>10</td>\n      <td>50</td>\n      <td>82</td>\n    </tr>\n  </tbody>\n</table>\n<p>180000 rows × 3 columns</p>\n</div>"
     },
     "execution_count": 27,
     "metadata": {},
     "output_type": "execute_result"
    }
   ],
   "source": [
    "eval_set"
   ],
   "metadata": {
    "collapsed": false,
    "pycharm": {
     "name": "#%%\n"
    }
   }
  },
  {
   "cell_type": "code",
   "execution_count": 28,
   "metadata": {
    "collapsed": false,
    "pycharm": {
     "name": "#%%\n"
    }
   },
   "outputs": [],
   "source": [
    "# # Prepare train data for lstm by aggregating\n",
    "# preprocessed_data = data_preprocessing(train,\n",
    "#                                        conf['GROUPED_COLS'],\n",
    "#                                        conf['LABEL_COL'],\n",
    "#                                        conf['INDEX_COL']\n",
    "#                                        )"
   ]
  },
  {
   "cell_type": "code",
   "execution_count": 29,
   "outputs": [],
   "source": [
    "# Convert data into format fit for LSTM\n",
    "seq_train_set = series_to_supervised(train_set,\n",
    "                                             index=conf['INDEX_COL'],\n",
    "                                             target=conf['LABEL_COL'],\n",
    "                                             categories=conf['CATEGORIES'],\n",
    "                                             lookback=conf['LSTM_PARAMS']['LSTM_LOOKBACK'],\n",
    "                                             lag=conf['LSTM_PARAMS']['LSTM_PREDICTION_LAG']\n",
    "                                             )"
   ],
   "metadata": {
    "collapsed": false,
    "pycharm": {
     "name": "#%%\n"
    }
   }
  },
  {
   "cell_type": "code",
   "execution_count": 30,
   "outputs": [
    {
     "data": {
      "text/plain": "            store(t-29)  item(t-29)  sales(t-29)  store(t-28)  item(t-28)  \\\ndate                                                                        \n2013-01-30          1.0         1.0         13.0          1.0         1.0   \n2013-01-31          1.0         1.0         11.0          1.0         1.0   \n2013-02-01          1.0         1.0         14.0          1.0         1.0   \n2013-02-02          1.0         1.0         13.0          1.0         1.0   \n2013-02-03          1.0         1.0         10.0          1.0         1.0   \n...                 ...         ...          ...          ...         ...   \n2016-12-31         10.0        50.0         88.0         10.0        50.0   \n2017-01-01         10.0        50.0         81.0         10.0        50.0   \n2017-01-02         10.0        50.0         70.0         10.0        50.0   \n2017-01-03         10.0        50.0         58.0         10.0        50.0   \n2017-01-04         10.0        50.0         55.0         10.0        50.0   \n\n            sales(t-28)  store(t-27)  item(t-27)  sales(t-27)  store(t-26)  \\\ndate                                                                         \n2013-01-30         11.0          1.0         1.0         14.0          1.0   \n2013-01-31         14.0          1.0         1.0         13.0          1.0   \n2013-02-01         13.0          1.0         1.0         10.0          1.0   \n2013-02-02         10.0          1.0         1.0         12.0          1.0   \n2013-02-03         12.0          1.0         1.0         10.0          1.0   \n...                 ...          ...         ...          ...          ...   \n2016-12-31         81.0         10.0        50.0         70.0         10.0   \n2017-01-01         70.0         10.0        50.0         58.0         10.0   \n2017-01-02         58.0         10.0        50.0         55.0         10.0   \n2017-01-03         55.0         10.0        50.0         44.0         10.0   \n2017-01-04         44.0         10.0        50.0         51.0         10.0   \n\n            ...  sales(t-2)  store(t-1)  item(t-1)  sales(t-1)  store(t)  \\\ndate        ...                                                            \n2013-01-30  ...        11.0         1.0        1.0         6.0         1   \n2013-01-31  ...         6.0         1.0        1.0         9.0         1   \n2013-02-01  ...         9.0         1.0        1.0        13.0         1   \n2013-02-02  ...        13.0         1.0        1.0        11.0         1   \n2013-02-03  ...        11.0         1.0        1.0        21.0         1   \n...         ...         ...         ...        ...         ...       ...   \n2016-12-31  ...        68.0        10.0       50.0        63.0        10   \n2017-01-01  ...        63.0        10.0       50.0        64.0        10   \n2017-01-02  ...        64.0        10.0       50.0        69.0        10   \n2017-01-03  ...        69.0        10.0       50.0        40.0        10   \n2017-01-04  ...        40.0        10.0       50.0        63.0        10   \n\n            item(t)  sales(t)  store(t+1)  item(t+1)  sales(t+1)  \ndate                                                              \n2013-01-30        1         9         1.0        1.0        13.0  \n2013-01-31        1        13         1.0        1.0        11.0  \n2013-02-01        1        11         1.0        1.0        21.0  \n2013-02-02        1        21         1.0        1.0        15.0  \n2013-02-03        1        15         1.0        1.0        14.0  \n...             ...       ...         ...        ...         ...  \n2016-12-31       50        64        10.0       50.0        69.0  \n2017-01-01       50        69        10.0       50.0        40.0  \n2017-01-02       50        40        10.0       50.0        63.0  \n2017-01-03       50        63        10.0       50.0        63.0  \n2017-01-04       50        63        10.0       50.0        67.0  \n\n[718499 rows x 93 columns]",
      "text/html": "<div>\n<style scoped>\n    .dataframe tbody tr th:only-of-type {\n        vertical-align: middle;\n    }\n\n    .dataframe tbody tr th {\n        vertical-align: top;\n    }\n\n    .dataframe thead th {\n        text-align: right;\n    }\n</style>\n<table border=\"1\" class=\"dataframe\">\n  <thead>\n    <tr style=\"text-align: right;\">\n      <th></th>\n      <th>store(t-29)</th>\n      <th>item(t-29)</th>\n      <th>sales(t-29)</th>\n      <th>store(t-28)</th>\n      <th>item(t-28)</th>\n      <th>sales(t-28)</th>\n      <th>store(t-27)</th>\n      <th>item(t-27)</th>\n      <th>sales(t-27)</th>\n      <th>store(t-26)</th>\n      <th>...</th>\n      <th>sales(t-2)</th>\n      <th>store(t-1)</th>\n      <th>item(t-1)</th>\n      <th>sales(t-1)</th>\n      <th>store(t)</th>\n      <th>item(t)</th>\n      <th>sales(t)</th>\n      <th>store(t+1)</th>\n      <th>item(t+1)</th>\n      <th>sales(t+1)</th>\n    </tr>\n    <tr>\n      <th>date</th>\n      <th></th>\n      <th></th>\n      <th></th>\n      <th></th>\n      <th></th>\n      <th></th>\n      <th></th>\n      <th></th>\n      <th></th>\n      <th></th>\n      <th></th>\n      <th></th>\n      <th></th>\n      <th></th>\n      <th></th>\n      <th></th>\n      <th></th>\n      <th></th>\n      <th></th>\n      <th></th>\n      <th></th>\n    </tr>\n  </thead>\n  <tbody>\n    <tr>\n      <th>2013-01-30</th>\n      <td>1.0</td>\n      <td>1.0</td>\n      <td>13.0</td>\n      <td>1.0</td>\n      <td>1.0</td>\n      <td>11.0</td>\n      <td>1.0</td>\n      <td>1.0</td>\n      <td>14.0</td>\n      <td>1.0</td>\n      <td>...</td>\n      <td>11.0</td>\n      <td>1.0</td>\n      <td>1.0</td>\n      <td>6.0</td>\n      <td>1</td>\n      <td>1</td>\n      <td>9</td>\n      <td>1.0</td>\n      <td>1.0</td>\n      <td>13.0</td>\n    </tr>\n    <tr>\n      <th>2013-01-31</th>\n      <td>1.0</td>\n      <td>1.0</td>\n      <td>11.0</td>\n      <td>1.0</td>\n      <td>1.0</td>\n      <td>14.0</td>\n      <td>1.0</td>\n      <td>1.0</td>\n      <td>13.0</td>\n      <td>1.0</td>\n      <td>...</td>\n      <td>6.0</td>\n      <td>1.0</td>\n      <td>1.0</td>\n      <td>9.0</td>\n      <td>1</td>\n      <td>1</td>\n      <td>13</td>\n      <td>1.0</td>\n      <td>1.0</td>\n      <td>11.0</td>\n    </tr>\n    <tr>\n      <th>2013-02-01</th>\n      <td>1.0</td>\n      <td>1.0</td>\n      <td>14.0</td>\n      <td>1.0</td>\n      <td>1.0</td>\n      <td>13.0</td>\n      <td>1.0</td>\n      <td>1.0</td>\n      <td>10.0</td>\n      <td>1.0</td>\n      <td>...</td>\n      <td>9.0</td>\n      <td>1.0</td>\n      <td>1.0</td>\n      <td>13.0</td>\n      <td>1</td>\n      <td>1</td>\n      <td>11</td>\n      <td>1.0</td>\n      <td>1.0</td>\n      <td>21.0</td>\n    </tr>\n    <tr>\n      <th>2013-02-02</th>\n      <td>1.0</td>\n      <td>1.0</td>\n      <td>13.0</td>\n      <td>1.0</td>\n      <td>1.0</td>\n      <td>10.0</td>\n      <td>1.0</td>\n      <td>1.0</td>\n      <td>12.0</td>\n      <td>1.0</td>\n      <td>...</td>\n      <td>13.0</td>\n      <td>1.0</td>\n      <td>1.0</td>\n      <td>11.0</td>\n      <td>1</td>\n      <td>1</td>\n      <td>21</td>\n      <td>1.0</td>\n      <td>1.0</td>\n      <td>15.0</td>\n    </tr>\n    <tr>\n      <th>2013-02-03</th>\n      <td>1.0</td>\n      <td>1.0</td>\n      <td>10.0</td>\n      <td>1.0</td>\n      <td>1.0</td>\n      <td>12.0</td>\n      <td>1.0</td>\n      <td>1.0</td>\n      <td>10.0</td>\n      <td>1.0</td>\n      <td>...</td>\n      <td>11.0</td>\n      <td>1.0</td>\n      <td>1.0</td>\n      <td>21.0</td>\n      <td>1</td>\n      <td>1</td>\n      <td>15</td>\n      <td>1.0</td>\n      <td>1.0</td>\n      <td>14.0</td>\n    </tr>\n    <tr>\n      <th>...</th>\n      <td>...</td>\n      <td>...</td>\n      <td>...</td>\n      <td>...</td>\n      <td>...</td>\n      <td>...</td>\n      <td>...</td>\n      <td>...</td>\n      <td>...</td>\n      <td>...</td>\n      <td>...</td>\n      <td>...</td>\n      <td>...</td>\n      <td>...</td>\n      <td>...</td>\n      <td>...</td>\n      <td>...</td>\n      <td>...</td>\n      <td>...</td>\n      <td>...</td>\n      <td>...</td>\n    </tr>\n    <tr>\n      <th>2016-12-31</th>\n      <td>10.0</td>\n      <td>50.0</td>\n      <td>88.0</td>\n      <td>10.0</td>\n      <td>50.0</td>\n      <td>81.0</td>\n      <td>10.0</td>\n      <td>50.0</td>\n      <td>70.0</td>\n      <td>10.0</td>\n      <td>...</td>\n      <td>68.0</td>\n      <td>10.0</td>\n      <td>50.0</td>\n      <td>63.0</td>\n      <td>10</td>\n      <td>50</td>\n      <td>64</td>\n      <td>10.0</td>\n      <td>50.0</td>\n      <td>69.0</td>\n    </tr>\n    <tr>\n      <th>2017-01-01</th>\n      <td>10.0</td>\n      <td>50.0</td>\n      <td>81.0</td>\n      <td>10.0</td>\n      <td>50.0</td>\n      <td>70.0</td>\n      <td>10.0</td>\n      <td>50.0</td>\n      <td>58.0</td>\n      <td>10.0</td>\n      <td>...</td>\n      <td>63.0</td>\n      <td>10.0</td>\n      <td>50.0</td>\n      <td>64.0</td>\n      <td>10</td>\n      <td>50</td>\n      <td>69</td>\n      <td>10.0</td>\n      <td>50.0</td>\n      <td>40.0</td>\n    </tr>\n    <tr>\n      <th>2017-01-02</th>\n      <td>10.0</td>\n      <td>50.0</td>\n      <td>70.0</td>\n      <td>10.0</td>\n      <td>50.0</td>\n      <td>58.0</td>\n      <td>10.0</td>\n      <td>50.0</td>\n      <td>55.0</td>\n      <td>10.0</td>\n      <td>...</td>\n      <td>64.0</td>\n      <td>10.0</td>\n      <td>50.0</td>\n      <td>69.0</td>\n      <td>10</td>\n      <td>50</td>\n      <td>40</td>\n      <td>10.0</td>\n      <td>50.0</td>\n      <td>63.0</td>\n    </tr>\n    <tr>\n      <th>2017-01-03</th>\n      <td>10.0</td>\n      <td>50.0</td>\n      <td>58.0</td>\n      <td>10.0</td>\n      <td>50.0</td>\n      <td>55.0</td>\n      <td>10.0</td>\n      <td>50.0</td>\n      <td>44.0</td>\n      <td>10.0</td>\n      <td>...</td>\n      <td>69.0</td>\n      <td>10.0</td>\n      <td>50.0</td>\n      <td>40.0</td>\n      <td>10</td>\n      <td>50</td>\n      <td>63</td>\n      <td>10.0</td>\n      <td>50.0</td>\n      <td>63.0</td>\n    </tr>\n    <tr>\n      <th>2017-01-04</th>\n      <td>10.0</td>\n      <td>50.0</td>\n      <td>55.0</td>\n      <td>10.0</td>\n      <td>50.0</td>\n      <td>44.0</td>\n      <td>10.0</td>\n      <td>50.0</td>\n      <td>51.0</td>\n      <td>10.0</td>\n      <td>...</td>\n      <td>40.0</td>\n      <td>10.0</td>\n      <td>50.0</td>\n      <td>63.0</td>\n      <td>10</td>\n      <td>50</td>\n      <td>63</td>\n      <td>10.0</td>\n      <td>50.0</td>\n      <td>67.0</td>\n    </tr>\n  </tbody>\n</table>\n<p>718499 rows × 93 columns</p>\n</div>"
     },
     "execution_count": 30,
     "metadata": {},
     "output_type": "execute_result"
    }
   ],
   "source": [
    "seq_train_set"
   ],
   "metadata": {
    "collapsed": false,
    "pycharm": {
     "name": "#%%\n"
    }
   }
  },
  {
   "cell_type": "code",
   "execution_count": 31,
   "outputs": [],
   "source": [
    "# Convert data into format fit for LSTM\n",
    "seq_eval_set = series_to_supervised(eval_set,\n",
    "                                     index=conf['INDEX_COL'],\n",
    "                                     target=conf['LABEL_COL'],\n",
    "                                     categories=conf['CATEGORIES'],\n",
    "                                     lookback=conf['LSTM_PARAMS']['LSTM_LOOKBACK'],\n",
    "                                     lag=conf['LSTM_PARAMS']['LSTM_PREDICTION_LAG']\n",
    "                                     )"
   ],
   "metadata": {
    "collapsed": false,
    "pycharm": {
     "name": "#%%\n"
    }
   }
  },
  {
   "cell_type": "code",
   "execution_count": 32,
   "outputs": [
    {
     "data": {
      "text/plain": "            store(t-29)  item(t-29)  sales(t-29)  store(t-28)  item(t-28)  \\\ndate                                                                        \n2017-02-04          1.0         1.0         24.0          1.0         1.0   \n2017-02-05          1.0         1.0         14.0          1.0         1.0   \n2017-02-06          1.0         1.0         20.0          1.0         1.0   \n2017-02-07          1.0         1.0         18.0          1.0         1.0   \n2017-02-08          1.0         1.0         11.0          1.0         1.0   \n...                 ...         ...          ...          ...         ...   \n2017-12-26         10.0        50.0         75.0         10.0        50.0   \n2017-12-27         10.0        50.0         68.0         10.0        50.0   \n2017-12-28         10.0        50.0         76.0         10.0        50.0   \n2017-12-29         10.0        50.0         73.0         10.0        50.0   \n2017-12-30         10.0        50.0         66.0         10.0        50.0   \n\n            sales(t-28)  store(t-27)  item(t-27)  sales(t-27)  store(t-26)  \\\ndate                                                                         \n2017-02-04         14.0          1.0         1.0         20.0          1.0   \n2017-02-05         20.0          1.0         1.0         18.0          1.0   \n2017-02-06         18.0          1.0         1.0         11.0          1.0   \n2017-02-07         11.0          1.0         1.0         14.0          1.0   \n2017-02-08         14.0          1.0         1.0         17.0          1.0   \n...                 ...          ...         ...          ...          ...   \n2017-12-26         68.0         10.0        50.0         76.0         10.0   \n2017-12-27         76.0         10.0        50.0         73.0         10.0   \n2017-12-28         73.0         10.0        50.0         66.0         10.0   \n2017-12-29         66.0         10.0        50.0         49.0         10.0   \n2017-12-30         49.0         10.0        50.0         75.0         10.0   \n\n            ...  sales(t-2)  store(t-1)  item(t-1)  sales(t-1)  store(t)  \\\ndate        ...                                                            \n2017-02-04  ...        17.0         1.0        1.0        24.0         1   \n2017-02-05  ...        24.0         1.0        1.0        25.0         1   \n2017-02-06  ...        25.0         1.0        1.0        25.0         1   \n2017-02-07  ...        25.0         1.0        1.0        16.0         1   \n2017-02-08  ...        16.0         1.0        1.0        12.0         1   \n...         ...         ...         ...        ...         ...       ...   \n2017-12-26  ...        76.0        10.0       50.0        51.0        10   \n2017-12-27  ...        51.0        10.0       50.0        41.0        10   \n2017-12-28  ...        41.0        10.0       50.0        63.0        10   \n2017-12-29  ...        63.0        10.0       50.0        59.0        10   \n2017-12-30  ...        59.0        10.0       50.0        74.0        10   \n\n            item(t)  sales(t)  store(t+1)  item(t+1)  sales(t+1)  \ndate                                                              \n2017-02-04        1        25         1.0        1.0        25.0  \n2017-02-05        1        25         1.0        1.0        16.0  \n2017-02-06        1        16         1.0        1.0        12.0  \n2017-02-07        1        12         1.0        1.0        20.0  \n2017-02-08        1        20         1.0        1.0        16.0  \n...             ...       ...         ...        ...         ...  \n2017-12-26       50        41        10.0       50.0        63.0  \n2017-12-27       50        63        10.0       50.0        59.0  \n2017-12-28       50        59        10.0       50.0        74.0  \n2017-12-29       50        74        10.0       50.0        62.0  \n2017-12-30       50        62        10.0       50.0        82.0  \n\n[165499 rows x 93 columns]",
      "text/html": "<div>\n<style scoped>\n    .dataframe tbody tr th:only-of-type {\n        vertical-align: middle;\n    }\n\n    .dataframe tbody tr th {\n        vertical-align: top;\n    }\n\n    .dataframe thead th {\n        text-align: right;\n    }\n</style>\n<table border=\"1\" class=\"dataframe\">\n  <thead>\n    <tr style=\"text-align: right;\">\n      <th></th>\n      <th>store(t-29)</th>\n      <th>item(t-29)</th>\n      <th>sales(t-29)</th>\n      <th>store(t-28)</th>\n      <th>item(t-28)</th>\n      <th>sales(t-28)</th>\n      <th>store(t-27)</th>\n      <th>item(t-27)</th>\n      <th>sales(t-27)</th>\n      <th>store(t-26)</th>\n      <th>...</th>\n      <th>sales(t-2)</th>\n      <th>store(t-1)</th>\n      <th>item(t-1)</th>\n      <th>sales(t-1)</th>\n      <th>store(t)</th>\n      <th>item(t)</th>\n      <th>sales(t)</th>\n      <th>store(t+1)</th>\n      <th>item(t+1)</th>\n      <th>sales(t+1)</th>\n    </tr>\n    <tr>\n      <th>date</th>\n      <th></th>\n      <th></th>\n      <th></th>\n      <th></th>\n      <th></th>\n      <th></th>\n      <th></th>\n      <th></th>\n      <th></th>\n      <th></th>\n      <th></th>\n      <th></th>\n      <th></th>\n      <th></th>\n      <th></th>\n      <th></th>\n      <th></th>\n      <th></th>\n      <th></th>\n      <th></th>\n      <th></th>\n    </tr>\n  </thead>\n  <tbody>\n    <tr>\n      <th>2017-02-04</th>\n      <td>1.0</td>\n      <td>1.0</td>\n      <td>24.0</td>\n      <td>1.0</td>\n      <td>1.0</td>\n      <td>14.0</td>\n      <td>1.0</td>\n      <td>1.0</td>\n      <td>20.0</td>\n      <td>1.0</td>\n      <td>...</td>\n      <td>17.0</td>\n      <td>1.0</td>\n      <td>1.0</td>\n      <td>24.0</td>\n      <td>1</td>\n      <td>1</td>\n      <td>25</td>\n      <td>1.0</td>\n      <td>1.0</td>\n      <td>25.0</td>\n    </tr>\n    <tr>\n      <th>2017-02-05</th>\n      <td>1.0</td>\n      <td>1.0</td>\n      <td>14.0</td>\n      <td>1.0</td>\n      <td>1.0</td>\n      <td>20.0</td>\n      <td>1.0</td>\n      <td>1.0</td>\n      <td>18.0</td>\n      <td>1.0</td>\n      <td>...</td>\n      <td>24.0</td>\n      <td>1.0</td>\n      <td>1.0</td>\n      <td>25.0</td>\n      <td>1</td>\n      <td>1</td>\n      <td>25</td>\n      <td>1.0</td>\n      <td>1.0</td>\n      <td>16.0</td>\n    </tr>\n    <tr>\n      <th>2017-02-06</th>\n      <td>1.0</td>\n      <td>1.0</td>\n      <td>20.0</td>\n      <td>1.0</td>\n      <td>1.0</td>\n      <td>18.0</td>\n      <td>1.0</td>\n      <td>1.0</td>\n      <td>11.0</td>\n      <td>1.0</td>\n      <td>...</td>\n      <td>25.0</td>\n      <td>1.0</td>\n      <td>1.0</td>\n      <td>25.0</td>\n      <td>1</td>\n      <td>1</td>\n      <td>16</td>\n      <td>1.0</td>\n      <td>1.0</td>\n      <td>12.0</td>\n    </tr>\n    <tr>\n      <th>2017-02-07</th>\n      <td>1.0</td>\n      <td>1.0</td>\n      <td>18.0</td>\n      <td>1.0</td>\n      <td>1.0</td>\n      <td>11.0</td>\n      <td>1.0</td>\n      <td>1.0</td>\n      <td>14.0</td>\n      <td>1.0</td>\n      <td>...</td>\n      <td>25.0</td>\n      <td>1.0</td>\n      <td>1.0</td>\n      <td>16.0</td>\n      <td>1</td>\n      <td>1</td>\n      <td>12</td>\n      <td>1.0</td>\n      <td>1.0</td>\n      <td>20.0</td>\n    </tr>\n    <tr>\n      <th>2017-02-08</th>\n      <td>1.0</td>\n      <td>1.0</td>\n      <td>11.0</td>\n      <td>1.0</td>\n      <td>1.0</td>\n      <td>14.0</td>\n      <td>1.0</td>\n      <td>1.0</td>\n      <td>17.0</td>\n      <td>1.0</td>\n      <td>...</td>\n      <td>16.0</td>\n      <td>1.0</td>\n      <td>1.0</td>\n      <td>12.0</td>\n      <td>1</td>\n      <td>1</td>\n      <td>20</td>\n      <td>1.0</td>\n      <td>1.0</td>\n      <td>16.0</td>\n    </tr>\n    <tr>\n      <th>...</th>\n      <td>...</td>\n      <td>...</td>\n      <td>...</td>\n      <td>...</td>\n      <td>...</td>\n      <td>...</td>\n      <td>...</td>\n      <td>...</td>\n      <td>...</td>\n      <td>...</td>\n      <td>...</td>\n      <td>...</td>\n      <td>...</td>\n      <td>...</td>\n      <td>...</td>\n      <td>...</td>\n      <td>...</td>\n      <td>...</td>\n      <td>...</td>\n      <td>...</td>\n      <td>...</td>\n    </tr>\n    <tr>\n      <th>2017-12-26</th>\n      <td>10.0</td>\n      <td>50.0</td>\n      <td>75.0</td>\n      <td>10.0</td>\n      <td>50.0</td>\n      <td>68.0</td>\n      <td>10.0</td>\n      <td>50.0</td>\n      <td>76.0</td>\n      <td>10.0</td>\n      <td>...</td>\n      <td>76.0</td>\n      <td>10.0</td>\n      <td>50.0</td>\n      <td>51.0</td>\n      <td>10</td>\n      <td>50</td>\n      <td>41</td>\n      <td>10.0</td>\n      <td>50.0</td>\n      <td>63.0</td>\n    </tr>\n    <tr>\n      <th>2017-12-27</th>\n      <td>10.0</td>\n      <td>50.0</td>\n      <td>68.0</td>\n      <td>10.0</td>\n      <td>50.0</td>\n      <td>76.0</td>\n      <td>10.0</td>\n      <td>50.0</td>\n      <td>73.0</td>\n      <td>10.0</td>\n      <td>...</td>\n      <td>51.0</td>\n      <td>10.0</td>\n      <td>50.0</td>\n      <td>41.0</td>\n      <td>10</td>\n      <td>50</td>\n      <td>63</td>\n      <td>10.0</td>\n      <td>50.0</td>\n      <td>59.0</td>\n    </tr>\n    <tr>\n      <th>2017-12-28</th>\n      <td>10.0</td>\n      <td>50.0</td>\n      <td>76.0</td>\n      <td>10.0</td>\n      <td>50.0</td>\n      <td>73.0</td>\n      <td>10.0</td>\n      <td>50.0</td>\n      <td>66.0</td>\n      <td>10.0</td>\n      <td>...</td>\n      <td>41.0</td>\n      <td>10.0</td>\n      <td>50.0</td>\n      <td>63.0</td>\n      <td>10</td>\n      <td>50</td>\n      <td>59</td>\n      <td>10.0</td>\n      <td>50.0</td>\n      <td>74.0</td>\n    </tr>\n    <tr>\n      <th>2017-12-29</th>\n      <td>10.0</td>\n      <td>50.0</td>\n      <td>73.0</td>\n      <td>10.0</td>\n      <td>50.0</td>\n      <td>66.0</td>\n      <td>10.0</td>\n      <td>50.0</td>\n      <td>49.0</td>\n      <td>10.0</td>\n      <td>...</td>\n      <td>63.0</td>\n      <td>10.0</td>\n      <td>50.0</td>\n      <td>59.0</td>\n      <td>10</td>\n      <td>50</td>\n      <td>74</td>\n      <td>10.0</td>\n      <td>50.0</td>\n      <td>62.0</td>\n    </tr>\n    <tr>\n      <th>2017-12-30</th>\n      <td>10.0</td>\n      <td>50.0</td>\n      <td>66.0</td>\n      <td>10.0</td>\n      <td>50.0</td>\n      <td>49.0</td>\n      <td>10.0</td>\n      <td>50.0</td>\n      <td>75.0</td>\n      <td>10.0</td>\n      <td>...</td>\n      <td>59.0</td>\n      <td>10.0</td>\n      <td>50.0</td>\n      <td>74.0</td>\n      <td>10</td>\n      <td>50</td>\n      <td>62</td>\n      <td>10.0</td>\n      <td>50.0</td>\n      <td>82.0</td>\n    </tr>\n  </tbody>\n</table>\n<p>165499 rows × 93 columns</p>\n</div>"
     },
     "execution_count": 32,
     "metadata": {},
     "output_type": "execute_result"
    }
   ],
   "source": [
    "seq_eval_set"
   ],
   "metadata": {
    "collapsed": false,
    "pycharm": {
     "name": "#%%\n"
    }
   }
  },
  {
   "cell_type": "code",
   "execution_count": 33,
   "outputs": [],
   "source": [
    "# Scale data for training\n",
    "train_scaled = data_scaler(seq_train_set, scaled=0, model='lstm')\n",
    "eval_scaled = data_scaler(seq_eval_set, scaled=1, model='lstm')"
   ],
   "metadata": {
    "collapsed": false,
    "pycharm": {
     "name": "#%%\n"
    }
   }
  },
  {
   "cell_type": "code",
   "execution_count": 34,
   "outputs": [
    {
     "data": {
      "text/plain": "array([[-1.56669831, -1.69774924, -1.35233411, ..., -1.56670267,\n        -1.69775396, -1.36444792],\n       [-1.56669831, -1.69774924, -1.4240023 , ..., -1.56670267,\n        -1.69775396, -1.43626791],\n       [-1.56669831, -1.69774924, -1.31650002, ..., -1.56670267,\n        -1.69775396, -1.07716797],\n       ...,\n       [ 1.56670267,  1.69775396,  0.69020925, ...,  1.56669831,\n         1.69774924,  0.43105177],\n       [ 1.56670267,  1.69775396,  0.26020012, ...,  1.56669831,\n         1.69774924,  0.43105177],\n       [ 1.56670267,  1.69775396,  0.15269784, ...,  1.56669831,\n         1.69774924,  0.57469175]])"
     },
     "execution_count": 34,
     "metadata": {},
     "output_type": "execute_result"
    }
   ],
   "source": [
    "train_scaled"
   ],
   "metadata": {
    "collapsed": false,
    "pycharm": {
     "name": "#%%\n"
    }
   }
  },
  {
   "cell_type": "code",
   "execution_count": 35,
   "outputs": [
    {
     "data": {
      "text/plain": "array([[-1.56669831, -1.69774924, -0.95815908, ..., -1.56670267,\n        -1.69775396, -0.93352799],\n       [-1.56669831, -1.69774924, -1.31650002, ..., -1.56670267,\n        -1.69775396, -1.25671794],\n       [-1.56669831, -1.69774924, -1.10149546, ..., -1.56670267,\n        -1.69775396, -1.40035791],\n       ...,\n       [ 1.56670267,  1.69775396,  0.90521382, ...,  1.56669831,\n         1.69774924,  0.8260617 ],\n       [ 1.56670267,  1.69775396,  0.79771154, ...,  1.56669831,\n         1.69774924,  0.39514178],\n       [ 1.56670267,  1.69775396,  0.54687288, ...,  1.56669831,\n         1.69774924,  1.11334165]])"
     },
     "execution_count": 35,
     "metadata": {},
     "output_type": "execute_result"
    }
   ],
   "source": [
    "eval_scaled"
   ],
   "metadata": {
    "collapsed": false,
    "pycharm": {
     "name": "#%%\n"
    }
   }
  },
  {
   "cell_type": "code",
   "execution_count": 1,
   "outputs": [
    {
     "ename": "NameError",
     "evalue": "name 'split_xy' is not defined",
     "output_type": "error",
     "traceback": [
      "\u001B[1;31m---------------------------------------------------------------------------\u001B[0m",
      "\u001B[1;31mNameError\u001B[0m                                 Traceback (most recent call last)",
      "Input \u001B[1;32mIn [1]\u001B[0m, in \u001B[0;36m<cell line: 2>\u001B[1;34m()\u001B[0m\n\u001B[0;32m      1\u001B[0m \u001B[38;5;66;03m# Split train eval into x & y\u001B[39;00m\n\u001B[1;32m----> 2\u001B[0m x_train, y_train \u001B[38;5;241m=\u001B[39m \u001B[43msplit_xy\u001B[49m(train_scaled, conf[\u001B[38;5;124m'\u001B[39m\u001B[38;5;124mDATA_COLS\u001B[39m\u001B[38;5;124m'\u001B[39m], conf[\u001B[38;5;124m'\u001B[39m\u001B[38;5;124mLABEL_COL\u001B[39m\u001B[38;5;124m'\u001B[39m])\n\u001B[0;32m      3\u001B[0m x_eval, y_eval \u001B[38;5;241m=\u001B[39m split_xy(eval_scaled, conf[\u001B[38;5;124m'\u001B[39m\u001B[38;5;124mDATA_COLS\u001B[39m\u001B[38;5;124m'\u001B[39m], conf[\u001B[38;5;124m'\u001B[39m\u001B[38;5;124mLABEL_COL\u001B[39m\u001B[38;5;124m'\u001B[39m])\n",
      "\u001B[1;31mNameError\u001B[0m: name 'split_xy' is not defined"
     ]
    }
   ],
   "source": [
    "# Split train eval into x & y\n",
    "x_train, y_train = split_xy(train_scaled, conf['DATA_COLS'], conf['LABEL_COL'])\n",
    "x_eval, y_eval = split_xy(eval_scaled, conf['DATA_COLS'], conf['LABEL_COL'])"
   ],
   "metadata": {
    "collapsed": false,
    "pycharm": {
     "name": "#%%\n"
    }
   }
  },
  {
   "cell_type": "code",
   "execution_count": 37,
   "outputs": [],
   "source": [
    "# Reshape data for training\n",
    "x_train_reshaped, x_eval_reshaped = reshape_features(x_train, x_eval)"
   ],
   "metadata": {
    "collapsed": false,
    "pycharm": {
     "name": "#%%\n"
    }
   }
  },
  {
   "cell_type": "code",
   "execution_count": 38,
   "outputs": [
    {
     "data": {
      "text/plain": "array([[-1.56669831, -1.69774924, -1.35233411, ..., -1.56669831,\n        -1.69774924, -1.50804559],\n       [-1.56669831, -1.69774924, -1.4240023 , ..., -1.56669831,\n        -1.69774924, -1.36440794],\n       [-1.56669831, -1.69774924, -1.31650002, ..., -1.56669831,\n        -1.69774924, -1.43622677],\n       ...,\n       [ 1.56670267,  1.69775396,  0.69020925, ...,  1.56670267,\n         1.69775396, -0.39485377],\n       [ 1.56670267,  1.69775396,  0.26020012, ...,  1.56670267,\n         1.69775396,  0.43106275],\n       [ 1.56670267,  1.69775396,  0.15269784, ...,  1.56670267,\n         1.69775396,  0.43106275]])"
     },
     "execution_count": 38,
     "metadata": {},
     "output_type": "execute_result"
    }
   ],
   "source": [
    "x_train"
   ],
   "metadata": {
    "collapsed": false,
    "pycharm": {
     "name": "#%%\n"
    }
   }
  },
  {
   "cell_type": "code",
   "execution_count": 39,
   "outputs": [
    {
     "data": {
      "text/plain": "(718499, 30, 3)"
     },
     "execution_count": 39,
     "metadata": {},
     "output_type": "execute_result"
    }
   ],
   "source": [
    "x_train_reshaped.shape"
   ],
   "metadata": {
    "collapsed": false,
    "pycharm": {
     "name": "#%%\n"
    }
   }
  },
  {
   "cell_type": "code",
   "execution_count": 40,
   "outputs": [],
   "source": [
    "y_train_reshaped, y_eval_reshaped = y_train.reshape((y_train.shape[0], 1)), y_eval.reshape((y_eval.shape[0], 1))"
   ],
   "metadata": {
    "collapsed": false,
    "pycharm": {
     "name": "#%%\n"
    }
   }
  },
  {
   "cell_type": "code",
   "execution_count": 41,
   "outputs": [],
   "source": [
    "# Obtain trained LSTM model\n",
    "model_lstm = lstm_model(conf['LSTM_PARAMS'],\n",
    "                        MODEL_DIR,\n",
    "                        x_train_reshaped,\n",
    "                        y_train_reshaped,\n",
    "                        x_eval_reshaped,\n",
    "                        y_eval_reshaped,\n",
    "                        training_req=0\n",
    "                        )"
   ],
   "metadata": {
    "collapsed": false,
    "pycharm": {
     "name": "#%%\n"
    }
   }
  },
  {
   "cell_type": "code",
   "execution_count": 42,
   "outputs": [],
   "source": [
    "# # Split into train-test set\n",
    "# X_train, Y_train, X_valid, Y_valid = split_train_valid(lstm_processed_data_2,\n",
    "#                                                        test_size=0.2,\n",
    "#                                                        lag=conf['LSTM_PARAMS']['LSTM_PREDICTION_LAG']\n",
    "#                                                        )"
   ],
   "metadata": {
    "collapsed": false,
    "pycharm": {
     "name": "#%%\n"
    }
   }
  },
  {
   "cell_type": "code",
   "execution_count": 43,
   "outputs": [],
   "source": [
    "# # Scale data for training\n",
    "# X_train_scaled = data_scaler(X_train, scaled=0, model='lstm')\n",
    "# X_valid_scaled = data_scaler(X_valid, scaled=1, model='lstm')"
   ],
   "metadata": {
    "collapsed": false,
    "pycharm": {
     "name": "#%%\n"
    }
   }
  },
  {
   "cell_type": "code",
   "execution_count": 44,
   "outputs": [
    {
     "name": "stdout",
     "output_type": "stream",
     "text": [
      "5172/5172 [==============================] - 11s 2ms/step\n"
     ]
    }
   ],
   "source": [
    "\n",
    "# make a prediction\n",
    "pred = model_lstm.predict(x_eval_reshaped)\n",
    "# eval_x = x_eval_reshaped.reshape((x_eval_reshaped.shape[0], 30*3))\n",
    "# invert scaling for forecast"
   ],
   "metadata": {
    "collapsed": false,
    "pycharm": {
     "name": "#%%\n"
    }
   }
  },
  {
   "cell_type": "code",
   "execution_count": 44,
   "outputs": [],
   "source": [],
   "metadata": {
    "collapsed": false,
    "pycharm": {
     "name": "#%%\n"
    }
   }
  },
  {
   "cell_type": "code",
   "execution_count": 45,
   "outputs": [],
   "source": [
    "eval_with_pred = np.concatenate((eval_scaled[:,:-1], pred), axis=1)\n",
    "eval_with_pred = data_scaler(eval_with_pred, scaled=1, inverse=True, model='lstm')"
   ],
   "metadata": {
    "collapsed": false,
    "pycharm": {
     "name": "#%%\n"
    }
   }
  },
  {
   "cell_type": "code",
   "execution_count": 46,
   "outputs": [
    {
     "data": {
      "text/plain": "array([[ 1.        ,  1.        , 24.        , ...,  1.        ,\n         1.        , 21.09601092],\n       [ 1.        ,  1.        , 14.        , ...,  1.        ,\n         1.        , 13.7038884 ],\n       [ 1.        ,  1.        , 20.        , ...,  1.        ,\n         1.        , 16.6796064 ],\n       ...,\n       [10.        , 50.        , 76.        , ..., 10.        ,\n        50.        , 67.66978047],\n       [10.        , 50.        , 73.        , ..., 10.        ,\n        50.        , 71.78576491],\n       [10.        , 50.        , 66.        , ..., 10.        ,\n        50.        , 74.8278099 ]])"
     },
     "execution_count": 46,
     "metadata": {},
     "output_type": "execute_result"
    }
   ],
   "source": [
    "eval_with_pred"
   ],
   "metadata": {
    "collapsed": false,
    "pycharm": {
     "name": "#%%\n"
    }
   }
  },
  {
   "cell_type": "code",
   "execution_count": 47,
   "outputs": [
    {
     "data": {
      "text/plain": "            store(t-29)  item(t-29)  sales(t-29)  store(t-28)  item(t-28)  \\\ndate                                                                        \n2017-02-04          1.0         1.0         24.0          1.0         1.0   \n2017-02-05          1.0         1.0         14.0          1.0         1.0   \n2017-02-06          1.0         1.0         20.0          1.0         1.0   \n2017-02-07          1.0         1.0         18.0          1.0         1.0   \n2017-02-08          1.0         1.0         11.0          1.0         1.0   \n...                 ...         ...          ...          ...         ...   \n2017-12-26         10.0        50.0         75.0         10.0        50.0   \n2017-12-27         10.0        50.0         68.0         10.0        50.0   \n2017-12-28         10.0        50.0         76.0         10.0        50.0   \n2017-12-29         10.0        50.0         73.0         10.0        50.0   \n2017-12-30         10.0        50.0         66.0         10.0        50.0   \n\n            sales(t-28)  store(t-27)  item(t-27)  sales(t-27)  store(t-26)  \\\ndate                                                                         \n2017-02-04         14.0          1.0         1.0         20.0          1.0   \n2017-02-05         20.0          1.0         1.0         18.0          1.0   \n2017-02-06         18.0          1.0         1.0         11.0          1.0   \n2017-02-07         11.0          1.0         1.0         14.0          1.0   \n2017-02-08         14.0          1.0         1.0         17.0          1.0   \n...                 ...          ...         ...          ...          ...   \n2017-12-26         68.0         10.0        50.0         76.0         10.0   \n2017-12-27         76.0         10.0        50.0         73.0         10.0   \n2017-12-28         73.0         10.0        50.0         66.0         10.0   \n2017-12-29         66.0         10.0        50.0         49.0         10.0   \n2017-12-30         49.0         10.0        50.0         75.0         10.0   \n\n            ...  sales(t-2)  store(t-1)  item(t-1)  sales(t-1)  store(t)  \\\ndate        ...                                                            \n2017-02-04  ...        17.0         1.0        1.0        24.0         1   \n2017-02-05  ...        24.0         1.0        1.0        25.0         1   \n2017-02-06  ...        25.0         1.0        1.0        25.0         1   \n2017-02-07  ...        25.0         1.0        1.0        16.0         1   \n2017-02-08  ...        16.0         1.0        1.0        12.0         1   \n...         ...         ...         ...        ...         ...       ...   \n2017-12-26  ...        76.0        10.0       50.0        51.0        10   \n2017-12-27  ...        51.0        10.0       50.0        41.0        10   \n2017-12-28  ...        41.0        10.0       50.0        63.0        10   \n2017-12-29  ...        63.0        10.0       50.0        59.0        10   \n2017-12-30  ...        59.0        10.0       50.0        74.0        10   \n\n            item(t)  sales(t)  store(t+1)  item(t+1)  sales(t+1)  \ndate                                                              \n2017-02-04        1        25         1.0        1.0        25.0  \n2017-02-05        1        25         1.0        1.0        16.0  \n2017-02-06        1        16         1.0        1.0        12.0  \n2017-02-07        1        12         1.0        1.0        20.0  \n2017-02-08        1        20         1.0        1.0        16.0  \n...             ...       ...         ...        ...         ...  \n2017-12-26       50        41        10.0       50.0        63.0  \n2017-12-27       50        63        10.0       50.0        59.0  \n2017-12-28       50        59        10.0       50.0        74.0  \n2017-12-29       50        74        10.0       50.0        62.0  \n2017-12-30       50        62        10.0       50.0        82.0  \n\n[165499 rows x 93 columns]",
      "text/html": "<div>\n<style scoped>\n    .dataframe tbody tr th:only-of-type {\n        vertical-align: middle;\n    }\n\n    .dataframe tbody tr th {\n        vertical-align: top;\n    }\n\n    .dataframe thead th {\n        text-align: right;\n    }\n</style>\n<table border=\"1\" class=\"dataframe\">\n  <thead>\n    <tr style=\"text-align: right;\">\n      <th></th>\n      <th>store(t-29)</th>\n      <th>item(t-29)</th>\n      <th>sales(t-29)</th>\n      <th>store(t-28)</th>\n      <th>item(t-28)</th>\n      <th>sales(t-28)</th>\n      <th>store(t-27)</th>\n      <th>item(t-27)</th>\n      <th>sales(t-27)</th>\n      <th>store(t-26)</th>\n      <th>...</th>\n      <th>sales(t-2)</th>\n      <th>store(t-1)</th>\n      <th>item(t-1)</th>\n      <th>sales(t-1)</th>\n      <th>store(t)</th>\n      <th>item(t)</th>\n      <th>sales(t)</th>\n      <th>store(t+1)</th>\n      <th>item(t+1)</th>\n      <th>sales(t+1)</th>\n    </tr>\n    <tr>\n      <th>date</th>\n      <th></th>\n      <th></th>\n      <th></th>\n      <th></th>\n      <th></th>\n      <th></th>\n      <th></th>\n      <th></th>\n      <th></th>\n      <th></th>\n      <th></th>\n      <th></th>\n      <th></th>\n      <th></th>\n      <th></th>\n      <th></th>\n      <th></th>\n      <th></th>\n      <th></th>\n      <th></th>\n      <th></th>\n    </tr>\n  </thead>\n  <tbody>\n    <tr>\n      <th>2017-02-04</th>\n      <td>1.0</td>\n      <td>1.0</td>\n      <td>24.0</td>\n      <td>1.0</td>\n      <td>1.0</td>\n      <td>14.0</td>\n      <td>1.0</td>\n      <td>1.0</td>\n      <td>20.0</td>\n      <td>1.0</td>\n      <td>...</td>\n      <td>17.0</td>\n      <td>1.0</td>\n      <td>1.0</td>\n      <td>24.0</td>\n      <td>1</td>\n      <td>1</td>\n      <td>25</td>\n      <td>1.0</td>\n      <td>1.0</td>\n      <td>25.0</td>\n    </tr>\n    <tr>\n      <th>2017-02-05</th>\n      <td>1.0</td>\n      <td>1.0</td>\n      <td>14.0</td>\n      <td>1.0</td>\n      <td>1.0</td>\n      <td>20.0</td>\n      <td>1.0</td>\n      <td>1.0</td>\n      <td>18.0</td>\n      <td>1.0</td>\n      <td>...</td>\n      <td>24.0</td>\n      <td>1.0</td>\n      <td>1.0</td>\n      <td>25.0</td>\n      <td>1</td>\n      <td>1</td>\n      <td>25</td>\n      <td>1.0</td>\n      <td>1.0</td>\n      <td>16.0</td>\n    </tr>\n    <tr>\n      <th>2017-02-06</th>\n      <td>1.0</td>\n      <td>1.0</td>\n      <td>20.0</td>\n      <td>1.0</td>\n      <td>1.0</td>\n      <td>18.0</td>\n      <td>1.0</td>\n      <td>1.0</td>\n      <td>11.0</td>\n      <td>1.0</td>\n      <td>...</td>\n      <td>25.0</td>\n      <td>1.0</td>\n      <td>1.0</td>\n      <td>25.0</td>\n      <td>1</td>\n      <td>1</td>\n      <td>16</td>\n      <td>1.0</td>\n      <td>1.0</td>\n      <td>12.0</td>\n    </tr>\n    <tr>\n      <th>2017-02-07</th>\n      <td>1.0</td>\n      <td>1.0</td>\n      <td>18.0</td>\n      <td>1.0</td>\n      <td>1.0</td>\n      <td>11.0</td>\n      <td>1.0</td>\n      <td>1.0</td>\n      <td>14.0</td>\n      <td>1.0</td>\n      <td>...</td>\n      <td>25.0</td>\n      <td>1.0</td>\n      <td>1.0</td>\n      <td>16.0</td>\n      <td>1</td>\n      <td>1</td>\n      <td>12</td>\n      <td>1.0</td>\n      <td>1.0</td>\n      <td>20.0</td>\n    </tr>\n    <tr>\n      <th>2017-02-08</th>\n      <td>1.0</td>\n      <td>1.0</td>\n      <td>11.0</td>\n      <td>1.0</td>\n      <td>1.0</td>\n      <td>14.0</td>\n      <td>1.0</td>\n      <td>1.0</td>\n      <td>17.0</td>\n      <td>1.0</td>\n      <td>...</td>\n      <td>16.0</td>\n      <td>1.0</td>\n      <td>1.0</td>\n      <td>12.0</td>\n      <td>1</td>\n      <td>1</td>\n      <td>20</td>\n      <td>1.0</td>\n      <td>1.0</td>\n      <td>16.0</td>\n    </tr>\n    <tr>\n      <th>...</th>\n      <td>...</td>\n      <td>...</td>\n      <td>...</td>\n      <td>...</td>\n      <td>...</td>\n      <td>...</td>\n      <td>...</td>\n      <td>...</td>\n      <td>...</td>\n      <td>...</td>\n      <td>...</td>\n      <td>...</td>\n      <td>...</td>\n      <td>...</td>\n      <td>...</td>\n      <td>...</td>\n      <td>...</td>\n      <td>...</td>\n      <td>...</td>\n      <td>...</td>\n      <td>...</td>\n    </tr>\n    <tr>\n      <th>2017-12-26</th>\n      <td>10.0</td>\n      <td>50.0</td>\n      <td>75.0</td>\n      <td>10.0</td>\n      <td>50.0</td>\n      <td>68.0</td>\n      <td>10.0</td>\n      <td>50.0</td>\n      <td>76.0</td>\n      <td>10.0</td>\n      <td>...</td>\n      <td>76.0</td>\n      <td>10.0</td>\n      <td>50.0</td>\n      <td>51.0</td>\n      <td>10</td>\n      <td>50</td>\n      <td>41</td>\n      <td>10.0</td>\n      <td>50.0</td>\n      <td>63.0</td>\n    </tr>\n    <tr>\n      <th>2017-12-27</th>\n      <td>10.0</td>\n      <td>50.0</td>\n      <td>68.0</td>\n      <td>10.0</td>\n      <td>50.0</td>\n      <td>76.0</td>\n      <td>10.0</td>\n      <td>50.0</td>\n      <td>73.0</td>\n      <td>10.0</td>\n      <td>...</td>\n      <td>51.0</td>\n      <td>10.0</td>\n      <td>50.0</td>\n      <td>41.0</td>\n      <td>10</td>\n      <td>50</td>\n      <td>63</td>\n      <td>10.0</td>\n      <td>50.0</td>\n      <td>59.0</td>\n    </tr>\n    <tr>\n      <th>2017-12-28</th>\n      <td>10.0</td>\n      <td>50.0</td>\n      <td>76.0</td>\n      <td>10.0</td>\n      <td>50.0</td>\n      <td>73.0</td>\n      <td>10.0</td>\n      <td>50.0</td>\n      <td>66.0</td>\n      <td>10.0</td>\n      <td>...</td>\n      <td>41.0</td>\n      <td>10.0</td>\n      <td>50.0</td>\n      <td>63.0</td>\n      <td>10</td>\n      <td>50</td>\n      <td>59</td>\n      <td>10.0</td>\n      <td>50.0</td>\n      <td>74.0</td>\n    </tr>\n    <tr>\n      <th>2017-12-29</th>\n      <td>10.0</td>\n      <td>50.0</td>\n      <td>73.0</td>\n      <td>10.0</td>\n      <td>50.0</td>\n      <td>66.0</td>\n      <td>10.0</td>\n      <td>50.0</td>\n      <td>49.0</td>\n      <td>10.0</td>\n      <td>...</td>\n      <td>63.0</td>\n      <td>10.0</td>\n      <td>50.0</td>\n      <td>59.0</td>\n      <td>10</td>\n      <td>50</td>\n      <td>74</td>\n      <td>10.0</td>\n      <td>50.0</td>\n      <td>62.0</td>\n    </tr>\n    <tr>\n      <th>2017-12-30</th>\n      <td>10.0</td>\n      <td>50.0</td>\n      <td>66.0</td>\n      <td>10.0</td>\n      <td>50.0</td>\n      <td>49.0</td>\n      <td>10.0</td>\n      <td>50.0</td>\n      <td>75.0</td>\n      <td>10.0</td>\n      <td>...</td>\n      <td>59.0</td>\n      <td>10.0</td>\n      <td>50.0</td>\n      <td>74.0</td>\n      <td>10</td>\n      <td>50</td>\n      <td>62</td>\n      <td>10.0</td>\n      <td>50.0</td>\n      <td>82.0</td>\n    </tr>\n  </tbody>\n</table>\n<p>165499 rows × 93 columns</p>\n</div>"
     },
     "execution_count": 47,
     "metadata": {},
     "output_type": "execute_result"
    }
   ],
   "source": [
    "seq_eval_set"
   ],
   "metadata": {
    "collapsed": false,
    "pycharm": {
     "name": "#%%\n"
    }
   }
  },
  {
   "cell_type": "code",
   "execution_count": 48,
   "outputs": [
    {
     "name": "stdout",
     "output_type": "stream",
     "text": [
      "SMAPE Error Score: 12.69 %\n"
     ]
    }
   ],
   "source": [
    "inv_pred = eval_with_pred[:,-1].reshape(-1,1)\n",
    "inv_eval_y = seq_eval_set.iloc[:,-1].values.reshape(-1,1)\n",
    "lstm_smape = SMAPE(inv_pred, inv_eval_y)"
   ],
   "metadata": {
    "collapsed": false,
    "pycharm": {
     "name": "#%%\n"
    }
   }
  },
  {
   "cell_type": "code",
   "execution_count": 49,
   "outputs": [
    {
     "name": "stdout",
     "output_type": "stream",
     "text": [
      "5172/5172 [==============================] - 13s 2ms/step - loss: 0.0983\n"
     ]
    }
   ],
   "source": [
    "# LSTM Evaluation - MSE\n",
    "lstm_mse = model_lstm.evaluate(x_eval_reshaped,eval_scaled[:,-1].reshape(-1,1))"
   ],
   "metadata": {
    "collapsed": false,
    "pycharm": {
     "name": "#%%\n"
    }
   }
  },
  {
   "cell_type": "code",
   "execution_count": 54,
   "outputs": [
    {
     "data": {
      "text/plain": "<Figure size 1152x648 with 1 Axes>",
      "image/png": "[encoded data removed]"
     },
     "metadata": {
      "needs_background": "light"
     },
     "output_type": "display_data"
    }
   ],
   "source": [
    "plot_pred_vs_act(inv_eval_y[-2000:],inv_pred[-2000:],'LSTM')"
   ],
   "metadata": {
    "collapsed": false,
    "pycharm": {
     "name": "#%%\n"
    }
   }
  },
  {
   "cell_type": "code",
   "execution_count": 55,
   "outputs": [
    {
     "data": {
      "text/plain": "            store(t-29)  item(t-29)  sales(t-29)  store(t-28)  item(t-28)  \\\ndate                                                                        \n2017-02-04          1.0         1.0         24.0          1.0         1.0   \n2017-02-05          1.0         1.0         14.0          1.0         1.0   \n2017-02-06          1.0         1.0         20.0          1.0         1.0   \n2017-02-07          1.0         1.0         18.0          1.0         1.0   \n2017-02-08          1.0         1.0         11.0          1.0         1.0   \n...                 ...         ...          ...          ...         ...   \n2017-12-26         10.0        50.0         75.0         10.0        50.0   \n2017-12-27         10.0        50.0         68.0         10.0        50.0   \n2017-12-28         10.0        50.0         76.0         10.0        50.0   \n2017-12-29         10.0        50.0         73.0         10.0        50.0   \n2017-12-30         10.0        50.0         66.0         10.0        50.0   \n\n            sales(t-28)  store(t-27)  item(t-27)  sales(t-27)  store(t-26)  \\\ndate                                                                         \n2017-02-04         14.0          1.0         1.0         20.0          1.0   \n2017-02-05         20.0          1.0         1.0         18.0          1.0   \n2017-02-06         18.0          1.0         1.0         11.0          1.0   \n2017-02-07         11.0          1.0         1.0         14.0          1.0   \n2017-02-08         14.0          1.0         1.0         17.0          1.0   \n...                 ...          ...         ...          ...          ...   \n2017-12-26         68.0         10.0        50.0         76.0         10.0   \n2017-12-27         76.0         10.0        50.0         73.0         10.0   \n2017-12-28         73.0         10.0        50.0         66.0         10.0   \n2017-12-29         66.0         10.0        50.0         49.0         10.0   \n2017-12-30         49.0         10.0        50.0         75.0         10.0   \n\n            ...  sales(t-2)  store(t-1)  item(t-1)  sales(t-1)  store(t)  \\\ndate        ...                                                            \n2017-02-04  ...        17.0         1.0        1.0        24.0       1.0   \n2017-02-05  ...        24.0         1.0        1.0        25.0       1.0   \n2017-02-06  ...        25.0         1.0        1.0        25.0       1.0   \n2017-02-07  ...        25.0         1.0        1.0        16.0       1.0   \n2017-02-08  ...        16.0         1.0        1.0        12.0       1.0   \n...         ...         ...         ...        ...         ...       ...   \n2017-12-26  ...        76.0        10.0       50.0        51.0      10.0   \n2017-12-27  ...        51.0        10.0       50.0        41.0      10.0   \n2017-12-28  ...        41.0        10.0       50.0        63.0      10.0   \n2017-12-29  ...        63.0        10.0       50.0        59.0      10.0   \n2017-12-30  ...        59.0        10.0       50.0        74.0      10.0   \n\n            item(t)  sales(t)  store(t+1)  item(t+1)  sales(t+1)  \ndate                                                              \n2017-02-04      1.0      25.0         1.0        1.0   21.096011  \n2017-02-05      1.0      25.0         1.0        1.0   13.703888  \n2017-02-06      1.0      16.0         1.0        1.0   16.679606  \n2017-02-07      1.0      12.0         1.0        1.0   16.504783  \n2017-02-08      1.0      20.0         1.0        1.0   17.714297  \n...             ...       ...         ...        ...         ...  \n2017-12-26     50.0      41.0        10.0       50.0   56.160520  \n2017-12-27     50.0      63.0        10.0       50.0   63.754111  \n2017-12-28     50.0      59.0        10.0       50.0   67.669780  \n2017-12-29     50.0      74.0        10.0       50.0   71.785765  \n2017-12-30     50.0      62.0        10.0       50.0   74.827810  \n\n[165499 rows x 93 columns]",
      "text/html": "<div>\n<style scoped>\n    .dataframe tbody tr th:only-of-type {\n        vertical-align: middle;\n    }\n\n    .dataframe tbody tr th {\n        vertical-align: top;\n    }\n\n    .dataframe thead th {\n        text-align: right;\n    }\n</style>\n<table border=\"1\" class=\"dataframe\">\n  <thead>\n    <tr style=\"text-align: right;\">\n      <th></th>\n      <th>store(t-29)</th>\n      <th>item(t-29)</th>\n      <th>sales(t-29)</th>\n      <th>store(t-28)</th>\n      <th>item(t-28)</th>\n      <th>sales(t-28)</th>\n      <th>store(t-27)</th>\n      <th>item(t-27)</th>\n      <th>sales(t-27)</th>\n      <th>store(t-26)</th>\n      <th>...</th>\n      <th>sales(t-2)</th>\n      <th>store(t-1)</th>\n      <th>item(t-1)</th>\n      <th>sales(t-1)</th>\n      <th>store(t)</th>\n      <th>item(t)</th>\n      <th>sales(t)</th>\n      <th>store(t+1)</th>\n      <th>item(t+1)</th>\n      <th>sales(t+1)</th>\n    </tr>\n    <tr>\n      <th>date</th>\n      <th></th>\n      <th></th>\n      <th></th>\n      <th></th>\n      <th></th>\n      <th></th>\n      <th></th>\n      <th></th>\n      <th></th>\n      <th></th>\n      <th></th>\n      <th></th>\n      <th></th>\n      <th></th>\n      <th></th>\n      <th></th>\n      <th></th>\n      <th></th>\n      <th></th>\n      <th></th>\n      <th></th>\n    </tr>\n  </thead>\n  <tbody>\n    <tr>\n      <th>2017-02-04</th>\n      <td>1.0</td>\n      <td>1.0</td>\n      <td>24.0</td>\n      <td>1.0</td>\n      <td>1.0</td>\n      <td>14.0</td>\n      <td>1.0</td>\n      <td>1.0</td>\n      <td>20.0</td>\n      <td>1.0</td>\n      <td>...</td>\n      <td>17.0</td>\n      <td>1.0</td>\n      <td>1.0</td>\n      <td>24.0</td>\n      <td>1.0</td>\n      <td>1.0</td>\n      <td>25.0</td>\n      <td>1.0</td>\n      <td>1.0</td>\n      <td>21.096011</td>\n    </tr>\n    <tr>\n      <th>2017-02-05</th>\n      <td>1.0</td>\n      <td>1.0</td>\n      <td>14.0</td>\n      <td>1.0</td>\n      <td>1.0</td>\n      <td>20.0</td>\n      <td>1.0</td>\n      <td>1.0</td>\n      <td>18.0</td>\n      <td>1.0</td>\n      <td>...</td>\n      <td>24.0</td>\n      <td>1.0</td>\n      <td>1.0</td>\n      <td>25.0</td>\n      <td>1.0</td>\n      <td>1.0</td>\n      <td>25.0</td>\n      <td>1.0</td>\n      <td>1.0</td>\n      <td>13.703888</td>\n    </tr>\n    <tr>\n      <th>2017-02-06</th>\n      <td>1.0</td>\n      <td>1.0</td>\n      <td>20.0</td>\n      <td>1.0</td>\n      <td>1.0</td>\n      <td>18.0</td>\n      <td>1.0</td>\n      <td>1.0</td>\n      <td>11.0</td>\n      <td>1.0</td>\n      <td>...</td>\n      <td>25.0</td>\n      <td>1.0</td>\n      <td>1.0</td>\n      <td>25.0</td>\n      <td>1.0</td>\n      <td>1.0</td>\n      <td>16.0</td>\n      <td>1.0</td>\n      <td>1.0</td>\n      <td>16.679606</td>\n    </tr>\n    <tr>\n      <th>2017-02-07</th>\n      <td>1.0</td>\n      <td>1.0</td>\n      <td>18.0</td>\n      <td>1.0</td>\n      <td>1.0</td>\n      <td>11.0</td>\n      <td>1.0</td>\n      <td>1.0</td>\n      <td>14.0</td>\n      <td>1.0</td>\n      <td>...</td>\n      <td>25.0</td>\n      <td>1.0</td>\n      <td>1.0</td>\n      <td>16.0</td>\n      <td>1.0</td>\n      <td>1.0</td>\n      <td>12.0</td>\n      <td>1.0</td>\n      <td>1.0</td>\n      <td>16.504783</td>\n    </tr>\n    <tr>\n      <th>2017-02-08</th>\n      <td>1.0</td>\n      <td>1.0</td>\n      <td>11.0</td>\n      <td>1.0</td>\n      <td>1.0</td>\n      <td>14.0</td>\n      <td>1.0</td>\n      <td>1.0</td>\n      <td>17.0</td>\n      <td>1.0</td>\n      <td>...</td>\n      <td>16.0</td>\n      <td>1.0</td>\n      <td>1.0</td>\n      <td>12.0</td>\n      <td>1.0</td>\n      <td>1.0</td>\n      <td>20.0</td>\n      <td>1.0</td>\n      <td>1.0</td>\n      <td>17.714297</td>\n    </tr>\n    <tr>\n      <th>...</th>\n      <td>...</td>\n      <td>...</td>\n      <td>...</td>\n      <td>...</td>\n      <td>...</td>\n      <td>...</td>\n      <td>...</td>\n      <td>...</td>\n      <td>...</td>\n      <td>...</td>\n      <td>...</td>\n      <td>...</td>\n      <td>...</td>\n      <td>...</td>\n      <td>...</td>\n      <td>...</td>\n      <td>...</td>\n      <td>...</td>\n      <td>...</td>\n      <td>...</td>\n      <td>...</td>\n    </tr>\n    <tr>\n      <th>2017-12-26</th>\n      <td>10.0</td>\n      <td>50.0</td>\n      <td>75.0</td>\n      <td>10.0</td>\n      <td>50.0</td>\n      <td>68.0</td>\n      <td>10.0</td>\n      <td>50.0</td>\n      <td>76.0</td>\n      <td>10.0</td>\n      <td>...</td>\n      <td>76.0</td>\n      <td>10.0</td>\n      <td>50.0</td>\n      <td>51.0</td>\n      <td>10.0</td>\n      <td>50.0</td>\n      <td>41.0</td>\n      <td>10.0</td>\n      <td>50.0</td>\n      <td>56.160520</td>\n    </tr>\n    <tr>\n      <th>2017-12-27</th>\n      <td>10.0</td>\n      <td>50.0</td>\n      <td>68.0</td>\n      <td>10.0</td>\n      <td>50.0</td>\n      <td>76.0</td>\n      <td>10.0</td>\n      <td>50.0</td>\n      <td>73.0</td>\n      <td>10.0</td>\n      <td>...</td>\n      <td>51.0</td>\n      <td>10.0</td>\n      <td>50.0</td>\n      <td>41.0</td>\n      <td>10.0</td>\n      <td>50.0</td>\n      <td>63.0</td>\n      <td>10.0</td>\n      <td>50.0</td>\n      <td>63.754111</td>\n    </tr>\n    <tr>\n      <th>2017-12-28</th>\n      <td>10.0</td>\n      <td>50.0</td>\n      <td>76.0</td>\n      <td>10.0</td>\n      <td>50.0</td>\n      <td>73.0</td>\n      <td>10.0</td>\n      <td>50.0</td>\n      <td>66.0</td>\n      <td>10.0</td>\n      <td>...</td>\n      <td>41.0</td>\n      <td>10.0</td>\n      <td>50.0</td>\n      <td>63.0</td>\n      <td>10.0</td>\n      <td>50.0</td>\n      <td>59.0</td>\n      <td>10.0</td>\n      <td>50.0</td>\n      <td>67.669780</td>\n    </tr>\n    <tr>\n      <th>2017-12-29</th>\n      <td>10.0</td>\n      <td>50.0</td>\n      <td>73.0</td>\n      <td>10.0</td>\n      <td>50.0</td>\n      <td>66.0</td>\n      <td>10.0</td>\n      <td>50.0</td>\n      <td>49.0</td>\n      <td>10.0</td>\n      <td>...</td>\n      <td>63.0</td>\n      <td>10.0</td>\n      <td>50.0</td>\n      <td>59.0</td>\n      <td>10.0</td>\n      <td>50.0</td>\n      <td>74.0</td>\n      <td>10.0</td>\n      <td>50.0</td>\n      <td>71.785765</td>\n    </tr>\n    <tr>\n      <th>2017-12-30</th>\n      <td>10.0</td>\n      <td>50.0</td>\n      <td>66.0</td>\n      <td>10.0</td>\n      <td>50.0</td>\n      <td>49.0</td>\n      <td>10.0</td>\n      <td>50.0</td>\n      <td>75.0</td>\n      <td>10.0</td>\n      <td>...</td>\n      <td>59.0</td>\n      <td>10.0</td>\n      <td>50.0</td>\n      <td>74.0</td>\n      <td>10.0</td>\n      <td>50.0</td>\n      <td>62.0</td>\n      <td>10.0</td>\n      <td>50.0</td>\n      <td>74.827810</td>\n    </tr>\n  </tbody>\n</table>\n<p>165499 rows × 93 columns</p>\n</div>"
     },
     "execution_count": 55,
     "metadata": {},
     "output_type": "execute_result"
    }
   ],
   "source": [
    "pred_df = pd.DataFrame(eval_with_pred, columns=seq_eval_set.columns, index=seq_eval_set.index)\n",
    "pred_df"
   ],
   "metadata": {
    "collapsed": false,
    "pycharm": {
     "name": "#%%\n"
    }
   }
  },
  {
   "cell_type": "code",
   "execution_count": 51,
   "outputs": [],
   "source": [
    "# inv_yhat = scaler.inverse_transform(inv_yhat)\n",
    "# inv_yhat = inv_yhat[:,0]\n",
    "# # invert scaling for actual\n",
    "# test_y = test_y.reshape((len(test_y), 1))\n",
    "# inv_y = concatenate((test_y, test_X[:, -7:]), axis=1)\n",
    "# inv_y = scaler.inverse_transform(inv_y)\n",
    "# inv_y = inv_y[:,0]\n",
    "# # calculate RMSE\n",
    "# rmse = sqrt(mean_squared_error(inv_y, inv_yhat))\n",
    "# print('Test RMSE: %.3f' % rmse)"
   ],
   "metadata": {
    "collapsed": false,
    "pycharm": {
     "name": "#%%\n"
    }
   }
  },
  {
   "cell_type": "code",
   "execution_count": 56,
   "outputs": [],
   "source": [
    "# # LSTM Evaluation - SMAPE\n",
    "# lstm_pred = model_lstm.predict(X_valid_series)\n",
    "# lstm_smape = SMAPE(lstm_pred, Y_valid)"
   ],
   "metadata": {
    "collapsed": false,
    "pycharm": {
     "name": "#%%\n"
    }
   }
  },
  {
   "cell_type": "code",
   "execution_count": 57,
   "outputs": [],
   "source": [
    "# # LSTM Evaluation - MSE\n",
    "# lstm_mse = model_lstm.evaluate(X_valid_series, Y_valid)"
   ],
   "metadata": {
    "collapsed": false,
    "pycharm": {
     "name": "#%%\n"
    }
   }
  },
  {
   "cell_type": "code",
   "execution_count": 58,
   "outputs": [],
   "source": [
    "\n",
    "# unshaped_x_valid = X_valid_series.reshape(-1,conf['LSTM_PARAMS']['WIND'])"
   ],
   "metadata": {
    "collapsed": false,
    "pycharm": {
     "name": "#%%\n"
    }
   }
  },
  {
   "cell_type": "code",
   "execution_count": null,
   "outputs": [],
   "source": [
    "# forecast_set = series_to_supervised(train_set[-],\n",
    "#                                      index=conf['INDEX_COL'],\n",
    "#                                      target=conf['LABEL_COL'],\n",
    "#                                      categories=conf['CATEGORIES'],\n",
    "#                                      lookback=conf['LSTM_PARAMS']['LSTM_LOOKBACK'],\n",
    "#                                      lag=conf['LSTM_PARAMS']['LSTM_PREDICTION_LAG']\n",
    "#                                      )"
   ],
   "metadata": {
    "collapsed": false,
    "pycharm": {
     "name": "#%%\n"
    }
   }
  },
  {
   "cell_type": "markdown",
   "source": [],
   "metadata": {
    "collapsed": false,
    "pycharm": {
     "name": "#%% md\n"
    }
   }
  },
  {
   "cell_type": "code",
   "execution_count": null,
   "outputs": [],
   "source": [
    "# PREDICTING NEXT 90 DAYS"
   ],
   "metadata": {
    "collapsed": false,
    "pycharm": {
     "name": "#%%\n"
    }
   }
  },
  {
   "cell_type": "code",
   "execution_count": 88,
   "outputs": [
    {
     "data": {
      "text/plain": "            store  item  sales\ndate                          \n2017-09-02      1     1     26\n2017-09-03      1     1     23\n2017-09-04      1     1     12\n2017-09-05      1     1     26\n2017-09-06      1     1     24\n...           ...   ...    ...\n2017-12-27     10    50     63\n2017-12-28     10    50     59\n2017-12-29     10    50     74\n2017-12-30     10    50     62\n2017-12-31     10    50     82\n\n[60500 rows x 3 columns]",
      "text/html": "<div>\n<style scoped>\n    .dataframe tbody tr th:only-of-type {\n        vertical-align: middle;\n    }\n\n    .dataframe tbody tr th {\n        vertical-align: top;\n    }\n\n    .dataframe thead th {\n        text-align: right;\n    }\n</style>\n<table border=\"1\" class=\"dataframe\">\n  <thead>\n    <tr style=\"text-align: right;\">\n      <th></th>\n      <th>store</th>\n      <th>item</th>\n      <th>sales</th>\n    </tr>\n    <tr>\n      <th>date</th>\n      <th></th>\n      <th></th>\n      <th></th>\n    </tr>\n  </thead>\n  <tbody>\n    <tr>\n      <th>2017-09-02</th>\n      <td>1</td>\n      <td>1</td>\n      <td>26</td>\n    </tr>\n    <tr>\n      <th>2017-09-03</th>\n      <td>1</td>\n      <td>1</td>\n      <td>23</td>\n    </tr>\n    <tr>\n      <th>2017-09-04</th>\n      <td>1</td>\n      <td>1</td>\n      <td>12</td>\n    </tr>\n    <tr>\n      <th>2017-09-05</th>\n      <td>1</td>\n      <td>1</td>\n      <td>26</td>\n    </tr>\n    <tr>\n      <th>2017-09-06</th>\n      <td>1</td>\n      <td>1</td>\n      <td>24</td>\n    </tr>\n    <tr>\n      <th>...</th>\n      <td>...</td>\n      <td>...</td>\n      <td>...</td>\n    </tr>\n    <tr>\n      <th>2017-12-27</th>\n      <td>10</td>\n      <td>50</td>\n      <td>63</td>\n    </tr>\n    <tr>\n      <th>2017-12-28</th>\n      <td>10</td>\n      <td>50</td>\n      <td>59</td>\n    </tr>\n    <tr>\n      <th>2017-12-29</th>\n      <td>10</td>\n      <td>50</td>\n      <td>74</td>\n    </tr>\n    <tr>\n      <th>2017-12-30</th>\n      <td>10</td>\n      <td>50</td>\n      <td>62</td>\n    </tr>\n    <tr>\n      <th>2017-12-31</th>\n      <td>10</td>\n      <td>50</td>\n      <td>82</td>\n    </tr>\n  </tbody>\n</table>\n<p>60500 rows × 3 columns</p>\n</div>"
     },
     "execution_count": 88,
     "metadata": {},
     "output_type": "execute_result"
    }
   ],
   "source": [
    "# Get last n days of data for each item store to create first data point to predict\n",
    "# This predicted data point will be added to previous 30-i records to create prediction sequence for next ith label\n",
    "till_n_set, from_n_set = category_wise_split_train_eval(train, conf['CATEGORIES'], eval_len=(120+1))\n",
    "from_n_set"
   ],
   "metadata": {
    "collapsed": false,
    "pycharm": {
     "name": "#%%\n"
    }
   }
  },
  {
   "cell_type": "code",
   "execution_count": 89,
   "outputs": [],
   "source": [
    "ith_prediction_row = series_to_supervised(from_n_set,\n",
    "                                     index=conf['INDEX_COL'],\n",
    "                                     target=conf['LABEL_COL'],\n",
    "                                     categories=conf['CATEGORIES'],\n",
    "                                     lookback=conf['LSTM_PARAMS']['LSTM_LOOKBACK'],\n",
    "                                     lag=conf['LSTM_PARAMS']['LSTM_PREDICTION_LAG']\n",
    "                                     )"
   ],
   "metadata": {
    "collapsed": false,
    "pycharm": {
     "name": "#%%\n"
    }
   }
  },
  {
   "cell_type": "code",
   "execution_count": 90,
   "outputs": [
    {
     "data": {
      "text/plain": "            store(t-29)  item(t-29)  sales(t-29)  store(t-28)  item(t-28)  \\\ndate                                                                        \n2017-10-01          1.0         1.0         26.0          1.0         1.0   \n2017-10-02          1.0         1.0         23.0          1.0         1.0   \n2017-10-03          1.0         1.0         12.0          1.0         1.0   \n2017-10-04          1.0         1.0         26.0          1.0         1.0   \n2017-10-05          1.0         1.0         24.0          1.0         1.0   \n...                 ...         ...          ...          ...         ...   \n2017-12-26         10.0        50.0         75.0         10.0        50.0   \n2017-12-27         10.0        50.0         68.0         10.0        50.0   \n2017-12-28         10.0        50.0         76.0         10.0        50.0   \n2017-12-29         10.0        50.0         73.0         10.0        50.0   \n2017-12-30         10.0        50.0         66.0         10.0        50.0   \n\n            sales(t-28)  store(t-27)  item(t-27)  sales(t-27)  store(t-26)  \\\ndate                                                                         \n2017-10-01         23.0          1.0         1.0         12.0          1.0   \n2017-10-02         12.0          1.0         1.0         26.0          1.0   \n2017-10-03         26.0          1.0         1.0         24.0          1.0   \n2017-10-04         24.0          1.0         1.0         29.0          1.0   \n2017-10-05         29.0          1.0         1.0         28.0          1.0   \n...                 ...          ...         ...          ...          ...   \n2017-12-26         68.0         10.0        50.0         76.0         10.0   \n2017-12-27         76.0         10.0        50.0         73.0         10.0   \n2017-12-28         73.0         10.0        50.0         66.0         10.0   \n2017-12-29         66.0         10.0        50.0         49.0         10.0   \n2017-12-30         49.0         10.0        50.0         75.0         10.0   \n\n            ...  sales(t-2)  store(t-1)  item(t-1)  sales(t-1)  store(t)  \\\ndate        ...                                                            \n2017-10-01  ...        28.0         1.0        1.0        30.0         1   \n2017-10-02  ...        30.0         1.0        1.0        21.0         1   \n2017-10-03  ...        21.0         1.0        1.0        12.0         1   \n2017-10-04  ...        12.0         1.0        1.0        18.0         1   \n2017-10-05  ...        18.0         1.0        1.0        15.0         1   \n...         ...         ...         ...        ...         ...       ...   \n2017-12-26  ...        76.0        10.0       50.0        51.0        10   \n2017-12-27  ...        51.0        10.0       50.0        41.0        10   \n2017-12-28  ...        41.0        10.0       50.0        63.0        10   \n2017-12-29  ...        63.0        10.0       50.0        59.0        10   \n2017-12-30  ...        59.0        10.0       50.0        74.0        10   \n\n            item(t)  sales(t)  store(t+1)  item(t+1)  sales(t+1)  \ndate                                                              \n2017-10-01        1        21         1.0        1.0        12.0  \n2017-10-02        1        12         1.0        1.0        18.0  \n2017-10-03        1        18         1.0        1.0        15.0  \n2017-10-04        1        15         1.0        1.0        20.0  \n2017-10-05        1        20         1.0        1.0        19.0  \n...             ...       ...         ...        ...         ...  \n2017-12-26       50        41        10.0       50.0        63.0  \n2017-12-27       50        63        10.0       50.0        59.0  \n2017-12-28       50        59        10.0       50.0        74.0  \n2017-12-29       50        74        10.0       50.0        62.0  \n2017-12-30       50        62        10.0       50.0        82.0  \n\n[45500 rows x 93 columns]",
      "text/html": "<div>\n<style scoped>\n    .dataframe tbody tr th:only-of-type {\n        vertical-align: middle;\n    }\n\n    .dataframe tbody tr th {\n        vertical-align: top;\n    }\n\n    .dataframe thead th {\n        text-align: right;\n    }\n</style>\n<table border=\"1\" class=\"dataframe\">\n  <thead>\n    <tr style=\"text-align: right;\">\n      <th></th>\n      <th>store(t-29)</th>\n      <th>item(t-29)</th>\n      <th>sales(t-29)</th>\n      <th>store(t-28)</th>\n      <th>item(t-28)</th>\n      <th>sales(t-28)</th>\n      <th>store(t-27)</th>\n      <th>item(t-27)</th>\n      <th>sales(t-27)</th>\n      <th>store(t-26)</th>\n      <th>...</th>\n      <th>sales(t-2)</th>\n      <th>store(t-1)</th>\n      <th>item(t-1)</th>\n      <th>sales(t-1)</th>\n      <th>store(t)</th>\n      <th>item(t)</th>\n      <th>sales(t)</th>\n      <th>store(t+1)</th>\n      <th>item(t+1)</th>\n      <th>sales(t+1)</th>\n    </tr>\n    <tr>\n      <th>date</th>\n      <th></th>\n      <th></th>\n      <th></th>\n      <th></th>\n      <th></th>\n      <th></th>\n      <th></th>\n      <th></th>\n      <th></th>\n      <th></th>\n      <th></th>\n      <th></th>\n      <th></th>\n      <th></th>\n      <th></th>\n      <th></th>\n      <th></th>\n      <th></th>\n      <th></th>\n      <th></th>\n      <th></th>\n    </tr>\n  </thead>\n  <tbody>\n    <tr>\n      <th>2017-10-01</th>\n      <td>1.0</td>\n      <td>1.0</td>\n      <td>26.0</td>\n      <td>1.0</td>\n      <td>1.0</td>\n      <td>23.0</td>\n      <td>1.0</td>\n      <td>1.0</td>\n      <td>12.0</td>\n      <td>1.0</td>\n      <td>...</td>\n      <td>28.0</td>\n      <td>1.0</td>\n      <td>1.0</td>\n      <td>30.0</td>\n      <td>1</td>\n      <td>1</td>\n      <td>21</td>\n      <td>1.0</td>\n      <td>1.0</td>\n      <td>12.0</td>\n    </tr>\n    <tr>\n      <th>2017-10-02</th>\n      <td>1.0</td>\n      <td>1.0</td>\n      <td>23.0</td>\n      <td>1.0</td>\n      <td>1.0</td>\n      <td>12.0</td>\n      <td>1.0</td>\n      <td>1.0</td>\n      <td>26.0</td>\n      <td>1.0</td>\n      <td>...</td>\n      <td>30.0</td>\n      <td>1.0</td>\n      <td>1.0</td>\n      <td>21.0</td>\n      <td>1</td>\n      <td>1</td>\n      <td>12</td>\n      <td>1.0</td>\n      <td>1.0</td>\n      <td>18.0</td>\n    </tr>\n    <tr>\n      <th>2017-10-03</th>\n      <td>1.0</td>\n      <td>1.0</td>\n      <td>12.0</td>\n      <td>1.0</td>\n      <td>1.0</td>\n      <td>26.0</td>\n      <td>1.0</td>\n      <td>1.0</td>\n      <td>24.0</td>\n      <td>1.0</td>\n      <td>...</td>\n      <td>21.0</td>\n      <td>1.0</td>\n      <td>1.0</td>\n      <td>12.0</td>\n      <td>1</td>\n      <td>1</td>\n      <td>18</td>\n      <td>1.0</td>\n      <td>1.0</td>\n      <td>15.0</td>\n    </tr>\n    <tr>\n      <th>2017-10-04</th>\n      <td>1.0</td>\n      <td>1.0</td>\n      <td>26.0</td>\n      <td>1.0</td>\n      <td>1.0</td>\n      <td>24.0</td>\n      <td>1.0</td>\n      <td>1.0</td>\n      <td>29.0</td>\n      <td>1.0</td>\n      <td>...</td>\n      <td>12.0</td>\n      <td>1.0</td>\n      <td>1.0</td>\n      <td>18.0</td>\n      <td>1</td>\n      <td>1</td>\n      <td>15</td>\n      <td>1.0</td>\n      <td>1.0</td>\n      <td>20.0</td>\n    </tr>\n    <tr>\n      <th>2017-10-05</th>\n      <td>1.0</td>\n      <td>1.0</td>\n      <td>24.0</td>\n      <td>1.0</td>\n      <td>1.0</td>\n      <td>29.0</td>\n      <td>1.0</td>\n      <td>1.0</td>\n      <td>28.0</td>\n      <td>1.0</td>\n      <td>...</td>\n      <td>18.0</td>\n      <td>1.0</td>\n      <td>1.0</td>\n      <td>15.0</td>\n      <td>1</td>\n      <td>1</td>\n      <td>20</td>\n      <td>1.0</td>\n      <td>1.0</td>\n      <td>19.0</td>\n    </tr>\n    <tr>\n      <th>...</th>\n      <td>...</td>\n      <td>...</td>\n      <td>...</td>\n      <td>...</td>\n      <td>...</td>\n      <td>...</td>\n      <td>...</td>\n      <td>...</td>\n      <td>...</td>\n      <td>...</td>\n      <td>...</td>\n      <td>...</td>\n      <td>...</td>\n      <td>...</td>\n      <td>...</td>\n      <td>...</td>\n      <td>...</td>\n      <td>...</td>\n      <td>...</td>\n      <td>...</td>\n      <td>...</td>\n    </tr>\n    <tr>\n      <th>2017-12-26</th>\n      <td>10.0</td>\n      <td>50.0</td>\n      <td>75.0</td>\n      <td>10.0</td>\n      <td>50.0</td>\n      <td>68.0</td>\n      <td>10.0</td>\n      <td>50.0</td>\n      <td>76.0</td>\n      <td>10.0</td>\n      <td>...</td>\n      <td>76.0</td>\n      <td>10.0</td>\n      <td>50.0</td>\n      <td>51.0</td>\n      <td>10</td>\n      <td>50</td>\n      <td>41</td>\n      <td>10.0</td>\n      <td>50.0</td>\n      <td>63.0</td>\n    </tr>\n    <tr>\n      <th>2017-12-27</th>\n      <td>10.0</td>\n      <td>50.0</td>\n      <td>68.0</td>\n      <td>10.0</td>\n      <td>50.0</td>\n      <td>76.0</td>\n      <td>10.0</td>\n      <td>50.0</td>\n      <td>73.0</td>\n      <td>10.0</td>\n      <td>...</td>\n      <td>51.0</td>\n      <td>10.0</td>\n      <td>50.0</td>\n      <td>41.0</td>\n      <td>10</td>\n      <td>50</td>\n      <td>63</td>\n      <td>10.0</td>\n      <td>50.0</td>\n      <td>59.0</td>\n    </tr>\n    <tr>\n      <th>2017-12-28</th>\n      <td>10.0</td>\n      <td>50.0</td>\n      <td>76.0</td>\n      <td>10.0</td>\n      <td>50.0</td>\n      <td>73.0</td>\n      <td>10.0</td>\n      <td>50.0</td>\n      <td>66.0</td>\n      <td>10.0</td>\n      <td>...</td>\n      <td>41.0</td>\n      <td>10.0</td>\n      <td>50.0</td>\n      <td>63.0</td>\n      <td>10</td>\n      <td>50</td>\n      <td>59</td>\n      <td>10.0</td>\n      <td>50.0</td>\n      <td>74.0</td>\n    </tr>\n    <tr>\n      <th>2017-12-29</th>\n      <td>10.0</td>\n      <td>50.0</td>\n      <td>73.0</td>\n      <td>10.0</td>\n      <td>50.0</td>\n      <td>66.0</td>\n      <td>10.0</td>\n      <td>50.0</td>\n      <td>49.0</td>\n      <td>10.0</td>\n      <td>...</td>\n      <td>63.0</td>\n      <td>10.0</td>\n      <td>50.0</td>\n      <td>59.0</td>\n      <td>10</td>\n      <td>50</td>\n      <td>74</td>\n      <td>10.0</td>\n      <td>50.0</td>\n      <td>62.0</td>\n    </tr>\n    <tr>\n      <th>2017-12-30</th>\n      <td>10.0</td>\n      <td>50.0</td>\n      <td>66.0</td>\n      <td>10.0</td>\n      <td>50.0</td>\n      <td>49.0</td>\n      <td>10.0</td>\n      <td>50.0</td>\n      <td>75.0</td>\n      <td>10.0</td>\n      <td>...</td>\n      <td>59.0</td>\n      <td>10.0</td>\n      <td>50.0</td>\n      <td>74.0</td>\n      <td>10</td>\n      <td>50</td>\n      <td>62</td>\n      <td>10.0</td>\n      <td>50.0</td>\n      <td>82.0</td>\n    </tr>\n  </tbody>\n</table>\n<p>45500 rows × 93 columns</p>\n</div>"
     },
     "execution_count": 90,
     "metadata": {},
     "output_type": "execute_result"
    }
   ],
   "source": [
    "ith_prediction_row"
   ],
   "metadata": {
    "collapsed": false,
    "pycharm": {
     "name": "#%%\n"
    }
   }
  },
  {
   "cell_type": "code",
   "execution_count": null,
   "outputs": [],
   "source": [],
   "metadata": {
    "collapsed": false,
    "pycharm": {
     "name": "#%%\n"
    }
   }
  },
  {
   "cell_type": "code",
   "execution_count": null,
   "outputs": [],
   "source": [],
   "metadata": {
    "collapsed": false,
    "pycharm": {
     "name": "#%%\n"
    }
   }
  },
  {
   "cell_type": "code",
   "execution_count": null,
   "outputs": [],
   "source": [],
   "metadata": {
    "collapsed": false,
    "pycharm": {
     "name": "#%%\n"
    }
   }
  },
  {
   "cell_type": "markdown",
   "source": [
    "<h1> XGBoost </h1>"
   ],
   "metadata": {
    "collapsed": false,
    "pycharm": {
     "name": "#%% md\n"
    }
   }
  },
  {
   "cell_type": "code",
   "execution_count": 26,
   "outputs": [
    {
     "name": "stderr",
     "output_type": "stream",
     "text": [
      "C:\\Users\\yashc\\AppData\\Local\\Temp\\ipykernel_20440\\4087673004.py:9: FutureWarning: Series.dt.weekofyear and Series.dt.week have been deprecated. Please use Series.dt.isocalendar().week instead.\n",
      "  data['weekofyear'] = data[date_col].dt.weekofyear\n"
     ]
    }
   ],
   "source": [
    "xgb_data = xgboost_data_preprocessing(preprocessed_data, conf['INDEX_COL'])"
   ],
   "metadata": {
    "collapsed": false,
    "pycharm": {
     "name": "#%%\n"
    }
   }
  },
  {
   "cell_type": "code",
   "execution_count": 27,
   "outputs": [],
   "source": [
    "# Preprocess data to perform aggregation\n",
    "xgb_train_x, xgb_test_x, xgb_train_y, xgb_test_y = train_test_split(\n",
    "    xgb_data.drop([f'{conf[\"INDEX_COL\"]}', f'{conf[\"LABEL_COL\"]}'],axis=1),\n",
    "    xgb_data[conf[\"LABEL_COL\"]],\n",
    "    test_size=0.2\n",
    ")"
   ],
   "metadata": {
    "collapsed": false,
    "pycharm": {
     "name": "#%%\n"
    }
   }
  },
  {
   "cell_type": "code",
   "execution_count": 28,
   "outputs": [],
   "source": [
    "# Train XGBoost model\n",
    "xgb_model, xgb_test_data = xboost(conf['XGB_PARAMS'],\n",
    "                                  MODEL_DIR,\n",
    "                                  xgb_train_x,\n",
    "                                  xgb_train_y,\n",
    "                                  xgb_test_x,\n",
    "                                  xgb_test_y,\n",
    "                                  training_req=0\n",
    "                                  )"
   ],
   "metadata": {
    "collapsed": false,
    "pycharm": {
     "name": "#%%\n"
    }
   }
  },
  {
   "cell_type": "code",
   "execution_count": 29,
   "outputs": [],
   "source": [
    "# Get predictions from XGBoost model\n",
    "xgb_predictions = pd.Series(xgb_model.predict(xgb_test_data))\n",
    "\n",
    "# Transform predictions and actual data for SMAPE\n",
    "xgb_predictions_reshaped = np.array(xgb_predictions).reshape(len(xgb_predictions),1)\n",
    "xgb_test_y_reshaped = np.array(xgb_test_y).reshape(len(xgb_test_y),1)"
   ],
   "metadata": {
    "collapsed": false,
    "pycharm": {
     "name": "#%%\n"
    }
   }
  },
  {
   "cell_type": "code",
   "execution_count": 30,
   "outputs": [
    {
     "name": "stdout",
     "output_type": "stream",
     "text": [
      "SMAPE Error Score: 15.27 %\n"
     ]
    }
   ],
   "source": [
    "# Get SMAPE for XGBoost\n",
    "xgb_smape = SMAPE(xgb_predictions_reshaped, xgb_test_y_reshaped)"
   ],
   "metadata": {
    "collapsed": false,
    "pycharm": {
     "name": "#%%\n"
    }
   }
  },
  {
   "cell_type": "code",
   "execution_count": 31,
   "outputs": [],
   "source": [
    "# MSE Computation\n",
    "xgb_mse = MSE(xgb_test_y_reshaped, xgb_predictions_reshaped)"
   ],
   "metadata": {
    "collapsed": false,
    "pycharm": {
     "name": "#%%\n"
    }
   }
  },
  {
   "cell_type": "code",
   "execution_count": null,
   "outputs": [],
   "source": [],
   "metadata": {
    "collapsed": false,
    "pycharm": {
     "name": "#%%\n"
    }
   }
  },
  {
   "cell_type": "code",
   "execution_count": null,
   "outputs": [],
   "source": [],
   "metadata": {
    "collapsed": false,
    "pycharm": {
     "name": "#%%\n"
    }
   }
  },
  {
   "cell_type": "code",
   "execution_count": null,
   "outputs": [],
   "source": [],
   "metadata": {
    "collapsed": false,
    "pycharm": {
     "name": "#%%\n"
    }
   }
  },
  {
   "cell_type": "markdown",
   "source": [
    "<h1> Comparing the models' metrics </h1>"
   ],
   "metadata": {
    "collapsed": false,
    "pycharm": {
     "name": "#%% md\n"
    }
   }
  },
  {
   "cell_type": "code",
   "execution_count": 32,
   "outputs": [
    {
     "name": "stdout",
     "output_type": "stream",
     "text": [
      "XGB SMAPE- 15.27%\n",
      "LSTM SMAPE- 28.37%\n",
      "XGB MSE- 68.24\n",
      "LSTM MSE- 334.85\n"
     ]
    }
   ],
   "source": [
    "print(f'XGB SMAPE- {xgb_smape}%')\n",
    "print(f'LSTM SMAPE- {lstm_smape}%')\n",
    "\n",
    "print(f'XGB MSE- {xgb_mse:.2f}')\n",
    "print(f'LSTM MSE- {lstm_mse:.2f}')"
   ],
   "metadata": {
    "collapsed": false,
    "pycharm": {
     "name": "#%%\n"
    }
   }
  },
  {
   "cell_type": "code",
   "execution_count": 33,
   "outputs": [
    {
     "data": {
      "text/plain": "array([[25., 30., 16., 21., 21., 23., 26., 18., 29., 24., 21., 15., 23.,\n        25., 22., 30., 20., 32., 25., 22., 35., 30., 44., 21., 22., 21.,\n        23., 31., 36., 29.]])"
     },
     "execution_count": 33,
     "metadata": {},
     "output_type": "execute_result"
    }
   ],
   "source": [
    "X_valid_series[0].transpose()"
   ],
   "metadata": {
    "collapsed": false,
    "pycharm": {
     "name": "#%%\n"
    }
   }
  },
  {
   "cell_type": "code",
   "execution_count": 34,
   "outputs": [
    {
     "data": {
      "text/plain": "35.0"
     },
     "execution_count": 34,
     "metadata": {},
     "output_type": "execute_result"
    }
   ],
   "source": [
    "Y_valid[0]"
   ],
   "metadata": {
    "collapsed": false,
    "pycharm": {
     "name": "#%%\n"
    }
   }
  },
  {
   "cell_type": "code",
   "execution_count": 35,
   "outputs": [
    {
     "data": {
      "text/plain": "        item  store       date  sales\n0          1      1 2013-01-01   13.0\n1          1      1 2013-01-02   11.0\n2          1      1 2013-01-03   14.0\n3          1      1 2013-01-04   13.0\n4          1      1 2013-01-05   10.0\n...      ...    ...        ...    ...\n912995    50     10 2017-12-27   63.0\n912996    50     10 2017-12-28   59.0\n912997    50     10 2017-12-29   74.0\n912998    50     10 2017-12-30   62.0\n912999    50     10 2017-12-31   82.0\n\n[913000 rows x 4 columns]",
      "text/html": "<div>\n<style scoped>\n    .dataframe tbody tr th:only-of-type {\n        vertical-align: middle;\n    }\n\n    .dataframe tbody tr th {\n        vertical-align: top;\n    }\n\n    .dataframe thead th {\n        text-align: right;\n    }\n</style>\n<table border=\"1\" class=\"dataframe\">\n  <thead>\n    <tr style=\"text-align: right;\">\n      <th></th>\n      <th>item</th>\n      <th>store</th>\n      <th>date</th>\n      <th>sales</th>\n    </tr>\n  </thead>\n  <tbody>\n    <tr>\n      <th>0</th>\n      <td>1</td>\n      <td>1</td>\n      <td>2013-01-01</td>\n      <td>13.0</td>\n    </tr>\n    <tr>\n      <th>1</th>\n      <td>1</td>\n      <td>1</td>\n      <td>2013-01-02</td>\n      <td>11.0</td>\n    </tr>\n    <tr>\n      <th>2</th>\n      <td>1</td>\n      <td>1</td>\n      <td>2013-01-03</td>\n      <td>14.0</td>\n    </tr>\n    <tr>\n      <th>3</th>\n      <td>1</td>\n      <td>1</td>\n      <td>2013-01-04</td>\n      <td>13.0</td>\n    </tr>\n    <tr>\n      <th>4</th>\n      <td>1</td>\n      <td>1</td>\n      <td>2013-01-05</td>\n      <td>10.0</td>\n    </tr>\n    <tr>\n      <th>...</th>\n      <td>...</td>\n      <td>...</td>\n      <td>...</td>\n      <td>...</td>\n    </tr>\n    <tr>\n      <th>912995</th>\n      <td>50</td>\n      <td>10</td>\n      <td>2017-12-27</td>\n      <td>63.0</td>\n    </tr>\n    <tr>\n      <th>912996</th>\n      <td>50</td>\n      <td>10</td>\n      <td>2017-12-28</td>\n      <td>59.0</td>\n    </tr>\n    <tr>\n      <th>912997</th>\n      <td>50</td>\n      <td>10</td>\n      <td>2017-12-29</td>\n      <td>74.0</td>\n    </tr>\n    <tr>\n      <th>912998</th>\n      <td>50</td>\n      <td>10</td>\n      <td>2017-12-30</td>\n      <td>62.0</td>\n    </tr>\n    <tr>\n      <th>912999</th>\n      <td>50</td>\n      <td>10</td>\n      <td>2017-12-31</td>\n      <td>82.0</td>\n    </tr>\n  </tbody>\n</table>\n<p>913000 rows × 4 columns</p>\n</div>"
     },
     "execution_count": 35,
     "metadata": {},
     "output_type": "execute_result"
    }
   ],
   "source": [
    "preprocessed_data"
   ],
   "metadata": {
    "collapsed": false,
    "pycharm": {
     "name": "#%%\n"
    }
   }
  },
  {
   "cell_type": "code",
   "execution_count": 36,
   "outputs": [
    {
     "data": {
      "text/plain": "        item  store       date  sales\n912970    50     10 2017-12-02   49.0\n912971    50     10 2017-12-03   75.0\n912972    50     10 2017-12-04   54.0\n912973    50     10 2017-12-05   68.0\n912974    50     10 2017-12-06   60.0\n912975    50     10 2017-12-07   66.0\n912976    50     10 2017-12-08   67.0\n912977    50     10 2017-12-09   69.0\n912978    50     10 2017-12-10   69.0\n912979    50     10 2017-12-11   54.0\n912980    50     10 2017-12-12   67.0\n912981    50     10 2017-12-13   67.0\n912982    50     10 2017-12-14   72.0\n912983    50     10 2017-12-15   72.0\n912984    50     10 2017-12-16   52.0\n912985    50     10 2017-12-17   86.0\n912986    50     10 2017-12-18   53.0\n912987    50     10 2017-12-19   54.0\n912988    50     10 2017-12-20   51.0\n912989    50     10 2017-12-21   63.0\n912990    50     10 2017-12-22   75.0\n912991    50     10 2017-12-23   70.0\n912992    50     10 2017-12-24   76.0\n912993    50     10 2017-12-25   51.0\n912994    50     10 2017-12-26   41.0\n912995    50     10 2017-12-27   63.0\n912996    50     10 2017-12-28   59.0\n912997    50     10 2017-12-29   74.0\n912998    50     10 2017-12-30   62.0\n912999    50     10 2017-12-31   82.0",
      "text/html": "<div>\n<style scoped>\n    .dataframe tbody tr th:only-of-type {\n        vertical-align: middle;\n    }\n\n    .dataframe tbody tr th {\n        vertical-align: top;\n    }\n\n    .dataframe thead th {\n        text-align: right;\n    }\n</style>\n<table border=\"1\" class=\"dataframe\">\n  <thead>\n    <tr style=\"text-align: right;\">\n      <th></th>\n      <th>item</th>\n      <th>store</th>\n      <th>date</th>\n      <th>sales</th>\n    </tr>\n  </thead>\n  <tbody>\n    <tr>\n      <th>912970</th>\n      <td>50</td>\n      <td>10</td>\n      <td>2017-12-02</td>\n      <td>49.0</td>\n    </tr>\n    <tr>\n      <th>912971</th>\n      <td>50</td>\n      <td>10</td>\n      <td>2017-12-03</td>\n      <td>75.0</td>\n    </tr>\n    <tr>\n      <th>912972</th>\n      <td>50</td>\n      <td>10</td>\n      <td>2017-12-04</td>\n      <td>54.0</td>\n    </tr>\n    <tr>\n      <th>912973</th>\n      <td>50</td>\n      <td>10</td>\n      <td>2017-12-05</td>\n      <td>68.0</td>\n    </tr>\n    <tr>\n      <th>912974</th>\n      <td>50</td>\n      <td>10</td>\n      <td>2017-12-06</td>\n      <td>60.0</td>\n    </tr>\n    <tr>\n      <th>912975</th>\n      <td>50</td>\n      <td>10</td>\n      <td>2017-12-07</td>\n      <td>66.0</td>\n    </tr>\n    <tr>\n      <th>912976</th>\n      <td>50</td>\n      <td>10</td>\n      <td>2017-12-08</td>\n      <td>67.0</td>\n    </tr>\n    <tr>\n      <th>912977</th>\n      <td>50</td>\n      <td>10</td>\n      <td>2017-12-09</td>\n      <td>69.0</td>\n    </tr>\n    <tr>\n      <th>912978</th>\n      <td>50</td>\n      <td>10</td>\n      <td>2017-12-10</td>\n      <td>69.0</td>\n    </tr>\n    <tr>\n      <th>912979</th>\n      <td>50</td>\n      <td>10</td>\n      <td>2017-12-11</td>\n      <td>54.0</td>\n    </tr>\n    <tr>\n      <th>912980</th>\n      <td>50</td>\n      <td>10</td>\n      <td>2017-12-12</td>\n      <td>67.0</td>\n    </tr>\n    <tr>\n      <th>912981</th>\n      <td>50</td>\n      <td>10</td>\n      <td>2017-12-13</td>\n      <td>67.0</td>\n    </tr>\n    <tr>\n      <th>912982</th>\n      <td>50</td>\n      <td>10</td>\n      <td>2017-12-14</td>\n      <td>72.0</td>\n    </tr>\n    <tr>\n      <th>912983</th>\n      <td>50</td>\n      <td>10</td>\n      <td>2017-12-15</td>\n      <td>72.0</td>\n    </tr>\n    <tr>\n      <th>912984</th>\n      <td>50</td>\n      <td>10</td>\n      <td>2017-12-16</td>\n      <td>52.0</td>\n    </tr>\n    <tr>\n      <th>912985</th>\n      <td>50</td>\n      <td>10</td>\n      <td>2017-12-17</td>\n      <td>86.0</td>\n    </tr>\n    <tr>\n      <th>912986</th>\n      <td>50</td>\n      <td>10</td>\n      <td>2017-12-18</td>\n      <td>53.0</td>\n    </tr>\n    <tr>\n      <th>912987</th>\n      <td>50</td>\n      <td>10</td>\n      <td>2017-12-19</td>\n      <td>54.0</td>\n    </tr>\n    <tr>\n      <th>912988</th>\n      <td>50</td>\n      <td>10</td>\n      <td>2017-12-20</td>\n      <td>51.0</td>\n    </tr>\n    <tr>\n      <th>912989</th>\n      <td>50</td>\n      <td>10</td>\n      <td>2017-12-21</td>\n      <td>63.0</td>\n    </tr>\n    <tr>\n      <th>912990</th>\n      <td>50</td>\n      <td>10</td>\n      <td>2017-12-22</td>\n      <td>75.0</td>\n    </tr>\n    <tr>\n      <th>912991</th>\n      <td>50</td>\n      <td>10</td>\n      <td>2017-12-23</td>\n      <td>70.0</td>\n    </tr>\n    <tr>\n      <th>912992</th>\n      <td>50</td>\n      <td>10</td>\n      <td>2017-12-24</td>\n      <td>76.0</td>\n    </tr>\n    <tr>\n      <th>912993</th>\n      <td>50</td>\n      <td>10</td>\n      <td>2017-12-25</td>\n      <td>51.0</td>\n    </tr>\n    <tr>\n      <th>912994</th>\n      <td>50</td>\n      <td>10</td>\n      <td>2017-12-26</td>\n      <td>41.0</td>\n    </tr>\n    <tr>\n      <th>912995</th>\n      <td>50</td>\n      <td>10</td>\n      <td>2017-12-27</td>\n      <td>63.0</td>\n    </tr>\n    <tr>\n      <th>912996</th>\n      <td>50</td>\n      <td>10</td>\n      <td>2017-12-28</td>\n      <td>59.0</td>\n    </tr>\n    <tr>\n      <th>912997</th>\n      <td>50</td>\n      <td>10</td>\n      <td>2017-12-29</td>\n      <td>74.0</td>\n    </tr>\n    <tr>\n      <th>912998</th>\n      <td>50</td>\n      <td>10</td>\n      <td>2017-12-30</td>\n      <td>62.0</td>\n    </tr>\n    <tr>\n      <th>912999</th>\n      <td>50</td>\n      <td>10</td>\n      <td>2017-12-31</td>\n      <td>82.0</td>\n    </tr>\n  </tbody>\n</table>\n</div>"
     },
     "execution_count": 36,
     "metadata": {},
     "output_type": "execute_result"
    }
   ],
   "source": [
    "preprocessed_data.iloc[-30:]"
   ],
   "metadata": {
    "collapsed": false,
    "pycharm": {
     "name": "#%%\n"
    }
   }
  },
  {
   "cell_type": "code",
   "execution_count": 36,
   "outputs": [],
   "source": [],
   "metadata": {
    "collapsed": false,
    "pycharm": {
     "name": "#%%\n"
    }
   }
  }
 ],
 "metadata": {
  "kernelspec": {
   "display_name": "Python 3",
   "language": "python",
   "name": "python3"
  },
  "language_info": {
   "codemirror_mode": {
    "name": "ipython",
    "version": 2
   },
   "file_extension": ".py",
   "mimetype": "text/x-python",
   "name": "python",
   "nbconvert_exporter": "python",
   "pygments_lexer": "ipython2",
   "version": "2.7.6"
  }
 },
 "nbformat": 4,
 "nbformat_minor": 0
}