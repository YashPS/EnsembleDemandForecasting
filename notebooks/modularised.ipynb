{
 "cells": [
  {
   "cell_type": "code",
   "execution_count": 28,
   "metadata": {
    "collapsed": true,
    "pycharm": {
     "name": "#%%\n"
    }
   },
   "outputs": [],
   "source": [
    "\n",
    "import os\n",
    "import pickle\n",
    "from copy import deepcopy\n",
    "from datetime import datetime\n",
    "from os import listdir\n",
    "\n",
    "import joblib\n",
    "import matplotlib.pyplot as plt\n",
    "import numpy as np\n",
    "import pandas as pd\n",
    "import xgboost as xgb\n",
    "import yaml\n",
    "from keras import models\n",
    "from keras import optimizers\n",
    "from keras.callbacks import EarlyStopping\n",
    "from keras.layers import Dense, LSTM\n",
    "from keras.models import Sequential\n",
    "from sklearn.metrics import mean_squared_error as MSE\n",
    "from sklearn.model_selection import train_test_split\n",
    "from sklearn.preprocessing import StandardScaler\n",
    "from statsmodels.tsa.stattools import adfuller"
   ]
  },
  {
   "cell_type": "code",
   "execution_count": 29,
   "metadata": {
    "collapsed": false,
    "pycharm": {
     "name": "#%%\n"
    }
   },
   "outputs": [],
   "source": [
    "# MAIN_DIR = '\\\\'.join(os.getcwd().split('\\\\')[:-1])\n",
    "# RAW_DATA_DIR = MAIN_DIR+'\\\\data\\\\raw\\\\store_item\\\\'\n",
    "# PROCESSED_DATA_DIR = MAIN_DIR+'\\\\data\\\\processed\\\\'\n",
    "# MODEL_DIR = MAIN_DIR + '\\\\models\\\\'\n",
    "# OBJECTS_DIR = MAIN_DIR + '\\\\objects\\\\'\n",
    "# CONFIGS_PATH = MAIN_DIR + '\\\\configs\\\\config.yaml'\n",
    "# SCALER_FILE = 'scaler_info.save'\n",
    "# TRAIN_PATH = RAW_DATA_DIR + 'train.csv'\n",
    "# TEST_PATH = RAW_DATA_DIR + 'test.csv'\n",
    "# PROCESSED_PATH = PROCESSED_DATA_DIR + 'data.csv'\n",
    "# GROUPED_COLS = ['item','store','date']\n",
    "# LABEL_COL = 'sales'\n",
    "# INDEX_COL = 'date'\n",
    "# NP_ARRAYS_NAMES = ['X_train_series', 'Y_train', 'X_valid_series', 'Y_valid']\n",
    "#\n",
    "# LSTM_PARAMS = {\n",
    "#     'LSTM_WINDOW_LENGTH':29,\n",
    "#     'LSTM_PREDICTION_LAG':90,\n",
    "#     'LSTM_NODES':30,\n",
    "#     'LSTM_EPOCHS':10,\n",
    "#     'LSTM_BATCH':256,\n",
    "#     'LSTM_LR':0.003\n",
    "# }\n",
    "#\n",
    "# XGB_PARAMS = {\n",
    "#     'XGB_MAX_DEPTH':3,\n",
    "#     'XGB_ETA':0.2,\n",
    "#     'XGB_SILENT':1,\n",
    "#     'XGB_SUBSAMPLE':1,\n",
    "#     'XGB_NUM_ROUNDS':1000\n",
    "# }\n",
    "#\n",
    "# plt.rcParams[\"figure.figsize\"] = [16,9]"
   ]
  },
  {
   "cell_type": "code",
   "execution_count": 64,
   "outputs": [],
   "source": [
    "MAIN_DIR = os.sep.join(os.getcwd().split(os.sep)[:-1])\n",
    "RAW_DATA_DIR = os.path.join(MAIN_DIR, 'data', 'raw', 'store_item', '')\n",
    "PROCESSED_DATA_DIR = os.path.join(MAIN_DIR, 'data','processed', '')\n",
    "MODEL_DIR = os.path.join(MAIN_DIR, 'models', '')\n",
    "OBJECTS_DIR = os.path.join(MAIN_DIR, 'objects', '')\n",
    "CONFIGS_PATH = os.path.join(MAIN_DIR, 'configs', 'config.yaml')\n",
    "\n",
    "SCALER_FILE = 'scaler_info.save'\n",
    "TRAIN_PATH = RAW_DATA_DIR + 'train.csv'\n",
    "TEST_PATH = RAW_DATA_DIR + 'test.csv'\n",
    "PROCESSED_PATH = PROCESSED_DATA_DIR + 'data.csv'\n",
    "\n",
    "NP_ARRAYS_NAMES = ['X_train_series', 'Y_train', 'X_valid_series', 'Y_valid']\n",
    "\n",
    "plt.rcParams[\"figure.figsize\"] = [16,9]"
   ],
   "metadata": {
    "collapsed": false,
    "pycharm": {
     "name": "#%%\n"
    }
   }
  },
  {
   "cell_type": "code",
   "execution_count": 32,
   "outputs": [],
   "source": [
    "# MAIN_DIR = '/'.join(os.getcwd().split('/')[:-1])\n",
    "# # MAIN_DIR = os.getcwd()\n",
    "# RAW_DATA_DIR = MAIN_DIR+'/data/raw/store_item/'\n",
    "# PROCESSED_DATA_DIR = MAIN_DIR+'/data/processed/'\n",
    "# MODEL_DIR = MAIN_DIR + '/models/'\n",
    "# OBJECTS_DIR = MAIN_DIR + '/objects/'\n",
    "# CONFIGS_PATH = MAIN_DIR + '/configs/config.yaml'\n",
    "# SCALER_FILE = 'scaler_info.save'\n",
    "# TRAIN_PATH = RAW_DATA_DIR + 'train.csv'\n",
    "# TEST_PATH = RAW_DATA_DIR + 'test.csv'\n",
    "# PROCESSED_PATH = PROCESSED_DATA_DIR + 'data.csv'\n",
    "# GROUPED_COLS = ['item','store','date']\n",
    "# LABEL_COL = 'sales'\n",
    "# INDEX_COL = 'date'\n",
    "# NP_ARRAYS_NAMES = ['X_train_series', 'Y_train', 'X_valid_series', 'Y_valid']\n",
    "# # %matplotlib inline\n",
    "# LSTM_PARAMS = {\n",
    "#     'LSTM_WINDOW_LENGTH':29,\n",
    "#     'LSTM_PREDICTION_LAG':90,\n",
    "#     'LSTM_NODES':30,\n",
    "#     'LSTM_EPOCHS':10,\n",
    "#     'LSTM_BATCH':256,\n",
    "#     'LSTM_LR':0.003\n",
    "# }\n",
    "#\n",
    "# XGB_PARAMS = {\n",
    "#     'XGB_MAX_DEPTH':3,\n",
    "#     'XGB_ETA':0.2,\n",
    "#     'XGB_SILENT':1,\n",
    "#     'XGB_SUBSAMPLE':1,\n",
    "#     'XGB_NUM_ROUNDS':1000\n",
    "# }"
   ],
   "metadata": {
    "collapsed": false,
    "pycharm": {
     "name": "#%%\n"
    }
   }
  },
  {
   "cell_type": "code",
   "execution_count": 33,
   "outputs": [],
   "source": [
    "def get_conf(conf_path):\n",
    "    with open(rf'{conf_path}') as conf_file:\n",
    "        conf = yaml.safe_load(conf_file)\n",
    "        return conf"
   ],
   "metadata": {
    "collapsed": false,
    "pycharm": {
     "name": "#%%\n"
    }
   }
  },
  {
   "cell_type": "code",
   "execution_count": 34,
   "outputs": [],
   "source": [
    "conf = get_conf(CONFIGS_PATH)\n"
   ],
   "metadata": {
    "collapsed": false,
    "pycharm": {
     "name": "#%%\n"
    }
   }
  },
  {
   "cell_type": "code",
   "execution_count": 35,
   "metadata": {
    "collapsed": false,
    "pycharm": {
     "name": "#%%\n"
    }
   },
   "outputs": [],
   "source": [
    "def SMAPE(forecast, actual):\n",
    "    \"\"\"Returns the Symmetric Mean Absolute Percentage Error between two Series\"\"\"\n",
    "    if len(actual.shape)!=2:\n",
    "        actual = actual.reshape(actual.shape[0],1)\n",
    "    masked_arr = ~((forecast==0)&(actual==0))\n",
    "    diff = abs(forecast[masked_arr] - actual[masked_arr])\n",
    "    avg = (abs(forecast[masked_arr]) + abs(actual[masked_arr]))/2\n",
    "\n",
    "    smape_score = str(round(sum(diff/avg)/len(forecast) * 100, 2))\n",
    "\n",
    "    print('SMAPE Error Score: ' + smape_score + ' %')\n",
    "    return smape_score"
   ]
  },
  {
   "cell_type": "code",
   "execution_count": 36,
   "outputs": [],
   "source": [
    "def plot_pred_vs_act(actual, predicted, model_type):\n",
    "    plt.rcParams[\"figure.figsize\"] = [16,9]\n",
    "    plt.plot(actual, label='Actual')\n",
    "    plt.plot(predicted, label='Predicted')\n",
    "    plt.legend()\n",
    "    plt.title(f'Predicted vs Actual Sales for {model_type} Model')"
   ],
   "metadata": {
    "collapsed": false,
    "pycharm": {
     "name": "#%%\n"
    }
   }
  },
  {
   "cell_type": "code",
   "execution_count": 37,
   "metadata": {
    "collapsed": false,
    "pycharm": {
     "name": "#%%\n"
    }
   },
   "outputs": [],
   "source": [
    "def Fuller(TimeSeries):\n",
    "    \"\"\"Provides Fuller test results for TimeSeries\"\"\"\n",
    "    stationary_test = adfuller(TimeSeries)\n",
    "    print('ADF Statistic: %f' % stationary_test[0])\n",
    "    print('p-value: %f' % stationary_test[1])\n",
    "    print('Critical Values:')\n",
    "    for key, value in stationary_test[4].items():\n",
    "        print('\\t%s: %.3f' % (key, value))"
   ]
  },
  {
   "cell_type": "code",
   "execution_count": 66,
   "metadata": {
    "collapsed": false,
    "pycharm": {
     "name": "#%%\n"
    }
   },
   "outputs": [],
   "source": [
    "def xboost(xgb_params, xgb_model_dir, x_train=None, y_train=None, x_test=None, y_test=None, training_req=1):\n",
    "    \"\"\"Trains xgboost model and returns it\"\"\"\n",
    "\n",
    "    folder_name = datetime.now().strftime(\"%m-%d-%Y-%H-%M-%S\")\n",
    "    file_name = f'xgb_model_{folder_name}.pkl'\n",
    "\n",
    "    dtrain = xgb.DMatrix(x_train, label=y_train, feature_names=list(x_train.columns))\n",
    "    dtest = xgb.DMatrix(x_test, label=y_test, feature_names=list(x_test.columns))\n",
    "\n",
    "    if training_req:\n",
    "\n",
    "        params = {'max_depth':xgb_params['XGB_MAX_DEPTH'],\n",
    "                  'eta':xgb_params['XGB_ETA'],\n",
    "                  'silent':xgb_params['XGB_SILENT'],\n",
    "                'subsample':xgb_params['XGB_SUBSAMPLE']}\n",
    "        num_rounds = xgb_params['XGB_NUM_ROUNDS']\n",
    "\n",
    "        xgb_model = xgb.train(params, dtrain, num_rounds)\n",
    "\n",
    "        # save\n",
    "        xgb_model.save_model(xgb_model_dir+file_name)\n",
    "        # pickle.dump(xgb_model, open(xgb_model_dir+file_name, \"wb\"))\n",
    "\n",
    "    else:\n",
    "        sorted_xgb_models = [x for x in listdir(xgb_model_dir) if 'xgb_' in str(x)]\n",
    "        sorted_xgb_models.sort(reverse=True)\n",
    "        xgb_model = xgb.Booster()\n",
    "        xgb_model.load_model(xgb_model_dir+str(sorted_xgb_models[0]))\n",
    "        # xgb_model = pickle.load(open(xgb_model_dir+str(sorted_xgb_models[0]), 'rb'))\n",
    "\n",
    "\n",
    "    return xgb_model, dtest"
   ]
  },
  {
   "cell_type": "code",
   "execution_count": 39,
   "metadata": {
    "collapsed": false,
    "pycharm": {
     "name": "#%%\n"
    }
   },
   "outputs": [],
   "source": [
    "def lstm_model(params,lstm_model_dir, x_train=None, y_train=None, x_valid=None, y_valid=None, training_req=1):\n",
    "\n",
    "    folder_name = datetime.now().strftime(\"%m-%d-%Y-%H-%M-%S\")\n",
    "    save_path = f'model-{folder_name}'\n",
    "\n",
    "    if training_req:\n",
    "        callback = EarlyStopping(monitor='val_loss', patience=2)\n",
    "        model_lstm = Sequential()\n",
    "        model_lstm.add(LSTM(params['LSTM_NODES'], activation='relu', input_shape=(x_train.shape[1], x_train.shape[2])))\n",
    "        model_lstm.add(Dense(1))\n",
    "        model_lstm.compile(loss='rmse', optimizer=optimizers.Adam(conf['LSTM_PARAMS']['LSTM_LR']))\n",
    "        model_lstm.summary()\n",
    "        lstm_history = model_lstm.fit(\n",
    "            x_train,\n",
    "            y_train,\n",
    "            validation_data=(x_valid, y_valid),\n",
    "            epochs=conf['LSTM_PARAMS']['LSTM_EPOCHS'],\n",
    "            callbacks=callback,\n",
    "            verbose=True\n",
    "        )\n",
    "        model_lstm.save(lstm_model_dir+save_path)\n",
    "\n",
    "    else:\n",
    "        fnf = listdir(lstm_model_dir)\n",
    "        sorted_lstm_models = [x for x in fnf if ('model' in str(x)) & ('xgb' not in str(x))]\n",
    "        sorted_lstm_models.sort(reverse=True)\n",
    "        model_lstm = models.load_model(lstm_model_dir+str(sorted_lstm_models[0]))\n",
    "\n",
    "    return model_lstm\n"
   ]
  },
  {
   "cell_type": "code",
   "execution_count": 40,
   "metadata": {
    "collapsed": false,
    "pycharm": {
     "name": "#%%\n"
    }
   },
   "outputs": [],
   "source": [
    "def read_data(path, date_index_col):\n",
    "    if path:\n",
    "        df = pd.read_csv(path, index_col=date_index_col, infer_datetime_format=True)\n",
    "        df.index = pd.to_datetime(df.index)\n",
    "        return df"
   ]
  },
  {
   "cell_type": "code",
   "execution_count": 41,
   "metadata": {
    "collapsed": false,
    "pycharm": {
     "name": "#%%\n"
    }
   },
   "outputs": [],
   "source": [
    "# Prepare data by aggregating according to config\n",
    "def data_preprocessing(data, grouped_cols, label_col, date_col='date'):\n",
    "    # Rearrange dataset so we can apply shift methods\n",
    "    data = data.reset_index()\n",
    "    data = data.sort_values(date_col).groupby(grouped_cols, as_index=False)\n",
    "    data = data.agg({f'{label_col}':['mean']})\n",
    "    data.columns = grouped_cols + [label_col]\n",
    "    return data\n"
   ]
  },
  {
   "cell_type": "code",
   "execution_count": 42,
   "metadata": {
    "collapsed": false,
    "pycharm": {
     "name": "#%%\n"
    }
   },
   "outputs": [],
   "source": [
    "def xgboost_data_preprocessing(data,date_col):\n",
    "\n",
    "    # Adding date based features\n",
    "    data[date_col] = pd.to_datetime(data[date_col])\n",
    "    data['year'] = data[date_col].dt.year\n",
    "    data['quarter'] = data[date_col].dt.quarter\n",
    "    data['month'] = data[date_col].dt.month\n",
    "    data['weekofyear'] = data[date_col].dt.weekofyear\n",
    "    data['weekday'] = data[date_col].dt.weekday\n",
    "    data['dayofweek'] = data[date_col].dt.dayofweek\n",
    "\n",
    "\n",
    "    return data"
   ]
  },
  {
   "cell_type": "code",
   "execution_count": 43,
   "metadata": {
    "collapsed": false,
    "pycharm": {
     "name": "#%%\n"
    }
   },
   "outputs": [],
   "source": [
    "def series_to_supervised(data_in, window=1, lag=1, dropnan=True):\n",
    "    \"\"\"Transform the data into a time series problem\"\"\"\n",
    "\n",
    "    data = deepcopy(data_in)\n",
    "    # Drop date column from data\n",
    "    data.drop('date', axis=1, inplace=True)\n",
    "\n",
    "    cols, names = list(), list()\n",
    "\n",
    "    # Input sequence (t-n, ... t-1)\n",
    "    for i in range(window, 0, -1):\n",
    "        cols.append(data.shift(i))\n",
    "        names += [('%s(t-%d)' % (col, i)) for col in data.columns]\n",
    "\n",
    "    # Current timestep (t=0)\n",
    "    cols.append(data)\n",
    "    names += [('%s(t)' % (col)) for col in data.columns]\n",
    "\n",
    "    # Target timestep (t=lag)\n",
    "    cols.append(data.shift(-lag))\n",
    "    names += [('%s(t+%d)' % (col, lag)) for col in data.columns]\n",
    "\n",
    "    # Put it all together\n",
    "    agg = pd.concat(cols, axis=1)\n",
    "    agg.columns = names\n",
    "\n",
    "    # Drop rows with NaN values\n",
    "    if dropnan:\n",
    "        agg.dropna(inplace=True)\n",
    "    # Drop rows with different item or store values than the shifted columns\n",
    "\n",
    "    last_item = 'item(t-%d)' % window\n",
    "    last_store = 'store(t-%d)' % window\n",
    "    agg = agg[(agg['store(t)'] == agg[last_store])]\n",
    "    agg = agg[(agg['item(t)'] == agg[last_item])]\n",
    "\n",
    "    columns_to_drop = [('%s(t+%d)' % (col, lag)) for col in ['item', 'store']]\n",
    "    for i in range(window, 0, -1):\n",
    "        columns_to_drop += [('%s(t-%d)' % (col, i)) for col in ['item', 'store']]\n",
    "    agg.drop(columns_to_drop, axis=1, inplace=True)\n",
    "    agg.drop(['item(t)', 'store(t)'], axis=1, inplace=True)\n",
    "    print(type(agg))\n",
    "\n",
    "    return agg\n"
   ]
  },
  {
   "cell_type": "code",
   "execution_count": 44,
   "outputs": [],
   "source": [
    "def split_train_valid(data, test_size, lag):\n",
    "\n",
    "    # Label\n",
    "    labels_col = 'sales(t+%d)' % lag\n",
    "    labels = data[labels_col]\n",
    "    data = data.drop(labels_col, axis=1)\n",
    "\n",
    "    X_train, X_valid, Y_train, Y_valid = train_test_split(data, labels.values, test_size=test_size, random_state=0)\n",
    "\n",
    "    return X_train, Y_train, X_valid, Y_valid"
   ],
   "metadata": {
    "collapsed": false,
    "pycharm": {
     "name": "#%%\n"
    }
   }
  },
  {
   "cell_type": "code",
   "execution_count": 45,
   "outputs": [],
   "source": [
    "def reshape_features(X_train,X_valid):\n",
    "    X_train_series = X_train.values.reshape((X_train.shape[0], X_train.shape[1], 1))\n",
    "    X_valid_series = X_valid.values.reshape((X_valid.shape[0], X_valid.shape[1], 1))\n",
    "    return X_train_series, X_valid_series"
   ],
   "metadata": {
    "collapsed": false,
    "pycharm": {
     "name": "#%%\n"
    }
   }
  },
  {
   "cell_type": "code",
   "execution_count": 46,
   "outputs": [],
   "source": [
    "def data_scaler(data, scaled, model=None):\n",
    "    if scaled:\n",
    "        fitted_scaler = joblib.load(OBJECTS_DIR+model+SCALER_FILE)\n",
    "\n",
    "        if type=='inverse':\n",
    "            inv_scaled_data = fitted_scaler.inverse_transform(data)\n",
    "            return inv_scaled_data\n",
    "        else:\n",
    "            scaled_data = fitted_scaler.transform(data)\n",
    "            return scaled_data\n",
    "\n",
    "    else:\n",
    "        scaler = StandardScaler()\n",
    "        fitted_scaler = scaler.fit(data)\n",
    "        scaled_data = fitted_scaler.transform(data)\n",
    "        joblib.dump(fitted_scaler, OBJECTS_DIR+model+SCALER_FILE)\n",
    "        return scaled_data\n"
   ],
   "metadata": {
    "collapsed": false,
    "pycharm": {
     "name": "#%%\n"
    }
   }
  },
  {
   "cell_type": "code",
   "execution_count": 47,
   "outputs": [],
   "source": [
    "# Read Training and Testing data\n",
    "train = read_data(TRAIN_PATH, 0)\n",
    "test = read_data(TEST_PATH, 1)\n"
   ],
   "metadata": {
    "collapsed": false,
    "pycharm": {
     "name": "#%%\n"
    }
   }
  },
  {
   "cell_type": "markdown",
   "source": [
    "<h1> LSTM </h1>"
   ],
   "metadata": {
    "collapsed": false,
    "pycharm": {
     "name": "#%% md\n"
    }
   }
  },
  {
   "cell_type": "code",
   "execution_count": 48,
   "metadata": {
    "collapsed": false,
    "pycharm": {
     "name": "#%%\n"
    }
   },
   "outputs": [
    {
     "name": "stdout",
     "output_type": "stream",
     "text": [
      "<class 'pandas.core.frame.DataFrame'>\n"
     ]
    }
   ],
   "source": [
    "# Prepare train data for lstm by aggregating\n",
    "preprocessed_data = data_preprocessing(train,\n",
    "                                       conf['GROUPED_COLS'],\n",
    "                                       conf['LABEL_COL'],\n",
    "                                       conf['INDEX_COL']\n",
    "                                       )\n",
    "\n",
    "lstm_processed_data_2 = series_to_supervised(preprocessed_data,\n",
    "                                             window=conf['LSTM_PARAMS']['LSTM_WINDOW_LENGTH'],\n",
    "                                             lag=conf['LSTM_PARAMS']['LSTM_PREDICTION_LAG']\n",
    "                                             )\n",
    "\n",
    "# Split into train-test set\n",
    "X_train, Y_train, X_valid, Y_valid = split_train_valid(lstm_processed_data_2,\n",
    "                                                       test_size=0.2,\n",
    "                                                       lag=conf['LSTM_PARAMS']['LSTM_PREDICTION_LAG']\n",
    "                                                       )\n",
    "\n",
    "# Scale data for training\n",
    "X_train_scaled = data_scaler(X_train, scaled=0, model='lstm')\n",
    "X_valid_scaled = data_scaler(X_valid, scaled=1, model='lstm')\n",
    "\n",
    "# Reshape data for training\n",
    "X_train_series, X_valid_series = reshape_features(X_train, X_valid)\n"
   ]
  },
  {
   "cell_type": "code",
   "execution_count": 49,
   "outputs": [],
   "source": [
    "# Obtain trained LSTM model\n",
    "model_lstm = lstm_model(conf['LSTM_PARAMS'],\n",
    "                        MODEL_DIR,\n",
    "                        X_train_series,\n",
    "                        Y_train,\n",
    "                        X_valid_series,\n",
    "                        Y_valid,\n",
    "                        training_req=0\n",
    "                        )\n"
   ],
   "metadata": {
    "collapsed": false,
    "pycharm": {
     "name": "#%%\n"
    }
   }
  },
  {
   "cell_type": "code",
   "execution_count": 50,
   "outputs": [
    {
     "name": "stdout",
     "output_type": "stream",
     "text": [
      "SMAPE Error Score: 27.98 %\n"
     ]
    }
   ],
   "source": [
    "# LSTM Evaluation\n",
    "lstm_pred = model_lstm.predict(X_valid_series)\n",
    "lstm_smape = SMAPE(lstm_pred, Y_valid)"
   ],
   "metadata": {
    "collapsed": false,
    "pycharm": {
     "name": "#%%\n"
    }
   }
  },
  {
   "cell_type": "code",
   "execution_count": 51,
   "outputs": [
    {
     "name": "stdout",
     "output_type": "stream",
     "text": [
      "5616/5616 [==============================] - 22s 4ms/step - loss: 316.2183\n"
     ]
    }
   ],
   "source": [
    "lstm_mse = model_lstm.evaluate(X_valid_series, Y_valid)"
   ],
   "metadata": {
    "collapsed": false,
    "pycharm": {
     "name": "#%%\n"
    }
   }
  },
  {
   "cell_type": "code",
   "execution_count": 65,
   "outputs": [
    {
     "data": {
      "text/plain": "<Figure size 1152x648 with 1 Axes>",
      "image/png": "[encoded data removed]"
     },
     "metadata": {
      "needs_background": "light"
     },
     "output_type": "display_data"
    }
   ],
   "source": [
    "plot_pred_vs_act(Y_valid[:50],lstm_pred[:50],'LSTM')"
   ],
   "metadata": {
    "collapsed": false,
    "pycharm": {
     "name": "#%%\n"
    }
   }
  },
  {
   "cell_type": "markdown",
   "source": [
    "<h1> XGBoost </h1>"
   ],
   "metadata": {
    "collapsed": false,
    "pycharm": {
     "name": "#%% md\n"
    }
   }
  },
  {
   "cell_type": "code",
   "execution_count": 53,
   "outputs": [
    {
     "name": "stderr",
     "output_type": "stream",
     "text": [
      "C:\\Users\\yashc\\AppData\\Local\\Temp\\ipykernel_19628\\405869160.py:8: FutureWarning: Series.dt.weekofyear and Series.dt.week have been deprecated. Please use Series.dt.isocalendar().week instead.\n",
      "  data['weekofyear'] = data[date_col].dt.weekofyear\n"
     ]
    }
   ],
   "source": [
    "xgb_data = xgboost_data_preprocessing(preprocessed_data, conf['INDEX_COL'])\n",
    "\n",
    "# Preprocess data to perform aggregation\n",
    "xgb_train_x, xgb_test_x, xgb_train_y, xgb_test_y = train_test_split(\n",
    "    xgb_data.drop([f'{conf[\"INDEX_COL\"]}', f'{conf[\"LABEL_COL\"]}'],axis=1),\n",
    "    xgb_data[conf[\"LABEL_COL\"]],\n",
    "    test_size=0.2\n",
    ")"
   ],
   "metadata": {
    "collapsed": false,
    "pycharm": {
     "name": "#%%\n"
    }
   }
  },
  {
   "cell_type": "code",
   "execution_count": 67,
   "outputs": [
    {
     "name": "stdout",
     "output_type": "stream",
     "text": [
      "[11:36:59] WARNING: C:/Users/Administrator/workspace/xgboost-win64_release_1.6.0/src/learner.cc:627: \n",
      "Parameters: { \"silent\" } might not be used.\n",
      "\n",
      "  This could be a false alarm, with some parameters getting used by language bindings but\n",
      "  then being mistakenly passed down to XGBoost core, or some parameter actually being used\n",
      "  but getting flagged wrongly here. Please open an issue if you find any such cases.\n",
      "\n",
      "\n"
     ]
    }
   ],
   "source": [
    "# Train XGBoost model\n",
    "xgb_model, xgb_test_data = xboost(conf['XGB_PARAMS'],\n",
    "                                  MODEL_DIR,\n",
    "                                  xgb_train_x,\n",
    "                                  xgb_train_y,\n",
    "                                  xgb_test_x,\n",
    "                                  xgb_test_y,\n",
    "                                  training_req=1\n",
    "                                  )\n"
   ],
   "metadata": {
    "collapsed": false,
    "pycharm": {
     "name": "#%%\n"
    }
   }
  },
  {
   "cell_type": "code",
   "execution_count": 60,
   "outputs": [
    {
     "name": "stdout",
     "output_type": "stream",
     "text": [
      "SMAPE Error Score: 15.4 %\n"
     ]
    }
   ],
   "source": [
    "# Get predictions from XGBoost model\n",
    "xgb_predictions = pd.Series(xgb_model.predict(xgb_test_data))\n",
    "\n",
    "# Transform predictions and actual data for SMAPE\n",
    "xgb_predictions_reshaped = np.array(xgb_predictions).reshape(len(xgb_predictions),1)\n",
    "xgb_test_y_reshaped = np.array(xgb_test_y).reshape(len(xgb_test_y),1)\n",
    "\n",
    "# Get SMAPE for XGBoost\n",
    "xgb_smape = SMAPE(xgb_predictions_reshaped, xgb_test_y_reshaped)"
   ],
   "metadata": {
    "collapsed": false,
    "pycharm": {
     "name": "#%%\n"
    }
   }
  },
  {
   "cell_type": "code",
   "execution_count": 61,
   "outputs": [],
   "source": [
    "# MSE Computation\n",
    "xgb_mse = MSE(xgb_test_y_reshaped, xgb_predictions_reshaped)"
   ],
   "metadata": {
    "collapsed": false,
    "pycharm": {
     "name": "#%%\n"
    }
   }
  },
  {
   "cell_type": "markdown",
   "source": [
    "<h1> Comparing the models' metrics </h1>"
   ],
   "metadata": {
    "collapsed": false,
    "pycharm": {
     "name": "#%% md\n"
    }
   }
  },
  {
   "cell_type": "code",
   "execution_count": 63,
   "outputs": [
    {
     "name": "stdout",
     "output_type": "stream",
     "text": [
      "XGB SMAPE- 15.4%\n",
      "LSTM SMAPE- 27.98%\n",
      "XGB MSE- 67.91\n",
      "LSTM MSE- 316.22\n"
     ]
    }
   ],
   "source": [
    "print(f'XGB SMAPE- {xgb_smape}%')\n",
    "print(f'LSTM SMAPE- {lstm_smape}%')\n",
    "\n",
    "print(f'XGB MSE- {xgb_mse:.2f}')\n",
    "print(f'LSTM MSE- {lstm_mse:.2f}')"
   ],
   "metadata": {
    "collapsed": false,
    "pycharm": {
     "name": "#%%\n"
    }
   }
  },
  {
   "cell_type": "code",
   "execution_count": null,
   "outputs": [],
   "source": [],
   "metadata": {
    "collapsed": false,
    "pycharm": {
     "name": "#%%\n"
    }
   }
  }
 ],
 "metadata": {
  "kernelspec": {
   "display_name": "Python 3",
   "language": "python",
   "name": "python3"
  },
  "language_info": {
   "codemirror_mode": {
    "name": "ipython",
    "version": 2
   },
   "file_extension": ".py",
   "mimetype": "text/x-python",
   "name": "python",
   "nbconvert_exporter": "python",
   "pygments_lexer": "ipython2",
   "version": "2.7.6"
  }
 },
 "nbformat": 4,
 "nbformat_minor": 0
}