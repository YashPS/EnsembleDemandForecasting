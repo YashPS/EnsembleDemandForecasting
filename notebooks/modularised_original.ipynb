{
 "cells": [
  {
   "cell_type": "code",
   "execution_count": 1,
   "metadata": {
    "collapsed": true,
    "pycharm": {
     "name": "#%%\n"
    }
   },
   "outputs": [],
   "source": [
    "import os\n",
    "from copy import deepcopy\n",
    "from datetime import datetime\n",
    "from os import listdir\n",
    "\n",
    "import joblib\n",
    "import matplotlib.pyplot as plt\n",
    "import numpy as np\n",
    "import pandas as pd\n",
    "import xgboost as xgb\n",
    "import yaml\n",
    "from keras import models\n",
    "from keras import optimizers\n",
    "from keras.callbacks import EarlyStopping\n",
    "from keras.layers import Dense, LSTM\n",
    "from keras.models import Sequential\n",
    "from sklearn.metrics import mean_squared_error as MSE\n",
    "from sklearn.model_selection import train_test_split\n",
    "from sklearn.preprocessing import StandardScaler\n",
    "from statsmodels.tsa.stattools import adfuller"
   ]
  },
  {
   "cell_type": "code",
   "execution_count": 2,
   "outputs": [],
   "source": [
    "def get_conf(conf_path):\n",
    "    \"\"\"Reads configuration file\"\"\"\n",
    "    with open(rf'{conf_path}') as conf_file:\n",
    "        conf = yaml.safe_load(conf_file)\n",
    "        return conf"
   ],
   "metadata": {
    "collapsed": false,
    "pycharm": {
     "name": "#%%\n"
    }
   }
  },
  {
   "cell_type": "code",
   "execution_count": 3,
   "metadata": {
    "collapsed": false,
    "pycharm": {
     "name": "#%%\n"
    }
   },
   "outputs": [],
   "source": [
    "def SMAPE(forecast, actual):\n",
    "    \"\"\"Returns the Symmetric Mean Absolute Percentage Error between two Series\"\"\"\n",
    "    if len(actual.shape)!=2:\n",
    "        actual = actual.reshape(actual.shape[0],1)\n",
    "    masked_arr = ~((forecast==0)&(actual==0))\n",
    "    diff = abs(forecast[masked_arr] - actual[masked_arr])\n",
    "    avg = (abs(forecast[masked_arr]) + abs(actual[masked_arr]))/2\n",
    "\n",
    "    smape_score = str(round(sum(diff/avg)/len(forecast) * 100, 2))\n",
    "\n",
    "    print('SMAPE Error Score: ' + smape_score + ' %')\n",
    "    return smape_score"
   ]
  },
  {
   "cell_type": "code",
   "execution_count": 4,
   "outputs": [],
   "source": [
    "def plot_pred_vs_act(actual, predicted, model_type):\n",
    "    plt.rcParams[\"figure.figsize\"] = [16,9]\n",
    "    plt.plot(actual, label='Actual')\n",
    "    plt.plot(predicted, label='Predicted')\n",
    "    plt.legend()\n",
    "    plt.title(f'Predicted vs Actual Sales for {model_type} Model')"
   ],
   "metadata": {
    "collapsed": false,
    "pycharm": {
     "name": "#%%\n"
    }
   }
  },
  {
   "cell_type": "code",
   "execution_count": 5,
   "metadata": {
    "collapsed": false,
    "pycharm": {
     "name": "#%%\n"
    }
   },
   "outputs": [],
   "source": [
    "def Fuller(TimeSeries):\n",
    "    \"\"\"Provides Fuller test results for TimeSeries\"\"\"\n",
    "    stationary_test = adfuller(TimeSeries)\n",
    "    print('ADF Statistic: %f' % stationary_test[0])\n",
    "    print('p-value: %f' % stationary_test[1])\n",
    "    print('Critical Values:')\n",
    "    for key, value in stationary_test[4].items():\n",
    "        print('\\t%s: %.3f' % (key, value))"
   ]
  },
  {
   "cell_type": "code",
   "execution_count": 6,
   "metadata": {
    "collapsed": false,
    "pycharm": {
     "name": "#%%\n"
    }
   },
   "outputs": [],
   "source": [
    "def xboost(xgb_params, xgb_model_dir, x_train=None, y_train=None, x_test=None, y_test=None, training_req=1):\n",
    "    \"\"\"Trains xgboost model and returns it\"\"\"\n",
    "\n",
    "    folder_name = datetime.now().strftime(\"%m-%d-%Y-%H-%M-%S\")\n",
    "    file_name = f'xgb_model_{folder_name}.json'\n",
    "\n",
    "    dtrain = xgb.DMatrix(x_train, label=y_train, feature_names=list(x_train.columns))\n",
    "    dtest = xgb.DMatrix(x_test, label=y_test, feature_names=list(x_test.columns))\n",
    "\n",
    "    if training_req:\n",
    "\n",
    "        params = {'max_depth':xgb_params['XGB_MAX_DEPTH'],\n",
    "                  'eta':xgb_params['XGB_ETA'],\n",
    "                  'silent':xgb_params['XGB_SILENT'],\n",
    "                'subsample':xgb_params['XGB_SUBSAMPLE']}\n",
    "        num_rounds = xgb_params['XGB_NUM_ROUNDS']\n",
    "\n",
    "        xgb_model = xgb.train(params, dtrain, num_rounds)\n",
    "\n",
    "        # save\n",
    "        xgb_model.save_model(xgb_model_dir+file_name)\n",
    "\n",
    "    else:\n",
    "        sorted_xgb_models = [x for x in listdir(xgb_model_dir) if 'xgb_' in str(x)]\n",
    "        sorted_xgb_models.sort(reverse=True)\n",
    "        xgb_model = xgb.Booster()\n",
    "        xgb_model.load_model(xgb_model_dir+str(sorted_xgb_models[0]))\n",
    "\n",
    "\n",
    "    return xgb_model, dtest"
   ]
  },
  {
   "cell_type": "code",
   "execution_count": 7,
   "metadata": {
    "collapsed": false,
    "pycharm": {
     "name": "#%%\n"
    }
   },
   "outputs": [],
   "source": [
    "def lstm_model(params,lstm_model_dir, x_train=None, y_train=None, x_valid=None, y_valid=None, training_req=1):\n",
    "\n",
    "    folder_name = datetime.now().strftime(\"%m-%d-%Y-%H-%M-%S\")\n",
    "    save_path = f'model-{folder_name}'\n",
    "\n",
    "    if training_req:\n",
    "        callback = EarlyStopping(monitor='val_loss', patience=2)\n",
    "        model_lstm = Sequential()\n",
    "        model_lstm.add(LSTM(params['LSTM_NODES'], activation='relu', input_shape=(x_train.shape[1], x_train.shape[2])))\n",
    "        model_lstm.add(Dense(1))\n",
    "        model_lstm.compile(loss='mse', optimizer=optimizers.Adam(conf['LSTM_PARAMS']['LSTM_LR']))\n",
    "        model_lstm.summary()\n",
    "        lstm_history = model_lstm.fit(\n",
    "            x_train,\n",
    "            y_train,\n",
    "            validation_data=(x_valid, y_valid),\n",
    "            epochs=conf['LSTM_PARAMS']['LSTM_EPOCHS'],\n",
    "            callbacks=callback,\n",
    "            verbose=True\n",
    "        )\n",
    "        model_lstm.save(lstm_model_dir+save_path)\n",
    "\n",
    "    else:\n",
    "        fnf = listdir(lstm_model_dir)\n",
    "        sorted_lstm_models = [x for x in fnf if ('model' in str(x)) & ('xgb' not in str(x))]\n",
    "        sorted_lstm_models.sort(reverse=False)\n",
    "        model_lstm = models.load_model(lstm_model_dir+str(sorted_lstm_models[0]))\n",
    "\n",
    "    return model_lstm\n"
   ]
  },
  {
   "cell_type": "code",
   "execution_count": 8,
   "metadata": {
    "collapsed": false,
    "pycharm": {
     "name": "#%%\n"
    }
   },
   "outputs": [],
   "source": [
    "def read_data(path, date_index_col):\n",
    "    if path:\n",
    "        df = pd.read_csv(path, index_col=date_index_col, infer_datetime_format=True)\n",
    "        df.index = pd.to_datetime(df.index)\n",
    "        return df"
   ]
  },
  {
   "cell_type": "code",
   "execution_count": 9,
   "metadata": {
    "collapsed": false,
    "pycharm": {
     "name": "#%%\n"
    }
   },
   "outputs": [],
   "source": [
    "# Prepare data by aggregating according to config\n",
    "def data_preprocessing(data, grouped_cols, label_col, date_col='date'):\n",
    "    # Rearrange dataset so we can apply shift methods\n",
    "    data = data.reset_index()\n",
    "    data = data.sort_values(date_col).groupby(grouped_cols, as_index=False)\n",
    "    data = data.agg({f'{label_col}':['mean']})\n",
    "    data.columns = grouped_cols + [label_col]\n",
    "    return data\n"
   ]
  },
  {
   "cell_type": "code",
   "execution_count": 10,
   "metadata": {
    "collapsed": false,
    "pycharm": {
     "name": "#%%\n"
    }
   },
   "outputs": [],
   "source": [
    "def xgboost_data_preprocessing(data_in,date_col):\n",
    "\n",
    "    data = deepcopy(data_in)\n",
    "    # Adding date based features\n",
    "    data[date_col] = pd.to_datetime(data[date_col])\n",
    "    data['year'] = data[date_col].dt.year\n",
    "    data['quarter'] = data[date_col].dt.quarter\n",
    "    data['month'] = data[date_col].dt.month\n",
    "    data['weekofyear'] = data[date_col].dt.weekofyear\n",
    "    data['weekday'] = data[date_col].dt.weekday\n",
    "    data['dayofweek'] = data[date_col].dt.dayofweek\n",
    "\n",
    "\n",
    "    return data"
   ]
  },
  {
   "cell_type": "code",
   "execution_count": 11,
   "metadata": {
    "collapsed": false,
    "pycharm": {
     "name": "#%%\n"
    }
   },
   "outputs": [],
   "source": [
    "def series_to_supervised(data_in, window=1, lag=1, dropnan=True):\n",
    "    \"\"\"Transform the data into a time series problem\"\"\"\n",
    "\n",
    "    data = deepcopy(data_in)\n",
    "    # Drop date column from data\n",
    "    data.drop('date', axis=1, inplace=True)\n",
    "\n",
    "    cols, names = list(), list()\n",
    "\n",
    "    # Input sequence (t-n, ... t-1)\n",
    "    for i in range(window, 0, -1):\n",
    "        cols.append(data.shift(i))\n",
    "        names += [('%s(t-%d)' % (col, i)) for col in data.columns]\n",
    "\n",
    "    # Current timestep (t=0)\n",
    "    cols.append(data)\n",
    "    names += [('%s(t)' % (col)) for col in data.columns]\n",
    "\n",
    "    # Target timestep (t=lag)\n",
    "    cols.append(data.shift(-lag))\n",
    "    names += [('%s(t+%d)' % (col, lag)) for col in data.columns]\n",
    "\n",
    "    # Put it all together\n",
    "    agg = pd.concat(cols, axis=1)\n",
    "    agg.columns = names\n",
    "\n",
    "    # Drop rows with NaN values\n",
    "    if dropnan:\n",
    "        agg.dropna(inplace=True)\n",
    "    # Drop rows with different item or store values than the shifted columns\n",
    "\n",
    "    last_item = 'item(t-%d)' % window\n",
    "    last_store = 'store(t-%d)' % window\n",
    "    agg = agg[(agg['store(t)'] == agg[last_store])]\n",
    "    agg = agg[(agg['item(t)'] == agg[last_item])]\n",
    "\n",
    "    columns_to_drop = [('%s(t+%d)' % (col, lag)) for col in ['item', 'store']]\n",
    "    for i in range(window, 0, -1):\n",
    "        columns_to_drop += [('%s(t-%d)' % (col, i)) for col in ['item', 'store']]\n",
    "    agg.drop(columns_to_drop, axis=1, inplace=True)\n",
    "    agg.drop(['item(t)', 'store(t)'], axis=1, inplace=True)\n",
    "    print(type(agg))\n",
    "\n",
    "    return agg\n"
   ]
  },
  {
   "cell_type": "code",
   "execution_count": 12,
   "outputs": [],
   "source": [
    "def split_train_valid(data, test_size, lag):\n",
    "\n",
    "    # Label\n",
    "    labels_col = 'sales(t+%d)' % lag\n",
    "    labels = data[labels_col]\n",
    "    data = data.drop(labels_col, axis=1)\n",
    "\n",
    "    X_train, X_valid, Y_train, Y_valid = train_test_split(data, labels.values, test_size=test_size, random_state=0)\n",
    "\n",
    "    return X_train, Y_train, X_valid, Y_valid"
   ],
   "metadata": {
    "collapsed": false,
    "pycharm": {
     "name": "#%%\n"
    }
   }
  },
  {
   "cell_type": "code",
   "execution_count": 13,
   "outputs": [],
   "source": [
    "def reshape_features(X_train,X_valid):\n",
    "    X_train_series = X_train.values.reshape((X_train.shape[0], X_train.shape[1], 1))\n",
    "    X_valid_series = X_valid.values.reshape((X_valid.shape[0], X_valid.shape[1], 1))\n",
    "    return X_train_series, X_valid_series"
   ],
   "metadata": {
    "collapsed": false,
    "pycharm": {
     "name": "#%%\n"
    }
   }
  },
  {
   "cell_type": "code",
   "execution_count": 14,
   "outputs": [],
   "source": [
    "def data_scaler(data, scaled, type=None, model=None):\n",
    "    if scaled:\n",
    "        fitted_scaler = joblib.load(OBJECTS_DIR+model+SCALER_FILE)\n",
    "\n",
    "        if type=='inverse':\n",
    "            inv_scaled_data = fitted_scaler.inverse_transform(data)\n",
    "            return inv_scaled_data\n",
    "        else:\n",
    "            scaled_data = fitted_scaler.transform(data)\n",
    "            return scaled_data\n",
    "\n",
    "    else:\n",
    "        scaler = StandardScaler()\n",
    "        fitted_scaler = scaler.fit(data)\n",
    "        scaled_data = fitted_scaler.transform(data)\n",
    "        joblib.dump(fitted_scaler, OBJECTS_DIR+model+SCALER_FILE)\n",
    "        return scaled_data\n"
   ],
   "metadata": {
    "collapsed": false,
    "pycharm": {
     "name": "#%%\n"
    }
   }
  },
  {
   "cell_type": "code",
   "execution_count": 37,
   "outputs": [],
   "source": [
    "MAIN_DIR = os.sep.join(os.getcwd().split(os.sep)[:-1])\n",
    "RAW_DATA_DIR = os.path.join(MAIN_DIR, 'data', 'raw', 'store_item', '')\n",
    "PROCESSED_DATA_DIR = os.path.join(MAIN_DIR, 'data','processed', '')\n",
    "MODEL_DIR = os.path.join(MAIN_DIR, 'models', '')\n",
    "OBJECTS_DIR = os.path.join(MAIN_DIR, 'objects', '')\n",
    "CONFIGS_PATH = os.path.join(MAIN_DIR, 'configs', 'config.yaml')\n",
    "conf = get_conf(CONFIGS_PATH)\n",
    "\n",
    "SCALER_FILE = '1scaler_info.save'\n",
    "TRAIN_PATH = RAW_DATA_DIR + 'train.csv'\n",
    "TEST_PATH = RAW_DATA_DIR + 'test.csv'\n",
    "PROCESSED_PATH = PROCESSED_DATA_DIR + 'data.csv'\n",
    "\n",
    "NP_ARRAYS_NAMES = ['X_train_series', 'Y_train', 'X_valid_series', 'Y_valid']\n",
    "\n",
    "plt.rcParams[\"figure.figsize\"] = [16,9]"
   ],
   "metadata": {
    "collapsed": false,
    "pycharm": {
     "name": "#%%\n"
    }
   }
  },
  {
   "cell_type": "code",
   "execution_count": 16,
   "outputs": [],
   "source": [
    "# Read Training and Testing data\n",
    "train = read_data(TRAIN_PATH, 0)\n",
    "test = read_data(TEST_PATH, 1)"
   ],
   "metadata": {
    "collapsed": false,
    "pycharm": {
     "name": "#%%\n"
    }
   }
  },
  {
   "cell_type": "markdown",
   "source": [
    "<h1> LSTM </h1>"
   ],
   "metadata": {
    "collapsed": false,
    "pycharm": {
     "name": "#%% md\n"
    }
   }
  },
  {
   "cell_type": "code",
   "execution_count": 17,
   "metadata": {
    "collapsed": false,
    "pycharm": {
     "name": "#%%\n"
    }
   },
   "outputs": [],
   "source": [
    "# Prepare train data for lstm by aggregating\n",
    "preprocessed_data = data_preprocessing(train,\n",
    "                                       conf['GROUPED_COLS'],\n",
    "                                       conf['LABEL_COL'],\n",
    "                                       conf['INDEX_COL']\n",
    "                                       )"
   ]
  },
  {
   "cell_type": "code",
   "execution_count": 18,
   "outputs": [
    {
     "name": "stdout",
     "output_type": "stream",
     "text": [
      "<class 'pandas.core.frame.DataFrame'>\n"
     ]
    }
   ],
   "source": [
    "# Convert data into format fit for LSTM\n",
    "lstm_processed_data_2 = series_to_supervised(preprocessed_data,\n",
    "                                             window=conf['LSTM_PARAMS']['LSTM_WINDOW_LENGTH'],\n",
    "                                             lag=conf['LSTM_PARAMS']['LSTM_PREDICTION_LAG']\n",
    "                                             )"
   ],
   "metadata": {
    "collapsed": false,
    "pycharm": {
     "name": "#%%\n"
    }
   }
  },
  {
   "cell_type": "code",
   "execution_count": 19,
   "outputs": [],
   "source": [
    "# Split into train-test set\n",
    "X_train, Y_train, X_valid, Y_valid = split_train_valid(lstm_processed_data_2,\n",
    "                                                       test_size=0.2,\n",
    "                                                       lag=conf['LSTM_PARAMS']['LSTM_PREDICTION_LAG']\n",
    "                                                       )"
   ],
   "metadata": {
    "collapsed": false,
    "pycharm": {
     "name": "#%%\n"
    }
   }
  },
  {
   "cell_type": "code",
   "execution_count": 20,
   "outputs": [],
   "source": [
    "# Scale data for training\n",
    "X_train_scaled = data_scaler(X_train, scaled=0, model='lstm')\n",
    "X_valid_scaled = data_scaler(X_valid, scaled=1, model='lstm')"
   ],
   "metadata": {
    "collapsed": false,
    "pycharm": {
     "name": "#%%\n"
    }
   }
  },
  {
   "cell_type": "code",
   "execution_count": 21,
   "outputs": [],
   "source": [
    "# Reshape data for training\n",
    "X_train_series, X_valid_series = reshape_features(X_train, X_valid)"
   ],
   "metadata": {
    "collapsed": false,
    "pycharm": {
     "name": "#%%\n"
    }
   }
  },
  {
   "cell_type": "code",
   "execution_count": 22,
   "outputs": [
    {
     "name": "stdout",
     "output_type": "stream",
     "text": [
      "WARNING:tensorflow:Layer lstm_2 will not use cuDNN kernels since it doesn't meet the criteria. It will use a generic GPU kernel as fallback when running on GPU.\n"
     ]
    }
   ],
   "source": [
    "# Obtain trained LSTM model\n",
    "model_lstm = lstm_model(conf['LSTM_PARAMS'],\n",
    "                        MODEL_DIR,\n",
    "                        X_train_series,\n",
    "                        Y_train,\n",
    "                        X_valid_series,\n",
    "                        Y_valid,\n",
    "                        training_req=0\n",
    "                        )"
   ],
   "metadata": {
    "collapsed": false,
    "pycharm": {
     "name": "#%%\n"
    }
   }
  },
  {
   "cell_type": "code",
   "execution_count": 23,
   "outputs": [
    {
     "name": "stdout",
     "output_type": "stream",
     "text": [
      "5616/5616 [==============================] - 47s 7ms/step\n",
      "SMAPE Error Score: 28.37 %\n"
     ]
    }
   ],
   "source": [
    "# LSTM Evaluation - SMAPE\n",
    "lstm_pred = model_lstm.predict(X_valid_series)\n",
    "lstm_smape = SMAPE(lstm_pred, Y_valid)"
   ],
   "metadata": {
    "collapsed": false,
    "pycharm": {
     "name": "#%%\n"
    }
   }
  },
  {
   "cell_type": "code",
   "execution_count": 24,
   "outputs": [
    {
     "name": "stdout",
     "output_type": "stream",
     "text": [
      "5616/5616 [==============================] - 42s 7ms/step - loss: 334.8450\n"
     ]
    }
   ],
   "source": [
    "# LSTM Evaluation - MSE\n",
    "lstm_mse = model_lstm.evaluate(X_valid_series, Y_valid)"
   ],
   "metadata": {
    "collapsed": false,
    "pycharm": {
     "name": "#%%\n"
    }
   }
  },
  {
   "cell_type": "code",
   "execution_count": 39,
   "outputs": [
    {
     "data": {
      "text/plain": "(179682, 30, 1)"
     },
     "execution_count": 39,
     "metadata": {},
     "output_type": "execute_result"
    }
   ],
   "source": [
    "unshaped_x_valid = X_valid_series.reshape(-1,conf['LSTM_PARAMS']['WIND'])"
   ],
   "metadata": {
    "collapsed": false,
    "pycharm": {
     "name": "#%%\n"
    }
   }
  },
  {
   "cell_type": "code",
   "execution_count": null,
   "outputs": [],
   "source": [],
   "metadata": {
    "collapsed": false,
    "pycharm": {
     "name": "#%%\n"
    }
   }
  },
  {
   "cell_type": "code",
   "execution_count": null,
   "outputs": [],
   "source": [],
   "metadata": {
    "collapsed": false,
    "pycharm": {
     "name": "#%%\n"
    }
   }
  },
  {
   "cell_type": "code",
   "execution_count": null,
   "outputs": [],
   "source": [],
   "metadata": {
    "collapsed": false,
    "pycharm": {
     "name": "#%%\n"
    }
   }
  },
  {
   "cell_type": "code",
   "execution_count": 25,
   "outputs": [
    {
     "data": {
      "text/plain": "<Figure size 432x288 with 1 Axes>",
      "image/png": "[encoded data removed]"
     },
     "metadata": {
      "needs_background": "light"
     },
     "output_type": "display_data"
    }
   ],
   "source": [
    "plot_pred_vs_act(Y_valid[:50],lstm_pred[:50],'LSTM')"
   ],
   "metadata": {
    "collapsed": false,
    "pycharm": {
     "name": "#%%\n"
    }
   }
  },
  {
   "cell_type": "markdown",
   "source": [
    "<h1> XGBoost </h1>"
   ],
   "metadata": {
    "collapsed": false,
    "pycharm": {
     "name": "#%% md\n"
    }
   }
  },
  {
   "cell_type": "code",
   "execution_count": 26,
   "outputs": [
    {
     "name": "stderr",
     "output_type": "stream",
     "text": [
      "C:\\Users\\yashc\\AppData\\Local\\Temp\\ipykernel_20440\\4087673004.py:9: FutureWarning: Series.dt.weekofyear and Series.dt.week have been deprecated. Please use Series.dt.isocalendar().week instead.\n",
      "  data['weekofyear'] = data[date_col].dt.weekofyear\n"
     ]
    }
   ],
   "source": [
    "xgb_data = xgboost_data_preprocessing(preprocessed_data, conf['INDEX_COL'])"
   ],
   "metadata": {
    "collapsed": false,
    "pycharm": {
     "name": "#%%\n"
    }
   }
  },
  {
   "cell_type": "code",
   "execution_count": 27,
   "outputs": [],
   "source": [
    "# Preprocess data to perform aggregation\n",
    "xgb_train_x, xgb_test_x, xgb_train_y, xgb_test_y = train_test_split(\n",
    "    xgb_data.drop([f'{conf[\"INDEX_COL\"]}', f'{conf[\"LABEL_COL\"]}'],axis=1),\n",
    "    xgb_data[conf[\"LABEL_COL\"]],\n",
    "    test_size=0.2\n",
    ")"
   ],
   "metadata": {
    "collapsed": false,
    "pycharm": {
     "name": "#%%\n"
    }
   }
  },
  {
   "cell_type": "code",
   "execution_count": 28,
   "outputs": [],
   "source": [
    "# Train XGBoost model\n",
    "xgb_model, xgb_test_data = xboost(conf['XGB_PARAMS'],\n",
    "                                  MODEL_DIR,\n",
    "                                  xgb_train_x,\n",
    "                                  xgb_train_y,\n",
    "                                  xgb_test_x,\n",
    "                                  xgb_test_y,\n",
    "                                  training_req=0\n",
    "                                  )"
   ],
   "metadata": {
    "collapsed": false,
    "pycharm": {
     "name": "#%%\n"
    }
   }
  },
  {
   "cell_type": "code",
   "execution_count": 29,
   "outputs": [],
   "source": [
    "# Get predictions from XGBoost model\n",
    "xgb_predictions = pd.Series(xgb_model.predict(xgb_test_data))\n",
    "\n",
    "# Transform predictions and actual data for SMAPE\n",
    "xgb_predictions_reshaped = np.array(xgb_predictions).reshape(len(xgb_predictions),1)\n",
    "xgb_test_y_reshaped = np.array(xgb_test_y).reshape(len(xgb_test_y),1)"
   ],
   "metadata": {
    "collapsed": false,
    "pycharm": {
     "name": "#%%\n"
    }
   }
  },
  {
   "cell_type": "code",
   "execution_count": 30,
   "outputs": [
    {
     "name": "stdout",
     "output_type": "stream",
     "text": [
      "SMAPE Error Score: 15.27 %\n"
     ]
    }
   ],
   "source": [
    "# Get SMAPE for XGBoost\n",
    "xgb_smape = SMAPE(xgb_predictions_reshaped, xgb_test_y_reshaped)"
   ],
   "metadata": {
    "collapsed": false,
    "pycharm": {
     "name": "#%%\n"
    }
   }
  },
  {
   "cell_type": "code",
   "execution_count": 31,
   "outputs": [],
   "source": [
    "# MSE Computation\n",
    "xgb_mse = MSE(xgb_test_y_reshaped, xgb_predictions_reshaped)"
   ],
   "metadata": {
    "collapsed": false,
    "pycharm": {
     "name": "#%%\n"
    }
   }
  },
  {
   "cell_type": "code",
   "execution_count": null,
   "outputs": [],
   "source": [],
   "metadata": {
    "collapsed": false,
    "pycharm": {
     "name": "#%%\n"
    }
   }
  },
  {
   "cell_type": "code",
   "execution_count": null,
   "outputs": [],
   "source": [],
   "metadata": {
    "collapsed": false,
    "pycharm": {
     "name": "#%%\n"
    }
   }
  },
  {
   "cell_type": "code",
   "execution_count": null,
   "outputs": [],
   "source": [],
   "metadata": {
    "collapsed": false,
    "pycharm": {
     "name": "#%%\n"
    }
   }
  },
  {
   "cell_type": "markdown",
   "source": [
    "<h1> Comparing the models' metrics </h1>"
   ],
   "metadata": {
    "collapsed": false,
    "pycharm": {
     "name": "#%% md\n"
    }
   }
  },
  {
   "cell_type": "code",
   "execution_count": 32,
   "outputs": [
    {
     "name": "stdout",
     "output_type": "stream",
     "text": [
      "XGB SMAPE- 15.27%\n",
      "LSTM SMAPE- 28.37%\n",
      "XGB MSE- 68.24\n",
      "LSTM MSE- 334.85\n"
     ]
    }
   ],
   "source": [
    "print(f'XGB SMAPE- {xgb_smape}%')\n",
    "print(f'LSTM SMAPE- {lstm_smape}%')\n",
    "\n",
    "print(f'XGB MSE- {xgb_mse:.2f}')\n",
    "print(f'LSTM MSE- {lstm_mse:.2f}')"
   ],
   "metadata": {
    "collapsed": false,
    "pycharm": {
     "name": "#%%\n"
    }
   }
  },
  {
   "cell_type": "code",
   "execution_count": 33,
   "outputs": [
    {
     "data": {
      "text/plain": "array([[25., 30., 16., 21., 21., 23., 26., 18., 29., 24., 21., 15., 23.,\n        25., 22., 30., 20., 32., 25., 22., 35., 30., 44., 21., 22., 21.,\n        23., 31., 36., 29.]])"
     },
     "execution_count": 33,
     "metadata": {},
     "output_type": "execute_result"
    }
   ],
   "source": [
    "X_valid_series[0].transpose()"
   ],
   "metadata": {
    "collapsed": false,
    "pycharm": {
     "name": "#%%\n"
    }
   }
  },
  {
   "cell_type": "code",
   "execution_count": 34,
   "outputs": [
    {
     "data": {
      "text/plain": "35.0"
     },
     "execution_count": 34,
     "metadata": {},
     "output_type": "execute_result"
    }
   ],
   "source": [
    "Y_valid[0]"
   ],
   "metadata": {
    "collapsed": false,
    "pycharm": {
     "name": "#%%\n"
    }
   }
  },
  {
   "cell_type": "code",
   "execution_count": 35,
   "outputs": [
    {
     "data": {
      "text/plain": "        item  store       date  sales\n0          1      1 2013-01-01   13.0\n1          1      1 2013-01-02   11.0\n2          1      1 2013-01-03   14.0\n3          1      1 2013-01-04   13.0\n4          1      1 2013-01-05   10.0\n...      ...    ...        ...    ...\n912995    50     10 2017-12-27   63.0\n912996    50     10 2017-12-28   59.0\n912997    50     10 2017-12-29   74.0\n912998    50     10 2017-12-30   62.0\n912999    50     10 2017-12-31   82.0\n\n[913000 rows x 4 columns]",
      "text/html": "<div>\n<style scoped>\n    .dataframe tbody tr th:only-of-type {\n        vertical-align: middle;\n    }\n\n    .dataframe tbody tr th {\n        vertical-align: top;\n    }\n\n    .dataframe thead th {\n        text-align: right;\n    }\n</style>\n<table border=\"1\" class=\"dataframe\">\n  <thead>\n    <tr style=\"text-align: right;\">\n      <th></th>\n      <th>item</th>\n      <th>store</th>\n      <th>date</th>\n      <th>sales</th>\n    </tr>\n  </thead>\n  <tbody>\n    <tr>\n      <th>0</th>\n      <td>1</td>\n      <td>1</td>\n      <td>2013-01-01</td>\n      <td>13.0</td>\n    </tr>\n    <tr>\n      <th>1</th>\n      <td>1</td>\n      <td>1</td>\n      <td>2013-01-02</td>\n      <td>11.0</td>\n    </tr>\n    <tr>\n      <th>2</th>\n      <td>1</td>\n      <td>1</td>\n      <td>2013-01-03</td>\n      <td>14.0</td>\n    </tr>\n    <tr>\n      <th>3</th>\n      <td>1</td>\n      <td>1</td>\n      <td>2013-01-04</td>\n      <td>13.0</td>\n    </tr>\n    <tr>\n      <th>4</th>\n      <td>1</td>\n      <td>1</td>\n      <td>2013-01-05</td>\n      <td>10.0</td>\n    </tr>\n    <tr>\n      <th>...</th>\n      <td>...</td>\n      <td>...</td>\n      <td>...</td>\n      <td>...</td>\n    </tr>\n    <tr>\n      <th>912995</th>\n      <td>50</td>\n      <td>10</td>\n      <td>2017-12-27</td>\n      <td>63.0</td>\n    </tr>\n    <tr>\n      <th>912996</th>\n      <td>50</td>\n      <td>10</td>\n      <td>2017-12-28</td>\n      <td>59.0</td>\n    </tr>\n    <tr>\n      <th>912997</th>\n      <td>50</td>\n      <td>10</td>\n      <td>2017-12-29</td>\n      <td>74.0</td>\n    </tr>\n    <tr>\n      <th>912998</th>\n      <td>50</td>\n      <td>10</td>\n      <td>2017-12-30</td>\n      <td>62.0</td>\n    </tr>\n    <tr>\n      <th>912999</th>\n      <td>50</td>\n      <td>10</td>\n      <td>2017-12-31</td>\n      <td>82.0</td>\n    </tr>\n  </tbody>\n</table>\n<p>913000 rows × 4 columns</p>\n</div>"
     },
     "execution_count": 35,
     "metadata": {},
     "output_type": "execute_result"
    }
   ],
   "source": [
    "preprocessed_data"
   ],
   "metadata": {
    "collapsed": false,
    "pycharm": {
     "name": "#%%\n"
    }
   }
  },
  {
   "cell_type": "code",
   "execution_count": 36,
   "outputs": [
    {
     "data": {
      "text/plain": "        item  store       date  sales\n912970    50     10 2017-12-02   49.0\n912971    50     10 2017-12-03   75.0\n912972    50     10 2017-12-04   54.0\n912973    50     10 2017-12-05   68.0\n912974    50     10 2017-12-06   60.0\n912975    50     10 2017-12-07   66.0\n912976    50     10 2017-12-08   67.0\n912977    50     10 2017-12-09   69.0\n912978    50     10 2017-12-10   69.0\n912979    50     10 2017-12-11   54.0\n912980    50     10 2017-12-12   67.0\n912981    50     10 2017-12-13   67.0\n912982    50     10 2017-12-14   72.0\n912983    50     10 2017-12-15   72.0\n912984    50     10 2017-12-16   52.0\n912985    50     10 2017-12-17   86.0\n912986    50     10 2017-12-18   53.0\n912987    50     10 2017-12-19   54.0\n912988    50     10 2017-12-20   51.0\n912989    50     10 2017-12-21   63.0\n912990    50     10 2017-12-22   75.0\n912991    50     10 2017-12-23   70.0\n912992    50     10 2017-12-24   76.0\n912993    50     10 2017-12-25   51.0\n912994    50     10 2017-12-26   41.0\n912995    50     10 2017-12-27   63.0\n912996    50     10 2017-12-28   59.0\n912997    50     10 2017-12-29   74.0\n912998    50     10 2017-12-30   62.0\n912999    50     10 2017-12-31   82.0",
      "text/html": "<div>\n<style scoped>\n    .dataframe tbody tr th:only-of-type {\n        vertical-align: middle;\n    }\n\n    .dataframe tbody tr th {\n        vertical-align: top;\n    }\n\n    .dataframe thead th {\n        text-align: right;\n    }\n</style>\n<table border=\"1\" class=\"dataframe\">\n  <thead>\n    <tr style=\"text-align: right;\">\n      <th></th>\n      <th>item</th>\n      <th>store</th>\n      <th>date</th>\n      <th>sales</th>\n    </tr>\n  </thead>\n  <tbody>\n    <tr>\n      <th>912970</th>\n      <td>50</td>\n      <td>10</td>\n      <td>2017-12-02</td>\n      <td>49.0</td>\n    </tr>\n    <tr>\n      <th>912971</th>\n      <td>50</td>\n      <td>10</td>\n      <td>2017-12-03</td>\n      <td>75.0</td>\n    </tr>\n    <tr>\n      <th>912972</th>\n      <td>50</td>\n      <td>10</td>\n      <td>2017-12-04</td>\n      <td>54.0</td>\n    </tr>\n    <tr>\n      <th>912973</th>\n      <td>50</td>\n      <td>10</td>\n      <td>2017-12-05</td>\n      <td>68.0</td>\n    </tr>\n    <tr>\n      <th>912974</th>\n      <td>50</td>\n      <td>10</td>\n      <td>2017-12-06</td>\n      <td>60.0</td>\n    </tr>\n    <tr>\n      <th>912975</th>\n      <td>50</td>\n      <td>10</td>\n      <td>2017-12-07</td>\n      <td>66.0</td>\n    </tr>\n    <tr>\n      <th>912976</th>\n      <td>50</td>\n      <td>10</td>\n      <td>2017-12-08</td>\n      <td>67.0</td>\n    </tr>\n    <tr>\n      <th>912977</th>\n      <td>50</td>\n      <td>10</td>\n      <td>2017-12-09</td>\n      <td>69.0</td>\n    </tr>\n    <tr>\n      <th>912978</th>\n      <td>50</td>\n      <td>10</td>\n      <td>2017-12-10</td>\n      <td>69.0</td>\n    </tr>\n    <tr>\n      <th>912979</th>\n      <td>50</td>\n      <td>10</td>\n      <td>2017-12-11</td>\n      <td>54.0</td>\n    </tr>\n    <tr>\n      <th>912980</th>\n      <td>50</td>\n      <td>10</td>\n      <td>2017-12-12</td>\n      <td>67.0</td>\n    </tr>\n    <tr>\n      <th>912981</th>\n      <td>50</td>\n      <td>10</td>\n      <td>2017-12-13</td>\n      <td>67.0</td>\n    </tr>\n    <tr>\n      <th>912982</th>\n      <td>50</td>\n      <td>10</td>\n      <td>2017-12-14</td>\n      <td>72.0</td>\n    </tr>\n    <tr>\n      <th>912983</th>\n      <td>50</td>\n      <td>10</td>\n      <td>2017-12-15</td>\n      <td>72.0</td>\n    </tr>\n    <tr>\n      <th>912984</th>\n      <td>50</td>\n      <td>10</td>\n      <td>2017-12-16</td>\n      <td>52.0</td>\n    </tr>\n    <tr>\n      <th>912985</th>\n      <td>50</td>\n      <td>10</td>\n      <td>2017-12-17</td>\n      <td>86.0</td>\n    </tr>\n    <tr>\n      <th>912986</th>\n      <td>50</td>\n      <td>10</td>\n      <td>2017-12-18</td>\n      <td>53.0</td>\n    </tr>\n    <tr>\n      <th>912987</th>\n      <td>50</td>\n      <td>10</td>\n      <td>2017-12-19</td>\n      <td>54.0</td>\n    </tr>\n    <tr>\n      <th>912988</th>\n      <td>50</td>\n      <td>10</td>\n      <td>2017-12-20</td>\n      <td>51.0</td>\n    </tr>\n    <tr>\n      <th>912989</th>\n      <td>50</td>\n      <td>10</td>\n      <td>2017-12-21</td>\n      <td>63.0</td>\n    </tr>\n    <tr>\n      <th>912990</th>\n      <td>50</td>\n      <td>10</td>\n      <td>2017-12-22</td>\n      <td>75.0</td>\n    </tr>\n    <tr>\n      <th>912991</th>\n      <td>50</td>\n      <td>10</td>\n      <td>2017-12-23</td>\n      <td>70.0</td>\n    </tr>\n    <tr>\n      <th>912992</th>\n      <td>50</td>\n      <td>10</td>\n      <td>2017-12-24</td>\n      <td>76.0</td>\n    </tr>\n    <tr>\n      <th>912993</th>\n      <td>50</td>\n      <td>10</td>\n      <td>2017-12-25</td>\n      <td>51.0</td>\n    </tr>\n    <tr>\n      <th>912994</th>\n      <td>50</td>\n      <td>10</td>\n      <td>2017-12-26</td>\n      <td>41.0</td>\n    </tr>\n    <tr>\n      <th>912995</th>\n      <td>50</td>\n      <td>10</td>\n      <td>2017-12-27</td>\n      <td>63.0</td>\n    </tr>\n    <tr>\n      <th>912996</th>\n      <td>50</td>\n      <td>10</td>\n      <td>2017-12-28</td>\n      <td>59.0</td>\n    </tr>\n    <tr>\n      <th>912997</th>\n      <td>50</td>\n      <td>10</td>\n      <td>2017-12-29</td>\n      <td>74.0</td>\n    </tr>\n    <tr>\n      <th>912998</th>\n      <td>50</td>\n      <td>10</td>\n      <td>2017-12-30</td>\n      <td>62.0</td>\n    </tr>\n    <tr>\n      <th>912999</th>\n      <td>50</td>\n      <td>10</td>\n      <td>2017-12-31</td>\n      <td>82.0</td>\n    </tr>\n  </tbody>\n</table>\n</div>"
     },
     "execution_count": 36,
     "metadata": {},
     "output_type": "execute_result"
    }
   ],
   "source": [
    "preprocessed_data.iloc[-30:]"
   ],
   "metadata": {
    "collapsed": false,
    "pycharm": {
     "name": "#%%\n"
    }
   }
  },
  {
   "cell_type": "code",
   "execution_count": 36,
   "outputs": [],
   "source": [],
   "metadata": {
    "collapsed": false,
    "pycharm": {
     "name": "#%%\n"
    }
   }
  }
 ],
 "metadata": {
  "kernelspec": {
   "display_name": "Python 3",
   "language": "python",
   "name": "python3"
  },
  "language_info": {
   "codemirror_mode": {
    "name": "ipython",
    "version": 2
   },
   "file_extension": ".py",
   "mimetype": "text/x-python",
   "name": "python",
   "nbconvert_exporter": "python",
   "pygments_lexer": "ipython2",
   "version": "2.7.6"
  }
 },
 "nbformat": 4,
 "nbformat_minor": 0
}